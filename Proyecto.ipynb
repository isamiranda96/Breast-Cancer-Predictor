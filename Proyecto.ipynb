{
 "cells": [
  {
   "cell_type": "markdown",
   "metadata": {},
   "source": [
    "# Proyecto\n",
    "\n",
    "\n",
    "En este proyecto vamos a hacer machine learning aplicado al ámbito medico ,específicamente diagnostico medico.\n",
    "Vamos a crear una aplicación que ayuda a diagnosticar si un tumor de seno es cancerígeno (maligno) o no (benigno)   .\n",
    "Para lograr esto vamos a utilizar un set de datos recopilado por diversos médicos , el cual contiene características de tumores de seno y el diagnostico final . Este es un problema de clasificación binaria ya que solo tenemos dos clases(maligno o benigno), se va a implementar regresión logística para obtener la probabilidad de que el tumor sea maligno.\n",
    "\n",
    "<img src=\"images/ai_cancer.png\" width=\"300\">\n",
    "\n",
    "Según lo visto en la clase en este proyecto el estudiante hará  todo el proceso de entrenamiento, evaluación y selección del modelo de machine learning(pasos 1 al 5 del diagrama de flujo de ejemplo) ,luego de seleccionar el mejor va a exportar el modelo (como fue explicado en la clase deployment/despliegue de modelos y va a entregarlo al profesor) ya que  este será utilizado dentro de una aplicación móvil (desarrollada por el profesor, paso 6 del diagrama )\n",
    "\n",
    "\n",
    "<img src=\"images/diagrama.png\" width=\"700\">"
   ]
  },
  {
   "cell_type": "code",
   "execution_count": 49,
   "metadata": {},
   "outputs": [],
   "source": [
    "from sklearn.datasets import load_breast_cancer\n",
    "from sklearn.model_selection import train_test_split\n",
    "from sklearn.linear_model import LogisticRegression\n",
    "import numpy as np\n",
    "from sklearn.utils import resample\n",
    "from sklearn.metrics import accuracy_score, confusion_matrix, precision_score, recall_score, f1_score\n",
    "import datetime\n",
    "import helper"
   ]
  },
  {
   "cell_type": "markdown",
   "metadata": {},
   "source": [
    "## Registro de Experimentos\n",
    "En machine learning y ciencia de datos es importante tener un registro de los resultados de cada experimento realizado, así como la configuración del sistema(tal como learning-rate, numero de iteraciones, cantidad de observaciones y features, etc) que llevo a determinados resultados, esto porque el proceso puede llegar a ser muy iterativo y nos es útil saber en todo momento que caso tuvo los mejores resultados. Por esta razón en este proyecto utilizamos una bitácora o log-book científico en el cual tenemos la configuración de nuestros modelos y los resultados(métricas de evaluación) de cada uno."
   ]
  },
  {
   "cell_type": "code",
   "execution_count": 50,
   "metadata": {},
   "outputs": [],
   "source": [
    "log_book = helper.load_log_book()"
   ]
  },
  {
   "cell_type": "markdown",
   "metadata": {},
   "source": [
    "Una vez la bitacora contenga informacion ,puedes consultarla en cualquier celda usando:\n",
    "\n",
    "helper.print_log_book(log_book)"
   ]
  },
  {
   "cell_type": "markdown",
   "metadata": {},
   "source": [
    "Para guardar la bitacora (una vez has capturado el resultado de los experimentos que realizaremos) usaremos el siguiente codigo(hay mas detalles mas adelante)\n",
    "\n",
    "helper.guardar_log_book(log_book)"
   ]
  },
  {
   "cell_type": "markdown",
   "metadata": {},
   "source": [
    "## Carnet estudiante"
   ]
  },
  {
   "cell_type": "markdown",
   "metadata": {},
   "source": [
    " La aplicación móvil resultante tendrá un modelo por estudiante, por lo cual es importante identificar a que estudiante pertenece cada modelo, por esta razón  en el proceso de exportar el modelo el archivo resultante tendrá en su nombre el carnet del estudiante. \n",
    " \n",
    " En una variable deben ingresar su numero de carnet, para que al exportar el modelo el archivo se llame `carnet+\"model.csv\"`. Por ejemplo 200818835model.csv"
   ]
  },
  {
   "cell_type": "code",
   "execution_count": 51,
   "metadata": {},
   "outputs": [],
   "source": [
    "carnet = \"20150263\""
   ]
  },
  {
   "cell_type": "markdown",
   "metadata": {},
   "source": [
    "## Breast Cancer Data Set\n",
    "\n",
    "El dataset que usaremos contiene varias características(features) , más adelante encontraras instrucciones de cómo trabajar con estas. En el siguiente enlace puedes acceder a mayor información y detalles del dataset.\n",
    "\n",
    "[Link al set de datos](http://scikit-learn.org/stable/modules/generated/sklearn.datasets.load_breast_cancer.html#sklearn.datasets.load_breast_cancer)\n",
    "\n",
    "#### Data Set Information:\n",
    "\n",
    "Features are computed from a digitized image of a fine needle aspirate (FNA) of a breast mass. They describe characteristics of the cell nuclei present in the image. A few of the images can be found at [Web Link] \n",
    "\n",
    "Separating plane described above was obtained using Multisurface Method-Tree (MSM-T) [K. P. Bennett, \"Decision Tree Construction Via Linear Programming.\" Proceedings of the 4th Midwest Artificial Intelligence and Cognitive Science Society, pp. 97-101, 1992], a classification method which uses linear programming to construct a decision tree. Relevant features were selected using an exhaustive search in the space of 1-4 features and 1-3 separating planes. \n",
    "\n",
    "The actual linear program used to obtain the separating plane in the 3-dimensional space is that described in: [K. P. Bennett and O. L. Mangasarian: \"Robust Linear Programming Discrimination of Two Linearly Inseparable Sets\", Optimization Methods and Software 1, 1992, 23-34]. "
   ]
  },
  {
   "cell_type": "code",
   "execution_count": 52,
   "metadata": {},
   "outputs": [],
   "source": [
    "data = load_breast_cancer()"
   ]
  },
  {
   "cell_type": "markdown",
   "metadata": {},
   "source": [
    "Este es un problema de clasificacion binario por que que existen solo dos posibles valores(predecimos tumores cancerigenos de seno)"
   ]
  },
  {
   "cell_type": "code",
   "execution_count": 53,
   "metadata": {},
   "outputs": [
    {
     "data": {
      "text/plain": [
       "array(['malignant', 'benign'], dtype='<U9')"
      ]
     },
     "execution_count": 53,
     "metadata": {},
     "output_type": "execute_result"
    }
   ],
   "source": [
    "data.target_names"
   ]
  },
  {
   "cell_type": "markdown",
   "metadata": {},
   "source": [
    "El data set tiene varios features, por lo  que debemos experimentar con diferentes features y analizar los resultados, en esta celda vamos a imprimir los nombres de las features que poseemos.\n",
    "\n",
    "En este [link](https://goo.gl/U2Uwz2) podemos encontrar mas información sobre las features.\n",
    "\n",
    "Nota: Aunque a lo largo del proyecto, usaremos distintas features para entrenar diversos modelos y entender cómo funciona el proceso de ML y el impacto del uso de diversas features, en el resultado final (el modelo que será exportado e integrado a la aplicación móvil) solo usaremos las primeras 5 features.\n",
    "\n"
   ]
  },
  {
   "cell_type": "code",
   "execution_count": 54,
   "metadata": {},
   "outputs": [
    {
     "data": {
      "text/plain": [
       "array(['mean radius', 'mean texture', 'mean perimeter', 'mean area',\n",
       "       'mean smoothness', 'mean compactness', 'mean concavity',\n",
       "       'mean concave points', 'mean symmetry', 'mean fractal dimension',\n",
       "       'radius error', 'texture error', 'perimeter error', 'area error',\n",
       "       'smoothness error', 'compactness error', 'concavity error',\n",
       "       'concave points error', 'symmetry error',\n",
       "       'fractal dimension error', 'worst radius', 'worst texture',\n",
       "       'worst perimeter', 'worst area', 'worst smoothness',\n",
       "       'worst compactness', 'worst concavity', 'worst concave points',\n",
       "       'worst symmetry', 'worst fractal dimension'], dtype='<U23')"
      ]
     },
     "execution_count": 54,
     "metadata": {},
     "output_type": "execute_result"
    }
   ],
   "source": [
    "data.feature_names"
   ]
  },
  {
   "cell_type": "markdown",
   "metadata": {},
   "source": [
    "muestra de las primeras 5 labels/etiquetas"
   ]
  },
  {
   "cell_type": "code",
   "execution_count": 55,
   "metadata": {},
   "outputs": [
    {
     "data": {
      "text/plain": [
       "array([0, 0, 0, 0, 0])"
      ]
     },
     "execution_count": 55,
     "metadata": {},
     "output_type": "execute_result"
    }
   ],
   "source": [
    "data.target[0:5]"
   ]
  },
  {
   "cell_type": "markdown",
   "metadata": {},
   "source": [
    "las features para estos 5 casos de ejemplo"
   ]
  },
  {
   "cell_type": "code",
   "execution_count": 56,
   "metadata": {},
   "outputs": [
    {
     "data": {
      "text/plain": [
       "array([[1.799e+01, 1.038e+01, 1.228e+02, 1.001e+03, 1.184e-01, 2.776e-01,\n",
       "        3.001e-01, 1.471e-01, 2.419e-01, 7.871e-02, 1.095e+00, 9.053e-01,\n",
       "        8.589e+00, 1.534e+02, 6.399e-03, 4.904e-02, 5.373e-02, 1.587e-02,\n",
       "        3.003e-02, 6.193e-03, 2.538e+01, 1.733e+01, 1.846e+02, 2.019e+03,\n",
       "        1.622e-01, 6.656e-01, 7.119e-01, 2.654e-01, 4.601e-01, 1.189e-01],\n",
       "       [2.057e+01, 1.777e+01, 1.329e+02, 1.326e+03, 8.474e-02, 7.864e-02,\n",
       "        8.690e-02, 7.017e-02, 1.812e-01, 5.667e-02, 5.435e-01, 7.339e-01,\n",
       "        3.398e+00, 7.408e+01, 5.225e-03, 1.308e-02, 1.860e-02, 1.340e-02,\n",
       "        1.389e-02, 3.532e-03, 2.499e+01, 2.341e+01, 1.588e+02, 1.956e+03,\n",
       "        1.238e-01, 1.866e-01, 2.416e-01, 1.860e-01, 2.750e-01, 8.902e-02],\n",
       "       [1.969e+01, 2.125e+01, 1.300e+02, 1.203e+03, 1.096e-01, 1.599e-01,\n",
       "        1.974e-01, 1.279e-01, 2.069e-01, 5.999e-02, 7.456e-01, 7.869e-01,\n",
       "        4.585e+00, 9.403e+01, 6.150e-03, 4.006e-02, 3.832e-02, 2.058e-02,\n",
       "        2.250e-02, 4.571e-03, 2.357e+01, 2.553e+01, 1.525e+02, 1.709e+03,\n",
       "        1.444e-01, 4.245e-01, 4.504e-01, 2.430e-01, 3.613e-01, 8.758e-02],\n",
       "       [1.142e+01, 2.038e+01, 7.758e+01, 3.861e+02, 1.425e-01, 2.839e-01,\n",
       "        2.414e-01, 1.052e-01, 2.597e-01, 9.744e-02, 4.956e-01, 1.156e+00,\n",
       "        3.445e+00, 2.723e+01, 9.110e-03, 7.458e-02, 5.661e-02, 1.867e-02,\n",
       "        5.963e-02, 9.208e-03, 1.491e+01, 2.650e+01, 9.887e+01, 5.677e+02,\n",
       "        2.098e-01, 8.663e-01, 6.869e-01, 2.575e-01, 6.638e-01, 1.730e-01],\n",
       "       [2.029e+01, 1.434e+01, 1.351e+02, 1.297e+03, 1.003e-01, 1.328e-01,\n",
       "        1.980e-01, 1.043e-01, 1.809e-01, 5.883e-02, 7.572e-01, 7.813e-01,\n",
       "        5.438e+00, 9.444e+01, 1.149e-02, 2.461e-02, 5.688e-02, 1.885e-02,\n",
       "        1.756e-02, 5.115e-03, 2.254e+01, 1.667e+01, 1.522e+02, 1.575e+03,\n",
       "        1.374e-01, 2.050e-01, 4.000e-01, 1.625e-01, 2.364e-01, 7.678e-02]])"
      ]
     },
     "execution_count": 56,
     "metadata": {},
     "output_type": "execute_result"
    }
   ],
   "source": [
    "data.data[0:5,]"
   ]
  },
  {
   "cell_type": "markdown",
   "metadata": {},
   "source": [
    "# Implementación de Regresión Logística "
   ]
  },
  {
   "cell_type": "markdown",
   "metadata": {},
   "source": [
    "## Hipótesis\n",
    "Función Sigmoid:\n",
    "\n",
    "$sig(t) = {\\frac {1} {1 + e^{-t}}}$\n",
    "\n",
    "Combinamos la función sigmoid/lógistica con la  hipótesis conocida (aprendida en regresión lineal) y tenemos la nueva hipótesis para clasificación con regresión lógistica:\n",
    "\n",
    "$z = \\theta_{0} + \\theta_{1}x_{1} + \\theta_{2}x_{2} + \\ldots + \\theta_{n}x_{n}$\n",
    "\n",
    "$g(z) = {\\frac {1} {1 + e^{-z}}}$\n",
    "\n",
    "** Hipótesis para clasificación con regresión logística: **\n",
    "\n",
    "$h_{\\theta}(x) = {\\frac {1} {1 + e^{-(\\theta_{0} + \\theta_{1}x_{1} + \\theta_{2}x_{2} + \\ldots + \\theta_{n}x_{n})}}}$"
   ]
  },
  {
   "cell_type": "code",
   "execution_count": 57,
   "metadata": {},
   "outputs": [],
   "source": [
    "## Sigmoid \n",
    "\n",
    "def sigmoid(z):\n",
    "    ### INICIO: TU CODIGO AQUI:  (~1 linea)###\n",
    "    s = 1/(1 + np.exp(-z))\n",
    "    ### FIN ##\n",
    "    \n",
    "    return s"
   ]
  },
  {
   "cell_type": "code",
   "execution_count": 58,
   "metadata": {},
   "outputs": [
    {
     "name": "stdout",
     "output_type": "stream",
     "text": [
      "sigmoid(0) = 0.5\n",
      "sigmoid(9.2) = 0.9998989708060922\n"
     ]
    }
   ],
   "source": [
    "### Validando nuestra funcion sigmoid\n",
    "print (\"sigmoid(0) = \" + str(sigmoid(0)))\n",
    "print (\"sigmoid(9.2) = \" + str(sigmoid(9.2)))"
   ]
  },
  {
   "cell_type": "markdown",
   "metadata": {},
   "source": [
    "#### Resultados esperados\n",
    "\n",
    "**sigmoid(0)** = 0.5\n",
    "\n",
    "**sigmoid(9.2)** = 0.999898970806\n"
   ]
  },
  {
   "cell_type": "markdown",
   "metadata": {},
   "source": [
    "Implementado la hipótesis/modelo para clasificación con regresión logística\n",
    "\n",
    "** Hipótesis para clasificación con regresión logística: **\n",
    "\n",
    "$h_{\\theta}(x) = {\\frac {1} {1 + e^{-(\\theta_{0} + \\theta_{1}x_{1} + \\theta_{2}x_{2} + \\ldots + \\theta_{n}x_{n})}}}$"
   ]
  },
  {
   "cell_type": "code",
   "execution_count": 59,
   "metadata": {},
   "outputs": [],
   "source": [
    "def get_hipotesis(features, theta_values):\n",
    "    ## Calculo de la hipotesis de froma vectorizada,producto punto entre el vector de features y el vector de parametros theta ##\n",
    "    z = features.dot(theta_values)\n",
    "    \n",
    "    ### INICIO: TU CODIGO AQUI:  (~1 linea)###\n",
    "    h = sigmoid(z)\n",
    "    ### FIN ##\n",
    "    \n",
    "    return h"
   ]
  },
  {
   "cell_type": "markdown",
   "metadata": {},
   "source": [
    "# Métricas de evaluación\n",
    "\n",
    "Tal como lo vimos en la clase 22: evaluación , utilizamos diversas métricas para evaluar y reportar la exactitud y rendimiento de nuestros modelos de machine learning. En clasificación usamos el costo: cross-entropy para entrenar, pero evaluamos y reportamos diversas métricas mas ."
   ]
  },
  {
   "cell_type": "markdown",
   "metadata": {},
   "source": [
    "## Costo\n",
    "\n",
    "El proceso de gradient descent busca minimizar la siguiente función de costo en función de los parámetros theta, y así encontrar los parámetros que producen una hipótesis optima. \n",
    "\n",
    "El costo mide que tan buena o mala es una hipótesis por lo cual esperamos que este disminuya durante el entrenamiento.\n",
    "\n",
    "$J(\\Theta) = - {\\frac {1}{m}}\\sum _{i=1}^{m} y \\log(h(x)) + (1-y)\\log(1-h(x))$\n",
    "\n",
    "Utiliza la funcion log de numpy, Ejemplo:\n",
    "`np.log(y)`"
   ]
  },
  {
   "cell_type": "code",
   "execution_count": 60,
   "metadata": {},
   "outputs": [],
   "source": [
    "def costo(X, theta_vector, y):\n",
    "    m = len(y)\n",
    "    \n",
    "    ### INICIO: TU CODIGO AQUI:  (~2 lineas)###\n",
    "    y_hat = get_hipotesis(X, theta_vector)\n",
    "    \n",
    "    costo = -(np.sum(y*(np.log(y_hat))+((1-y)*np.log(1-y_hat))))/m\n",
    "    ### FIN ##\n",
    "    \n",
    "    return costo"
   ]
  },
  {
   "cell_type": "markdown",
   "metadata": {},
   "source": [
    "## Accuracy Score\n",
    "\n",
    "Implementa la funcion de accuracy utlizando sklearn(puedes utilizar como referencia la clase 22: evaluación )"
   ]
  },
  {
   "cell_type": "code",
   "execution_count": 61,
   "metadata": {},
   "outputs": [],
   "source": [
    "def accuracy(X, theta_vector, y):\n",
    "\n",
    "    hipotesis = get_hipotesis(X, theta_vector)\n",
    "    \n",
    "    # Convertimos el resultado probabilistico a deterministico (0 1)\n",
    "    y_pred = [1 if (y >= 0.5) else 0 for y in hipotesis ]\n",
    "    \n",
    "    ### INICIO: TU CODIGO AQUI:  (~1 linea)###\n",
    "    acc_score = accuracy_score(y, y_pred)\n",
    "\n",
    "    ### FIN ##\n",
    "    \n",
    "    return acc_score"
   ]
  },
  {
   "cell_type": "markdown",
   "metadata": {},
   "source": [
    "## F1 Score\n",
    "\n",
    "Implementa la funcion de f1_score utlizando sklearn(puedes utilizar como referencia la clase 22: evaluación )"
   ]
  },
  {
   "cell_type": "code",
   "execution_count": 62,
   "metadata": {},
   "outputs": [],
   "source": [
    "def f1(X, theta_vector, y):\n",
    "\n",
    "    hipotesis = get_hipotesis(X, theta_vector)\n",
    "\n",
    "    # Convertimos el resultado probabilistico a deterministico (0 1)    \n",
    "    y_pred = [1 if (y >= 0.5) else 0 for y in hipotesis ]\n",
    "    \n",
    "    ## INICIO: TU CODIGO AQUI:  (~1 linea)###\n",
    "    f1 = f1_score(y,y_pred)\n",
    "    ### FIN ##\n",
    "    \n",
    "    return f1"
   ]
  },
  {
   "cell_type": "markdown",
   "metadata": {},
   "source": [
    "## Precision Score\n",
    "\n",
    "Implementa la funcion de precision_score utlizando sklearn(puedes utilizar como referencia la clase 22: evaluación )"
   ]
  },
  {
   "cell_type": "code",
   "execution_count": 63,
   "metadata": {},
   "outputs": [],
   "source": [
    "def precision(X, theta_vector, y):\n",
    "\n",
    "    hipotesis = get_hipotesis(X, theta_vector)\n",
    "\n",
    "    # Convertimos el resultado probabilistico a deterministico (0 1)    \n",
    "    y_pred = [1 if (y >= 0.5) else 0 for y in hipotesis ]\n",
    "    \n",
    "    ## INICIO: TU CODIGO AQUI:  (~1 linea)###\n",
    "    precision = precision_score(y, y_pred)\n",
    "    ### FIN ##\n",
    "    \n",
    "    return precision"
   ]
  },
  {
   "cell_type": "markdown",
   "metadata": {},
   "source": [
    "## Recall Score\n",
    "\n",
    "Implementa la funcion de recall_score utlizando sklearn(puedes utilizar como referencia la clase 22: evaluación )"
   ]
  },
  {
   "cell_type": "code",
   "execution_count": 64,
   "metadata": {},
   "outputs": [],
   "source": [
    "def recall(X, theta_vector, y):\n",
    "\n",
    "    hipotesis = get_hipotesis(X, theta_vector)\n",
    "\n",
    "    # Convertimos el resultado probabilistico a deterministico (0 1)    \n",
    "    y_pred = [1 if (y >= 0.5) else 0 for y in hipotesis ]\n",
    "    \n",
    "    ## INICIO: TU CODIGO AQUI:  (~1 linea)###\n",
    "    reacall = recall_score(y, y_pred)\n",
    "    ### FIN ##\n",
    "    \n",
    "    return recall"
   ]
  },
  {
   "cell_type": "markdown",
   "metadata": {},
   "source": [
    "# Pre-procesamiento\n",
    "\n",
    "En Machine learning, la fase de pre-procesamiento(incluyendo feature engineering) de datos puede llegar a abarcar el 70% o más del tiempo de un proyecto , pero este es un tema que se profundiza en otros cursos del área de ciencia de datos por lo cual en este proyecto solo vamos a realizar como pre-procesamiento una normalización de features."
   ]
  },
  {
   "cell_type": "markdown",
   "metadata": {},
   "source": [
    "### Estandarización o Z-score Normalizacion \n",
    "\n",
    "El objetivo de la normalización es ayudar a gradient descent a encontrar el mínimo del costo mas rápido y fácilmente , esto se logra a través de convertir las features de manera que tengan media = 0 y desviación estándar de 1 , similar a una distribución de probabilidad normal(gaussiana).\n",
    "\n",
    "Lo calculamos utilizando:\n",
    "\n",
    "$z = {\\frac {x - \\mu} {\\sigma}}$\n",
    "\n",
    "Donde $\\mu$ es la media y $\\sigma$ es la desviacion estandard\n",
    "\n",
    "##### Comentario opcional:\n",
    "el Z-score en el nombre concuerda con el uso de \"z-scores\" en estadística cuando se hace estadística inferencial(prueba de hipótesis e intervalos de confianza)\n",
    "\n",
    "Implementa la funcion de normalizacion sin utlizar sklearn solo puedes utilizar numpy.\n",
    "\n",
    "Para utilizar la columna de features, utilizamos `features[:,i]`"
   ]
  },
  {
   "cell_type": "code",
   "execution_count": 66,
   "metadata": {},
   "outputs": [],
   "source": [
    "def normalizar(features):\n",
    "    std = 1\n",
    "    media = 0\n",
    "    \n",
    "    # Utilizamos el ciclo, para normalizar cada feature(una iteracion por feature)\n",
    "    for i in list(range(0, features.shape[1])):\n",
    "        ### INICIO: TU CODIGO AQUI:  (~3 lineas)###\n",
    "        std = np.std(features[:,i])\n",
    "        media = np.mean(features[:,i])\n",
    "        features[:,i] = (features[:,i]-media)/std\n",
    "        ### FIN ##\n",
    "    return features"
   ]
  },
  {
   "cell_type": "markdown",
   "metadata": {},
   "source": [
    "## Prediccion\n",
    "\n",
    "Una vez entrenado, el modelo de ML se utiliza para realizar predicciones ,en este proyecto realizaremos predicciones en un train y un test set(no usaremos cross-validation set)  .Una  vez exportado y entregado el modelo al profesor, el modelo realizara predicciones dentro de una aplicación móvil . \n",
    "\n",
    "La siguiente función la vamos a utilizar para realizar predicciones a lo largo del proyecto(y así poder medir contra los datos reales para realizar evaluación), no hay que cambiar nada del código, solo ejecuta la celda."
   ]
  },
  {
   "cell_type": "code",
   "execution_count": 67,
   "metadata": {},
   "outputs": [],
   "source": [
    "def prediccion(x, theta_vector, normalizar_valores):\n",
    "    numero_features = x.shape[1] + 1\n",
    "    \n",
    "    if (normalizar_valores):\n",
    "        x = normalizar(x)\n",
    "    \n",
    "    x_features = np.ones((x.shape[0], numero_features))\n",
    "    x_features[:,:-1] = x\n",
    "\n",
    "    \n",
    "    y_hat = get_hipotesis(x_features, theta_vector)\n",
    "    \n",
    "    return np.array([1 if (y >= 0.5) else 0 for y in y_hat])"
   ]
  },
  {
   "cell_type": "markdown",
   "metadata": {
    "collapsed": true
   },
   "source": [
    "## Gradient Descent\n",
    "\n",
    "Gradient descent es el algoritmo o método de optimización matemática que nos permite realizar el “entrenamiento” de nuestro modelos, ya que minimiza el costo y nos devuelve los parámetros del modelo óptimos.\n",
    "\n",
    "En la siguiente celda, debes implementar gradient descent tal como visto en clase y practicado en las tareas .\n",
    "\n",
    "Lo definimos e implementamos dentro de una función de Python para que podamos ejecutarlo(“llamarlo”) múltiples veces con distintos parámetros, sin tener que volver a programarlo cada vez , esto nos será útil para experimentar y entrenar varios modelos.\n",
    "\n",
    "Repetir{\n",
    "\n",
    "$\\theta_{j} := \\theta _{j} - \\alpha {\\frac {1}{m}} \\sum _{i=1}^{m}(h_{\\theta}(x^{(i)})-y^{(i)})x^{(i)}_{j}$\n",
    "\n",
    "}\n",
    "        \n",
    "Simultaneamente para cada $j = 0,\\ldots,n $"
   ]
  },
  {
   "cell_type": "code",
   "execution_count": 68,
   "metadata": {},
   "outputs": [],
   "source": [
    "def gradient_descent(X, y, theta_vector, alpha, iterations, X_test, y_test, nombre_modelo):\n",
    "    global log_book\n",
    "    m = len(y)  #numero de ejemplos de entrenamiento\n",
    "\n",
    "    ## Las siguientes 3 lineas de codigo crean listas vacias para almacenar el costo y accuracy obtenido en cada iteracion\n",
    "    ## Se espera que el costo disminuya y el accuracy aumente\n",
    "    cost_vect = []\n",
    "    accuracy_vect = []\n",
    "    accuracy_vect_test = []\n",
    "    \n",
    "    for iteration in range(iterations):\n",
    "        '''\n",
    "        IMPLELEMTA TU CODIGO AQUI, llama a la funcion para calcular la hipotesis,es decir calcular h(x)\n",
    "        que se implemento mas arriba. Parametros matriz de features X y el vector\n",
    "        con los valores Theta (~1 linea)\n",
    "        '''\n",
    "        hipotesis = get_hipotesis(X, theta_vector)\n",
    "\n",
    "\n",
    "        theta_vector_temp = [] # vector que guarda los parametros theta temporales\n",
    "        \n",
    "        # Utilizamos un ciclo para realizar la actualizacion de gradient descent una vez para cada parametro\n",
    "        # En cada iteracion \"i\" guarda el numero de parametro theta, y la varaible \"theta\" guarda el parametro como tal\n",
    "        for i, theta in enumerate(theta_vector):\n",
    "            '''\n",
    "            IMPLELEMTA TU CODIGO AQUI, adentro de este ciclo vamos a calcular\n",
    "            elnuevo valor de Theta[i], utilizando la formula de la celda de arriba\n",
    "            Recuerda que para multiplicar por utilizamos X[:,i]  (~1 linea)\n",
    "            '''\n",
    "            nuevo_theta =  theta - ((alpha/m)*np.sum(np.subtract(hipotesis,y)*X[:,i]))\n",
    "\n",
    "            ### aqui agregamos el nuevo valor the theta[i] a un vector temporal\n",
    "            theta_vector_temp.append(nuevo_theta)\n",
    "\n",
    "\n",
    "        ## Actualizamos el vector theta con los nuevos valores\n",
    "        theta_vector = theta_vector_temp\n",
    "\n",
    "        # En las sigiuentes lineas calculamos las metricas de evaluacion en cada iteracion(aplicadas al train-set)\n",
    "        '''\n",
    "        IMPLEMENTA TU CODIGO AQUI, llama a la funcion de costo (~1 linea)\n",
    "        '''\n",
    "        cost = costo(X, theta_vector, y)\n",
    "        \n",
    "        '''\n",
    "        IMPLEMENTA TU CODIGO AQUI, utiliza Accuracy que se definio arriba (~1 linea)\n",
    "        '''\n",
    "        acc_score = accuracy(X, theta_vector, y)\n",
    "        \n",
    "        '''\n",
    "        IMPLEMENTA TU CODIGO AQUI, utiliza f1 score que se definio arriba (~1 linea)\n",
    "        '''\n",
    "        f1_training = f1(X, theta_vector, y)\n",
    "\n",
    "        '''\n",
    "        IMPLEMENTA TU CODIGO AQUI, utiliza precision score que se definio arriba (~1 linea)\n",
    "        '''\n",
    "        precision_training = precision(X, theta_vector, y)\n",
    "        \n",
    "        '''\n",
    "        IMPLEMENTA TU CODIGO AQUI, utiliza recall score que se definio arriba (~1 linea)\n",
    "        '''\n",
    "        recall_training = recall(X, theta_vector, y)\n",
    "        \n",
    "        \n",
    "        ## En las siguientes lineas calculamos las metricas de evaluacion aplicadas al test-set, este codigo no hay que cambiarlo ####\n",
    "        y_predict = prediccion(X_test, theta_vector, True)\n",
    "        acc_test = accuracy_score(y_predict, y_test)\n",
    "        accuracy_vect_test.append(acc_test)\n",
    "        f1_score_test = f1_score(y_predict, y_test)\n",
    "        precision_test = precision_score(y_test, y_predict)\n",
    "        recall_test = recall_score(y_test, y_predict)\n",
    "        \n",
    "        ## Guardando el valor del costo para graficarlo, este codigo no hay que cambiarlo ##\n",
    "        cost_vect.append(cost)\n",
    "        accuracy_vect.append(acc_score)\n",
    "        \n",
    "        n = 50 ### Ingresa aqui cada cuantas iteraciones quieres que se imprima el valor de las metricas ###\n",
    "        \n",
    "        ## Este codigo no hay que modificarlo ##\n",
    "        if(iteration % n == 0):\n",
    "            print('#####################')\n",
    "            print('TRAINING: [Iteracion: ', iteration,' Costo: ', cost, \\\n",
    "                  ' Accuracy:', acc_score,' F1 Score:',f1_training, \\\n",
    "                  'Precision training:', precision_training, 'Recall training:', recall_training,']')\n",
    "            print('TEST: [Iteracion: ', iteration,'Accuracy:', acc_test, \\\n",
    "                  ' F1 Score:', f1_score_test, 'Precision Test:', precision_test,'Recall Test:', recall_test,']')\n",
    "        \n",
    "    ## Log book, este codigo no hay que cambiarlo, sirve para guardar en la bitacora los resultados del experimento ##\n",
    "    nombre_modelo = nombre_modelo + '_'+datetime.datetime.now().strftime(\"%d%H%M%f\")\n",
    "    numero_features = X.shape[1] - 1\n",
    "    experiment = np.array([nombre_modelo, numero_features, m, alpha, iterations, accuracy_vect[-1], \\\n",
    "                           accuracy_vect_test[-1], f1_score_test, precision_test, \\\n",
    "                           recall_test,theta_vector], dtype=object)\n",
    "    log_book = np.vstack([log_book, experiment])\n",
    "        \n",
    "    return theta_vector, cost_vect, accuracy_vect,accuracy_vect_test\n"
   ]
  },
  {
   "cell_type": "markdown",
   "metadata": {},
   "source": [
    "## Dividimos la data en training y test set"
   ]
  },
  {
   "cell_type": "markdown",
   "metadata": {},
   "source": [
    "Tal como visto en la clase 23, nos sirve para evaluar objetivamente el rendimiento de nuestros modelos en datos que nunca ha visto durante su entrenamiento"
   ]
  },
  {
   "cell_type": "code",
   "execution_count": 69,
   "metadata": {},
   "outputs": [],
   "source": [
    "X_train, X_test, y_train, y_test = train_test_split(data.data, data.target, stratify=data.target, random_state=42)"
   ]
  },
  {
   "cell_type": "code",
   "execution_count": 70,
   "metadata": {},
   "outputs": [
    {
     "data": {
      "text/plain": [
       "(426, 30)"
      ]
     },
     "execution_count": 70,
     "metadata": {},
     "output_type": "execute_result"
    }
   ],
   "source": [
    "X_train.shape"
   ]
  },
  {
   "cell_type": "markdown",
   "metadata": {},
   "source": [
    "# Entrenamiento\n",
    "\n",
    "## Features a utilizar\n",
    "A continuación, vamos a entrenar varios modelos, vamos a utilizar las funciones que creamos previamente.\n",
    "Es importante experimentar con diferentes features,diverso tamaño del training set, y diversos hyper-parametros(learning rate e iteraciones)\n",
    "\n",
    "En este proyecto como máximo vamos a utilizar 5 features(pero en algunos experimentos usaremos menos) de manera obligatoria, pero de forma opcional se recomienda experimentar con más y diversas combinaciones ,esto para practicar y obtener experiencia con ML. \n",
    "\n",
    "También vamos a utilizar diferente número de ejemplos en el set de datos, diferente número de iteraciones y diferente learning rate . Todas estas distintas configuraciones serán almacenadas en el log-book(bitácora) automáticamente .\n",
    "\n",
    "En este proyecto solo vamos a utilizar las primeras 5 features  en este orden:\n",
    "\n",
    "`['mean radius', 'mean texture', 'mean perimeter', 'mean area','mean smoothness']`\n",
    "\n",
    "La razón por las que usaremos estas 5 features específicamente(y en este orden) en el modelo final(el que será exportado) es que estas features son las que serán utilizadas en la aplicación móvil en la cual integraremos el modelo(y tendremos en la interfaz de usuario de la aplicación componentes para ingresar valores para estas features),ero como se mencionó se recomienda experimentar y evaluar resultados con distintas features y distinto número  de ellas .\n",
    "\n",
    "## Descripcion del entrenamiento\n",
    "El entrenamiento de cada modelo se compone básicamente de tres pasos, sampleo bootstrap, escoger las features y ejecutar el entrenamiento llamando a la función de gradient descent que ya creamos.\n",
    "\n",
    "En el primer paso vamos a utilizar la función resample para hacer un sampleo del set de datos de entrenamiento, debemos definir el numero de samples que queremos utilizar.\n",
    "\n",
    "En el segundo paso, en un arreglo vamos a definir el nombre de las features que queremos utilizar para entrenar el modelo.\n",
    "En el tercer paso ejecutamos la función gradient descent.\n",
    "\n",
    "Por ultimo vamos a obtener el accuracy del modelo y vamos a imprimir la matriz de confusión, imprimiremos el precisión y el recall del modelo para entender mejor los resultados y tener una mejor idea de que tan bien clasifica nuestro modelo."
   ]
  },
  {
   "cell_type": "markdown",
   "metadata": {},
   "source": [
    "## Entrenamiento modelo 1"
   ]
  },
  {
   "cell_type": "markdown",
   "metadata": {},
   "source": [
    "#### Sampleo bootstrap"
   ]
  },
  {
   "cell_type": "code",
   "execution_count": 153,
   "metadata": {},
   "outputs": [],
   "source": [
    "X_train_m1, Y_train_m1 = resample(X_train, y_train, n_samples = 150)"
   ]
  },
  {
   "cell_type": "markdown",
   "metadata": {},
   "source": [
    "### Filtrar Features\n",
    "Solo seleccionar los features"
   ]
  },
  {
   "cell_type": "code",
   "execution_count": 155,
   "metadata": {},
   "outputs": [],
   "source": [
    "'''\n",
    "Ingresa en la lista el nombre de las fatrues que quieres utlizar en este modelo (~1 linea)\n",
    "'''\n",
    "features_filtro = ['mean radius', 'mean texture', 'mean perimeter','mean area']"
   ]
  },
  {
   "cell_type": "code",
   "execution_count": 156,
   "metadata": {},
   "outputs": [],
   "source": [
    "X_train_m1 = helper.fitrar_nombre(X_train_m1,data.feature_names,features_filtro)\n",
    "X_test_features = helper.fitrar_nombre(X_test,data.feature_names,features_filtro)"
   ]
  },
  {
   "cell_type": "code",
   "execution_count": 157,
   "metadata": {},
   "outputs": [
    {
     "data": {
      "text/plain": [
       "(150, 4)"
      ]
     },
     "execution_count": 157,
     "metadata": {},
     "output_type": "execute_result"
    }
   ],
   "source": [
    "X_train_m1.shape"
   ]
  },
  {
   "cell_type": "code",
   "execution_count": 158,
   "metadata": {},
   "outputs": [
    {
     "data": {
      "text/plain": [
       "(143, 4)"
      ]
     },
     "execution_count": 158,
     "metadata": {},
     "output_type": "execute_result"
    }
   ],
   "source": [
    "X_test_features.shape"
   ]
  },
  {
   "cell_type": "code",
   "execution_count": 159,
   "metadata": {},
   "outputs": [],
   "source": [
    "## Numero de iteracions ##\n",
    "iterations = 500  # Define el numero de iteraciones #\n",
    "\n",
    "## Alpha ##\n",
    "alpha = 0.1 # Define el valor de alpha #\n",
    "\n",
    "#### No hay que cambiar el codigo despues de esta linea #####\n",
    "## Numero de feautres ##\n",
    "numero_features = X_train_m1.shape[1] + 1\n",
    "\n",
    "## Creamos un vector donde se almacenan los valores de Theta,\n",
    "## lo inicializamos con numeros aleatorios\n",
    "theta_vector = np.random.rand(numero_features)\n",
    "\n",
    "## Normaliza las features de X_train_features (~1 linea) ##\n",
    "X_train_m1 = normalizar(X_train_m1)\n",
    "\n",
    "# Creando la Matriz X de features, \n",
    "# utilizamos np.ones para agregar el valor constante '1' que es el bias o feature 0\n",
    "X_train_features = np.ones((X_train_m1.shape[0], numero_features))\n",
    "X_train_features[:,:-1] = X_train_m1"
   ]
  },
  {
   "cell_type": "code",
   "execution_count": 160,
   "metadata": {},
   "outputs": [
    {
     "name": "stdout",
     "output_type": "stream",
     "text": [
      "#####################\n",
      "TRAINING: [Iteracion:  0  Costo:  1.9008421689833768  Accuracy: 0.14666666666666667  F1 Score: 0.2195121951219512 Precision training: 0.2222222222222222 Recall training: <function recall at 0x00000162B3EFE7B8> ]\n",
      "TEST: [Iteracion:  0 Accuracy: 0.21678321678321677  F1 Score: 0.3411764705882353 Precision Test: 0.3625 Recall Test: 0.32222222222222224 ]\n",
      "#####################\n",
      "TRAINING: [Iteracion:  50  Costo:  0.34135857059315905  Accuracy: 0.86  F1 Score: 0.8852459016393442 Precision training: 0.81 Recall training: <function recall at 0x00000162B3EFE7B8> ]\n",
      "TEST: [Iteracion:  50 Accuracy: 0.8741258741258742  F1 Score: 0.9042553191489361 Precision Test: 0.8673469387755102 Recall Test: 0.9444444444444444 ]\n",
      "#####################\n",
      "TRAINING: [Iteracion:  100  Costo:  0.28952353480047927  Accuracy: 0.8933333333333333  F1 Score: 0.909090909090909 Precision training: 0.8602150537634409 Recall training: <function recall at 0x00000162B3EFE7B8> ]\n",
      "TEST: [Iteracion:  100 Accuracy: 0.9020979020979021  F1 Score: 0.9222222222222223 Precision Test: 0.9222222222222223 Recall Test: 0.9222222222222223 ]\n",
      "#####################\n",
      "TRAINING: [Iteracion:  150  Costo:  0.27361498950368524  Accuracy: 0.9133333333333333  F1 Score: 0.9248554913294798 Precision training: 0.8888888888888888 Recall training: <function recall at 0x00000162B3EFE7B8> ]\n",
      "TEST: [Iteracion:  150 Accuracy: 0.9020979020979021  F1 Score: 0.9213483146067416 Precision Test: 0.9318181818181818 Recall Test: 0.9111111111111111 ]\n",
      "#####################\n",
      "TRAINING: [Iteracion:  200  Costo:  0.26643749197914124  Accuracy: 0.9066666666666666  F1 Score: 0.9186046511627907 Precision training: 0.8876404494382022 Recall training: <function recall at 0x00000162B3EFE7B8> ]\n",
      "TEST: [Iteracion:  200 Accuracy: 0.8951048951048951  F1 Score: 0.9152542372881356 Precision Test: 0.9310344827586207 Recall Test: 0.9 ]\n",
      "#####################\n",
      "TRAINING: [Iteracion:  250  Costo:  0.26261906110210553  Accuracy: 0.9  F1 Score: 0.912280701754386 Precision training: 0.8863636363636364 Recall training: <function recall at 0x00000162B3EFE7B8> ]\n",
      "TEST: [Iteracion:  250 Accuracy: 0.8951048951048951  F1 Score: 0.9152542372881356 Precision Test: 0.9310344827586207 Recall Test: 0.9 ]\n",
      "#####################\n",
      "TRAINING: [Iteracion:  300  Costo:  0.2603818261993151  Accuracy: 0.9  F1 Score: 0.912280701754386 Precision training: 0.8863636363636364 Recall training: <function recall at 0x00000162B3EFE7B8> ]\n",
      "TEST: [Iteracion:  300 Accuracy: 0.8951048951048951  F1 Score: 0.9142857142857143 Precision Test: 0.9411764705882353 Recall Test: 0.8888888888888888 ]\n",
      "#####################\n",
      "TRAINING: [Iteracion:  350  Costo:  0.25898033958242794  Accuracy: 0.9  F1 Score: 0.912280701754386 Precision training: 0.8863636363636364 Recall training: <function recall at 0x00000162B3EFE7B8> ]\n",
      "TEST: [Iteracion:  350 Accuracy: 0.8881118881118881  F1 Score: 0.9080459770114943 Precision Test: 0.9404761904761905 Recall Test: 0.8777777777777778 ]\n",
      "#####################\n",
      "TRAINING: [Iteracion:  400  Costo:  0.25805536386251543  Accuracy: 0.9  F1 Score: 0.912280701754386 Precision training: 0.8863636363636364 Recall training: <function recall at 0x00000162B3EFE7B8> ]\n",
      "TEST: [Iteracion:  400 Accuracy: 0.8881118881118881  F1 Score: 0.9080459770114943 Precision Test: 0.9404761904761905 Recall Test: 0.8777777777777778 ]\n",
      "#####################\n",
      "TRAINING: [Iteracion:  450  Costo:  0.25741697294419463  Accuracy: 0.9  F1 Score: 0.912280701754386 Precision training: 0.8863636363636364 Recall training: <function recall at 0x00000162B3EFE7B8> ]\n",
      "TEST: [Iteracion:  450 Accuracy: 0.8881118881118881  F1 Score: 0.9080459770114943 Precision Test: 0.9404761904761905 Recall Test: 0.8777777777777778 ]\n"
     ]
    }
   ],
   "source": [
    "modelo_1_theta_values, cost_vect, acc_vect, acc_vect_test = \\\n",
    "gradient_descent(X_train_features, Y_train_m1, theta_vector, alpha, iterations, X_test_features, y_test, 'modelo_1')"
   ]
  },
  {
   "cell_type": "code",
   "execution_count": 161,
   "metadata": {},
   "outputs": [
    {
     "data": {
      "image/png": "[encoded data removed]",
      "text/plain": [
       "<Figure size 432x288 with 1 Axes>"
      ]
     },
     "metadata": {},
     "output_type": "display_data"
    }
   ],
   "source": [
    "## Funcion para graficar el costo y  accuracy durante cada iteracion ##\n",
    "helper.training_graph(cost_vect, acc_vect, acc_vect_test)"
   ]
  },
  {
   "cell_type": "markdown",
   "metadata": {},
   "source": [
    "### Accuracy y Matriz de confusion Training Set\n",
    "\n",
    "![alt text](https://rasbt.github.io/mlxtend/user_guide/evaluate/confusion_matrix_files/confusion_matrix_1.png)"
   ]
  },
  {
   "cell_type": "code",
   "execution_count": 162,
   "metadata": {},
   "outputs": [
    {
     "name": "stdout",
     "output_type": "stream",
     "text": [
      "Accuracy: 90.0 %\n",
      "\n",
      "Matriz de confusion\n"
     ]
    },
    {
     "data": {
      "text/plain": [
       "array([[57, 10],\n",
       "       [ 5, 78]], dtype=int64)"
      ]
     },
     "execution_count": 162,
     "metadata": {},
     "output_type": "execute_result"
    }
   ],
   "source": [
    "y_hat = get_hipotesis(X_train_features, modelo_1_theta_values)\n",
    "y_predict = np.array([1 if (y > 0.5) else 0 for y in y_hat])\n",
    "\n",
    "print('Accuracy:', accuracy_score(Y_train_m1,y_predict) * 100 ,'%')\n",
    "print()\n",
    "print('Matriz de confusion')\n",
    "confusion_matrix(Y_train_m1, y_predict )"
   ]
  },
  {
   "cell_type": "markdown",
   "metadata": {},
   "source": [
    "#### Accuracy con el Test set"
   ]
  },
  {
   "cell_type": "code",
   "execution_count": 163,
   "metadata": {},
   "outputs": [],
   "source": [
    "y_predict = prediccion(X_test_features, modelo_1_theta_values, True)"
   ]
  },
  {
   "cell_type": "code",
   "execution_count": 164,
   "metadata": {},
   "outputs": [
    {
     "name": "stdout",
     "output_type": "stream",
     "text": [
      "Accuracy: 88.81118881118881 %\n"
     ]
    }
   ],
   "source": [
    "print('Accuracy:',accuracy_score(y_test, y_predict)* 100 ,'%')"
   ]
  },
  {
   "cell_type": "markdown",
   "metadata": {},
   "source": [
    "#### Matriz de confusion Test Set"
   ]
  },
  {
   "cell_type": "code",
   "execution_count": 165,
   "metadata": {},
   "outputs": [
    {
     "data": {
      "text/plain": [
       "array([[48,  5],\n",
       "       [11, 79]], dtype=int64)"
      ]
     },
     "execution_count": 165,
     "metadata": {},
     "output_type": "execute_result"
    }
   ],
   "source": [
    "confusion_matrix(y_test, y_predict)"
   ]
  },
  {
   "cell_type": "code",
   "execution_count": 166,
   "metadata": {},
   "outputs": [
    {
     "name": "stdout",
     "output_type": "stream",
     "text": [
      "precision:  0.9404761904761905\n",
      "recall:  0.8777777777777778\n"
     ]
    }
   ],
   "source": [
    "print('precision: ',precision_score(y_test, y_predict))\n",
    "\n",
    "print('recall: ', recall_score(y_test, y_predict))"
   ]
  },
  {
   "cell_type": "markdown",
   "metadata": {},
   "source": [
    "## Entrenamiento modelo 2"
   ]
  },
  {
   "cell_type": "markdown",
   "metadata": {},
   "source": [
    "#### Sampleo bootstrap"
   ]
  },
  {
   "cell_type": "code",
   "execution_count": 187,
   "metadata": {},
   "outputs": [],
   "source": [
    "'''\n",
    "Ingresa en la lista el nombre de las fatrues que quieres utlizar en este modelo (~1 linea)\n",
    "'''\n",
    "X_train_m2, Y_train_m2 = resample(X_train, y_train, n_samples = 400)"
   ]
  },
  {
   "cell_type": "markdown",
   "metadata": {},
   "source": [
    "### Filtrar Features\n",
    "Solo seleccionar los features"
   ]
  },
  {
   "cell_type": "code",
   "execution_count": 188,
   "metadata": {},
   "outputs": [],
   "source": [
    "features_filtro = ['mean radius', 'mean texture', 'mean perimeter', 'mean area','mean smoothness']"
   ]
  },
  {
   "cell_type": "code",
   "execution_count": 189,
   "metadata": {},
   "outputs": [],
   "source": [
    "X_train_m2 = helper.fitrar_nombre(X_train_m2,data.feature_names,features_filtro)\n",
    "X_test_features = helper.fitrar_nombre(X_test,data.feature_names,features_filtro)"
   ]
  },
  {
   "cell_type": "code",
   "execution_count": 190,
   "metadata": {},
   "outputs": [],
   "source": [
    "## Numero de iteracions ##\n",
    "iterations = 1000  # Define el numero de iteraciones #\n",
    "\n",
    "## Alpha ##\n",
    "alpha = 0.05 # Define el valor de alpha #\n",
    "\n",
    "#### No hay que cambiar el codigo despues de esta linea #####\n",
    "## Numero de feautres ##\n",
    "numero_features = X_train_m2.shape[1] + 1\n",
    "\n",
    "## Creamos un vector donde se almacenan los valores de Theta,\n",
    "## lo inicializamos con numeros aleatorios\n",
    "theta_vector = np.random.rand(numero_features)\n",
    "\n",
    "## Normaliza las features de X_train_features (~1 linea) ##\n",
    "X_train_m2 = normalizar(X_train_m2)\n",
    "\n",
    "# Creando la Matriz X de features, \n",
    "# utilizamos np.ones para agregar el valor constante '1' que es el bias o feature 0\n",
    "X_train_features = np.ones((X_train_m2.shape[0], numero_features))\n",
    "X_train_features[:,:-1] = X_train_m2"
   ]
  },
  {
   "cell_type": "code",
   "execution_count": 191,
   "metadata": {},
   "outputs": [
    {
     "name": "stdout",
     "output_type": "stream",
     "text": [
      "#####################\n",
      "TRAINING: [Iteracion:  0  Costo:  1.8127313768106985  Accuracy: 0.1875  F1 Score: 0.30997876857749473 Precision training: 0.3230088495575221 Recall training: <function recall at 0x00000162B3EFE7B8> ]\n",
      "TEST: [Iteracion:  0 Accuracy: 0.21678321678321677  F1 Score: 0.34883720930232553 Precision Test: 0.36585365853658536 Recall Test: 0.3333333333333333 ]\n",
      "#####################\n",
      "TRAINING: [Iteracion:  50  Costo:  0.4388535690158971  Accuracy: 0.8075  F1 Score: 0.8617594254937163 Precision training: 0.7692307692307693 Recall training: <function recall at 0x00000162B3EFE7B8> ]\n",
      "TEST: [Iteracion:  50 Accuracy: 0.8251748251748252  F1 Score: 0.878048780487805 Precision Test: 0.782608695652174 Recall Test: 1.0 ]\n",
      "#####################\n",
      "TRAINING: [Iteracion:  100  Costo:  0.3039151120022249  Accuracy: 0.8775  F1 Score: 0.9070208728652751 Precision training: 0.8475177304964538 Recall training: <function recall at 0x00000162B3EFE7B8> ]\n",
      "TEST: [Iteracion:  100 Accuracy: 0.8741258741258742  F1 Score: 0.9052631578947369 Precision Test: 0.86 Recall Test: 0.9555555555555556 ]\n",
      "#####################\n",
      "TRAINING: [Iteracion:  150  Costo:  0.257122503426462  Accuracy: 0.9025  F1 Score: 0.9245647969052225 Precision training: 0.8786764705882353 Recall training: <function recall at 0x00000162B3EFE7B8> ]\n",
      "TEST: [Iteracion:  150 Accuracy: 0.9090909090909091  F1 Score: 0.93048128342246 Precision Test: 0.8969072164948454 Recall Test: 0.9666666666666667 ]\n",
      "#####################\n",
      "TRAINING: [Iteracion:  200  Costo:  0.23258789590128168  Accuracy: 0.915  F1 Score: 0.93359375 Precision training: 0.8951310861423221 Recall training: <function recall at 0x00000162B3EFE7B8> ]\n",
      "TEST: [Iteracion:  200 Accuracy: 0.9230769230769231  F1 Score: 0.9405405405405406 Precision Test: 0.9157894736842105 Recall Test: 0.9666666666666667 ]\n",
      "#####################\n",
      "TRAINING: [Iteracion:  250  Costo:  0.21744194227908892  Accuracy: 0.915  F1 Score: 0.9325396825396826 Precision training: 0.9073359073359073 Recall training: <function recall at 0x00000162B3EFE7B8> ]\n",
      "TEST: [Iteracion:  250 Accuracy: 0.9230769230769231  F1 Score: 0.9405405405405406 Precision Test: 0.9157894736842105 Recall Test: 0.9666666666666667 ]\n",
      "#####################\n",
      "TRAINING: [Iteracion:  300  Costo:  0.2071813062580329  Accuracy: 0.92  F1 Score: 0.9362549800796813 Precision training: 0.914396887159533 Recall training: <function recall at 0x00000162B3EFE7B8> ]\n",
      "TEST: [Iteracion:  300 Accuracy: 0.916083916083916  F1 Score: 0.9347826086956522 Precision Test: 0.9148936170212766 Recall Test: 0.9555555555555556 ]\n",
      "#####################\n",
      "TRAINING: [Iteracion:  350  Costo:  0.19978830926715913  Accuracy: 0.9375  F1 Score: 0.9494949494949495 Precision training: 0.94 Recall training: <function recall at 0x00000162B3EFE7B8> ]\n",
      "TEST: [Iteracion:  350 Accuracy: 0.916083916083916  F1 Score: 0.9347826086956522 Precision Test: 0.9148936170212766 Recall Test: 0.9555555555555556 ]\n",
      "#####################\n",
      "TRAINING: [Iteracion:  400  Costo:  0.1942205345658931  Accuracy: 0.9375  F1 Score: 0.9494949494949495 Precision training: 0.94 Recall training: <function recall at 0x00000162B3EFE7B8> ]\n",
      "TEST: [Iteracion:  400 Accuracy: 0.9090909090909091  F1 Score: 0.9289617486338798 Precision Test: 0.9139784946236559 Recall Test: 0.9444444444444444 ]\n",
      "#####################\n",
      "TRAINING: [Iteracion:  450  Costo:  0.1898853048650118  Accuracy: 0.9325  F1 Score: 0.9452332657200812 Precision training: 0.9395161290322581 Recall training: <function recall at 0x00000162B3EFE7B8> ]\n",
      "TEST: [Iteracion:  450 Accuracy: 0.9090909090909091  F1 Score: 0.9281767955801106 Precision Test: 0.9230769230769231 Recall Test: 0.9333333333333333 ]\n",
      "#####################\n",
      "TRAINING: [Iteracion:  500  Costo:  0.1864211051353157  Accuracy: 0.9375  F1 Score: 0.9490835030549898 Precision training: 0.9471544715447154 Recall training: <function recall at 0x00000162B3EFE7B8> ]\n",
      "TEST: [Iteracion:  500 Accuracy: 0.9090909090909091  F1 Score: 0.9281767955801106 Precision Test: 0.9230769230769231 Recall Test: 0.9333333333333333 ]\n",
      "#####################\n",
      "TRAINING: [Iteracion:  550  Costo:  0.1835950708596077  Accuracy: 0.9375  F1 Score: 0.9490835030549898 Precision training: 0.9471544715447154 Recall training: <function recall at 0x00000162B3EFE7B8> ]\n",
      "TEST: [Iteracion:  550 Accuracy: 0.9090909090909091  F1 Score: 0.9281767955801106 Precision Test: 0.9230769230769231 Recall Test: 0.9333333333333333 ]\n",
      "#####################\n",
      "TRAINING: [Iteracion:  600  Costo:  0.18125049406192587  Accuracy: 0.9375  F1 Score: 0.9490835030549898 Precision training: 0.9471544715447154 Recall training: <function recall at 0x00000162B3EFE7B8> ]\n",
      "TEST: [Iteracion:  600 Accuracy: 0.9090909090909091  F1 Score: 0.9281767955801106 Precision Test: 0.9230769230769231 Recall Test: 0.9333333333333333 ]\n",
      "#####################\n",
      "TRAINING: [Iteracion:  650  Costo:  0.17927804881927628  Accuracy: 0.9375  F1 Score: 0.9490835030549898 Precision training: 0.9471544715447154 Recall training: <function recall at 0x00000162B3EFE7B8> ]\n",
      "TEST: [Iteracion:  650 Accuracy: 0.9020979020979021  F1 Score: 0.9222222222222223 Precision Test: 0.9222222222222223 Recall Test: 0.9222222222222223 ]\n",
      "#####################\n",
      "TRAINING: [Iteracion:  700  Costo:  0.17759912899237562  Accuracy: 0.9375  F1 Score: 0.9490835030549898 Precision training: 0.9471544715447154 Recall training: <function recall at 0x00000162B3EFE7B8> ]\n",
      "TEST: [Iteracion:  700 Accuracy: 0.9020979020979021  F1 Score: 0.9222222222222223 Precision Test: 0.9222222222222223 Recall Test: 0.9222222222222223 ]\n",
      "#####################\n",
      "TRAINING: [Iteracion:  750  Costo:  0.17615575047510937  Accuracy: 0.9375  F1 Score: 0.9490835030549898 Precision training: 0.9471544715447154 Recall training: <function recall at 0x00000162B3EFE7B8> ]\n",
      "TEST: [Iteracion:  750 Accuracy: 0.9020979020979021  F1 Score: 0.9222222222222223 Precision Test: 0.9222222222222223 Recall Test: 0.9222222222222223 ]\n",
      "#####################\n",
      "TRAINING: [Iteracion:  800  Costo:  0.17490419122514986  Accuracy: 0.9375  F1 Score: 0.9490835030549898 Precision training: 0.9471544715447154 Recall training: <function recall at 0x00000162B3EFE7B8> ]\n",
      "TEST: [Iteracion:  800 Accuracy: 0.9020979020979021  F1 Score: 0.9222222222222223 Precision Test: 0.9222222222222223 Recall Test: 0.9222222222222223 ]\n",
      "#####################\n",
      "TRAINING: [Iteracion:  850  Costo:  0.17381085043260092  Accuracy: 0.9375  F1 Score: 0.9490835030549898 Precision training: 0.9471544715447154 Recall training: <function recall at 0x00000162B3EFE7B8> ]\n",
      "TEST: [Iteracion:  850 Accuracy: 0.9020979020979021  F1 Score: 0.9222222222222223 Precision Test: 0.9222222222222223 Recall Test: 0.9222222222222223 ]\n",
      "#####################\n",
      "TRAINING: [Iteracion:  900  Costo:  0.17284947354116958  Accuracy: 0.9375  F1 Score: 0.9490835030549898 Precision training: 0.9471544715447154 Recall training: <function recall at 0x00000162B3EFE7B8> ]\n",
      "TEST: [Iteracion:  900 Accuracy: 0.9020979020979021  F1 Score: 0.9222222222222223 Precision Test: 0.9222222222222223 Recall Test: 0.9222222222222223 ]\n",
      "#####################\n",
      "TRAINING: [Iteracion:  950  Costo:  0.1719992448027991  Accuracy: 0.94  F1 Score: 0.951219512195122 Precision training: 0.9473684210526315 Recall training: <function recall at 0x00000162B3EFE7B8> ]\n",
      "TEST: [Iteracion:  950 Accuracy: 0.9020979020979021  F1 Score: 0.9222222222222223 Precision Test: 0.9222222222222223 Recall Test: 0.9222222222222223 ]\n"
     ]
    }
   ],
   "source": [
    "## Llama a la funcion de gradient descent, recurda definir un nombre diferente para el modelo (~1 linea) ##\n",
    "modelo_2_theta_values, cost_vect, acc_vect, acc_vect_test = \\\n",
    "gradient_descent(X_train_features, Y_train_m2, theta_vector, alpha, iterations, X_test_features, y_test, 'modelo_2')\n",
    "### FIN ##"
   ]
  },
  {
   "cell_type": "code",
   "execution_count": 192,
   "metadata": {},
   "outputs": [
    {
     "data": {
      "image/png": "[encoded data removed]",
      "text/plain": [
       "<Figure size 432x288 with 1 Axes>"
      ]
     },
     "metadata": {},
     "output_type": "display_data"
    }
   ],
   "source": [
    "## Funcion para graficar el costo y  accuracy durante cada iteracion ##\n",
    "helper.training_graph(cost_vect, acc_vect, acc_vect_test)"
   ]
  },
  {
   "cell_type": "markdown",
   "metadata": {},
   "source": [
    "#### Accuracy con el Test set [Modelo 2]"
   ]
  },
  {
   "cell_type": "code",
   "execution_count": 193,
   "metadata": {},
   "outputs": [],
   "source": [
    "y_predict = prediccion(X_test_features, modelo_2_theta_values, True)"
   ]
  },
  {
   "cell_type": "code",
   "execution_count": 194,
   "metadata": {},
   "outputs": [
    {
     "name": "stdout",
     "output_type": "stream",
     "text": [
      "Accuracy: 90.20979020979021 %\n"
     ]
    }
   ],
   "source": [
    "print('Accuracy:',accuracy_score(y_test, y_predict)* 100 ,'%')"
   ]
  },
  {
   "cell_type": "markdown",
   "metadata": {},
   "source": [
    "#### Matriz de confusion Test Set [Modelo 2]"
   ]
  },
  {
   "cell_type": "code",
   "execution_count": 195,
   "metadata": {},
   "outputs": [
    {
     "data": {
      "text/plain": [
       "array([[46,  7],\n",
       "       [ 7, 83]], dtype=int64)"
      ]
     },
     "execution_count": 195,
     "metadata": {},
     "output_type": "execute_result"
    }
   ],
   "source": [
    "confusion_matrix(y_test, y_predict)"
   ]
  },
  {
   "cell_type": "code",
   "execution_count": 196,
   "metadata": {},
   "outputs": [
    {
     "name": "stdout",
     "output_type": "stream",
     "text": [
      "precision:  0.9222222222222223\n",
      "recall:  0.9222222222222223\n"
     ]
    }
   ],
   "source": [
    "print('precision: ',precision_score(y_test, y_predict))\n",
    "\n",
    "print('recall: ', recall_score(y_test, y_predict))"
   ]
  },
  {
   "cell_type": "markdown",
   "metadata": {},
   "source": [
    "## Entrenamiento modelo 3"
   ]
  },
  {
   "cell_type": "markdown",
   "metadata": {},
   "source": [
    "#### Sampleo bootstrap"
   ]
  },
  {
   "cell_type": "code",
   "execution_count": 308,
   "metadata": {},
   "outputs": [],
   "source": [
    "X_train_m3, Y_train_m3 = resample(X_train, y_train, n_samples = 1000)"
   ]
  },
  {
   "cell_type": "markdown",
   "metadata": {},
   "source": [
    "### Filtrar Features\n",
    "Solo seleccionar los features"
   ]
  },
  {
   "cell_type": "code",
   "execution_count": 309,
   "metadata": {},
   "outputs": [],
   "source": [
    "'''\n",
    "Ingresa en la lista el nombre de las fatrues que quieres utlizar en este modelo (~1 linea)\n",
    "'''\n",
    "features_filtro = ['mean radius', 'mean texture', 'mean perimeter', 'mean area','mean smoothness']"
   ]
  },
  {
   "cell_type": "code",
   "execution_count": 310,
   "metadata": {},
   "outputs": [],
   "source": [
    "X_train_m3 = helper.fitrar_nombre(X_train_m3,data.feature_names,features_filtro)\n",
    "X_test_features = helper.fitrar_nombre(X_test,data.feature_names,features_filtro)"
   ]
  },
  {
   "cell_type": "code",
   "execution_count": 311,
   "metadata": {},
   "outputs": [],
   "source": [
    "## Numero de iteracions ##\n",
    "iterations = 1500  # Define el numero de iteraciones #\n",
    "\n",
    "## Alpha ##\n",
    "alpha = 0.02 # Define el valor de alpha #\n",
    "\n",
    "#### No hay que cambiar el codigo despues de esta linea #####\n",
    "## Numero de feautres ##\n",
    "numero_features = X_train_m3.shape[1] + 1\n",
    "\n",
    "## Creamos un vector donde se almacenan los valores de Theta,\n",
    "## lo inicializamos con numeros aleatorios\n",
    "theta_vector = np.random.rand(numero_features)\n",
    "\n",
    "## Normaliza las features de X_train_features (~1 linea) ##\n",
    "X_train_m3 = normalizar(X_train_m3)\n",
    "\n",
    "# Creando la Matriz X de features, \n",
    "# utilizamos np.ones para agregar el valor constante '1' que es el bias o feature 0\n",
    "X_train_features = np.ones((X_train_m3.shape[0], numero_features))\n",
    "X_train_features[:,:-1] = X_train_m3"
   ]
  },
  {
   "cell_type": "code",
   "execution_count": 312,
   "metadata": {},
   "outputs": [
    {
     "name": "stdout",
     "output_type": "stream",
     "text": [
      "#####################\n",
      "TRAINING: [Iteracion:  0  Costo:  2.0605204690981287  Accuracy: 0.164  F1 Score: 0.2640845070422535 Precision training: 0.3024193548387097 Recall training: <function recall at 0x00000162B3EFE7B8> ]\n",
      "TEST: [Iteracion:  0 Accuracy: 0.1888111888111888  F1 Score: 0.30120481927710846 Precision Test: 0.32894736842105265 Recall Test: 0.2777777777777778 ]\n",
      "#####################\n",
      "TRAINING: [Iteracion:  50  Costo:  0.9539465882832392  Accuracy: 0.465  F1 Score: 0.6266573621772505 Precision training: 0.5662042875157629 Recall training: <function recall at 0x00000162B3EFE7B8> ]\n",
      "TEST: [Iteracion:  50 Accuracy: 0.43356643356643354  F1 Score: 0.6048780487804878 Precision Test: 0.5391304347826087 Recall Test: 0.6888888888888889 ]\n",
      "#####################\n",
      "TRAINING: [Iteracion:  100  Costo:  0.5029044656328218  Accuracy: 0.767  F1 Score: 0.8430976430976431 Precision training: 0.7408284023668639 Recall training: <function recall at 0x00000162B3EFE7B8> ]\n",
      "TEST: [Iteracion:  100 Accuracy: 0.6993006993006993  F1 Score: 0.8018433179723502 Precision Test: 0.6850393700787402 Recall Test: 0.9666666666666667 ]\n",
      "#####################\n",
      "TRAINING: [Iteracion:  150  Costo:  0.3672011502523586  Accuracy: 0.868  F1 Score: 0.905982905982906 Precision training: 0.8324607329842932 Recall training: <function recall at 0x00000162B3EFE7B8> ]\n",
      "TEST: [Iteracion:  150 Accuracy: 0.8461538461538461  F1 Score: 0.8888888888888888 Precision Test: 0.8148148148148148 Recall Test: 0.9777777777777777 ]\n",
      "#####################\n",
      "TRAINING: [Iteracion:  200  Costo:  0.30807341516362075  Accuracy: 0.904  F1 Score: 0.9297218155197657 Precision training: 0.8746556473829201 Recall training: <function recall at 0x00000162B3EFE7B8> ]\n",
      "TEST: [Iteracion:  200 Accuracy: 0.8671328671328671  F1 Score: 0.9015544041450777 Precision Test: 0.8446601941747572 Recall Test: 0.9666666666666667 ]\n",
      "#####################\n",
      "TRAINING: [Iteracion:  250  Costo:  0.27470198911597415  Accuracy: 0.916  F1 Score: 0.9379615952732644 Precision training: 0.8893557422969187 Recall training: <function recall at 0x00000162B3EFE7B8> ]\n",
      "TEST: [Iteracion:  250 Accuracy: 0.8811188811188811  F1 Score: 0.9109947643979057 Precision Test: 0.8613861386138614 Recall Test: 0.9666666666666667 ]\n",
      "#####################\n",
      "TRAINING: [Iteracion:  300  Costo:  0.2529472623244005  Accuracy: 0.919  F1 Score: 0.9400444115470022 Precision training: 0.8931082981715893 Recall training: <function recall at 0x00000162B3EFE7B8> ]\n",
      "TEST: [Iteracion:  300 Accuracy: 0.8881118881118881  F1 Score: 0.9157894736842105 Precision Test: 0.87 Recall Test: 0.9666666666666667 ]\n",
      "#####################\n",
      "TRAINING: [Iteracion:  350  Costo:  0.2374526457485766  Accuracy: 0.921  F1 Score: 0.9414381022979985 Precision training: 0.8956276445698167 Recall training: <function recall at 0x00000162B3EFE7B8> ]\n",
      "TEST: [Iteracion:  350 Accuracy: 0.9020979020979021  F1 Score: 0.9255319148936171 Precision Test: 0.8877551020408163 Recall Test: 0.9666666666666667 ]\n",
      "#####################\n",
      "TRAINING: [Iteracion:  400  Costo:  0.22574741589400582  Accuracy: 0.925  F1 Score: 0.9442379182156133 Precision training: 0.900709219858156 Recall training: <function recall at 0x00000162B3EFE7B8> ]\n",
      "TEST: [Iteracion:  400 Accuracy: 0.9090909090909091  F1 Score: 0.93048128342246 Precision Test: 0.8969072164948454 Recall Test: 0.9666666666666667 ]\n",
      "#####################\n",
      "TRAINING: [Iteracion:  450  Costo:  0.21652954809934963  Accuracy: 0.922  F1 Score: 0.9417910447761194 Precision training: 0.9014285714285715 Recall training: <function recall at 0x00000162B3EFE7B8> ]\n",
      "TEST: [Iteracion:  450 Accuracy: 0.9230769230769231  F1 Score: 0.9405405405405406 Precision Test: 0.9157894736842105 Recall Test: 0.9666666666666667 ]\n",
      "#####################\n",
      "TRAINING: [Iteracion:  500  Costo:  0.20904405431471762  Accuracy: 0.925  F1 Score: 0.9439042632759911 Precision training: 0.9053084648493543 Recall training: <function recall at 0x00000162B3EFE7B8> ]\n",
      "TEST: [Iteracion:  500 Accuracy: 0.9230769230769231  F1 Score: 0.9405405405405406 Precision Test: 0.9157894736842105 Recall Test: 0.9666666666666667 ]\n",
      "#####################\n",
      "TRAINING: [Iteracion:  550  Costo:  0.2028206323794838  Accuracy: 0.928  F1 Score: 0.9460269865067465 Precision training: 0.909221902017291 Recall training: <function recall at 0x00000162B3EFE7B8> ]\n",
      "TEST: [Iteracion:  550 Accuracy: 0.9230769230769231  F1 Score: 0.9405405405405406 Precision Test: 0.9157894736842105 Recall Test: 0.9666666666666667 ]\n",
      "#####################\n",
      "TRAINING: [Iteracion:  600  Costo:  0.19754959584775755  Accuracy: 0.928  F1 Score: 0.9460269865067465 Precision training: 0.909221902017291 Recall training: <function recall at 0x00000162B3EFE7B8> ]\n",
      "TEST: [Iteracion:  600 Accuracy: 0.9230769230769231  F1 Score: 0.9405405405405406 Precision Test: 0.9157894736842105 Recall Test: 0.9666666666666667 ]\n",
      "#####################\n",
      "TRAINING: [Iteracion:  650  Costo:  0.19301781092225787  Accuracy: 0.928  F1 Score: 0.9460269865067465 Precision training: 0.909221902017291 Recall training: <function recall at 0x00000162B3EFE7B8> ]\n",
      "TEST: [Iteracion:  650 Accuracy: 0.9230769230769231  F1 Score: 0.9405405405405406 Precision Test: 0.9157894736842105 Recall Test: 0.9666666666666667 ]\n",
      "#####################\n",
      "TRAINING: [Iteracion:  700  Costo:  0.18907322817455344  Accuracy: 0.928  F1 Score: 0.9460269865067465 Precision training: 0.909221902017291 Recall training: <function recall at 0x00000162B3EFE7B8> ]\n",
      "TEST: [Iteracion:  700 Accuracy: 0.9230769230769231  F1 Score: 0.9405405405405406 Precision Test: 0.9157894736842105 Recall Test: 0.9666666666666667 ]\n",
      "#####################\n",
      "TRAINING: [Iteracion:  750  Costo:  0.1856041007301435  Accuracy: 0.928  F1 Score: 0.9459459459459459 Precision training: 0.9104046242774566 Recall training: <function recall at 0x00000162B3EFE7B8> ]\n",
      "TEST: [Iteracion:  750 Accuracy: 0.9230769230769231  F1 Score: 0.9405405405405406 Precision Test: 0.9157894736842105 Recall Test: 0.9666666666666667 ]\n",
      "#####################\n",
      "TRAINING: [Iteracion:  800  Costo:  0.1825262225891252  Accuracy: 0.931  F1 Score: 0.9480812641083521 Precision training: 0.9143686502177069 Recall training: <function recall at 0x00000162B3EFE7B8> ]\n",
      "TEST: [Iteracion:  800 Accuracy: 0.9230769230769231  F1 Score: 0.9405405405405406 Precision Test: 0.9157894736842105 Recall Test: 0.9666666666666667 ]\n",
      "#####################\n",
      "TRAINING: [Iteracion:  850  Costo:  0.17977477627294666  Accuracy: 0.931  F1 Score: 0.9480812641083521 Precision training: 0.9143686502177069 Recall training: <function recall at 0x00000162B3EFE7B8> ]\n",
      "TEST: [Iteracion:  850 Accuracy: 0.9230769230769231  F1 Score: 0.9405405405405406 Precision Test: 0.9157894736842105 Recall Test: 0.9666666666666667 ]\n",
      "#####################\n",
      "TRAINING: [Iteracion:  900  Costo:  0.17729894655787015  Accuracy: 0.938  F1 Score: 0.9531013615733737 Precision training: 0.9237536656891495 Recall training: <function recall at 0x00000162B3EFE7B8> ]\n",
      "TEST: [Iteracion:  900 Accuracy: 0.9230769230769231  F1 Score: 0.9405405405405406 Precision Test: 0.9157894736842105 Recall Test: 0.9666666666666667 ]\n",
      "#####################\n",
      "TRAINING: [Iteracion:  950  Costo:  0.17505825679895531  Accuracy: 0.939  F1 Score: 0.9538228614685843 Precision training: 0.9251101321585903 Recall training: <function recall at 0x00000162B3EFE7B8> ]\n",
      "TEST: [Iteracion:  950 Accuracy: 0.9230769230769231  F1 Score: 0.9405405405405406 Precision Test: 0.9157894736842105 Recall Test: 0.9666666666666667 ]\n",
      "#####################\n",
      "TRAINING: [Iteracion:  1000  Costo:  0.17302001299977116  Accuracy: 0.939  F1 Score: 0.9538228614685843 Precision training: 0.9251101321585903 Recall training: <function recall at 0x00000162B3EFE7B8> ]\n",
      "TEST: [Iteracion:  1000 Accuracy: 0.9230769230769231  F1 Score: 0.9405405405405406 Precision Test: 0.9157894736842105 Recall Test: 0.9666666666666667 ]\n",
      "#####################\n",
      "TRAINING: [Iteracion:  1050  Costo:  0.17115748053335164  Accuracy: 0.939  F1 Score: 0.9538228614685843 Precision training: 0.9251101321585903 Recall training: <function recall at 0x00000162B3EFE7B8> ]\n",
      "TEST: [Iteracion:  1050 Accuracy: 0.9230769230769231  F1 Score: 0.9405405405405406 Precision Test: 0.9157894736842105 Recall Test: 0.9666666666666667 ]\n"
     ]
    },
    {
     "name": "stdout",
     "output_type": "stream",
     "text": [
      "#####################\n",
      "TRAINING: [Iteracion:  1100  Costo:  0.16944855759161703  Accuracy: 0.944  F1 Score: 0.9576399394856278 Precision training: 0.9281524926686217 Recall training: <function recall at 0x00000162B3EFE7B8> ]\n",
      "TEST: [Iteracion:  1100 Accuracy: 0.9230769230769231  F1 Score: 0.9405405405405406 Precision Test: 0.9157894736842105 Recall Test: 0.9666666666666667 ]\n",
      "#####################\n",
      "TRAINING: [Iteracion:  1150  Costo:  0.16787479291312143  Accuracy: 0.943  F1 Score: 0.9568508705526116 Precision training: 0.9280469897209985 Recall training: <function recall at 0x00000162B3EFE7B8> ]\n",
      "TEST: [Iteracion:  1150 Accuracy: 0.9230769230769231  F1 Score: 0.9405405405405406 Precision Test: 0.9157894736842105 Recall Test: 0.9666666666666667 ]\n",
      "#####################\n",
      "TRAINING: [Iteracion:  1200  Costo:  0.16642064687779112  Accuracy: 0.943  F1 Score: 0.9568508705526116 Precision training: 0.9280469897209985 Recall training: <function recall at 0x00000162B3EFE7B8> ]\n",
      "TEST: [Iteracion:  1200 Accuracy: 0.916083916083916  F1 Score: 0.9347826086956522 Precision Test: 0.9148936170212766 Recall Test: 0.9555555555555556 ]\n",
      "#####################\n",
      "TRAINING: [Iteracion:  1250  Costo:  0.16507292771438442  Accuracy: 0.943  F1 Score: 0.9568508705526116 Precision training: 0.9280469897209985 Recall training: <function recall at 0x00000162B3EFE7B8> ]\n",
      "TEST: [Iteracion:  1250 Accuracy: 0.916083916083916  F1 Score: 0.9347826086956522 Precision Test: 0.9148936170212766 Recall Test: 0.9555555555555556 ]\n",
      "#####################\n",
      "TRAINING: [Iteracion:  1300  Costo:  0.16382035574680878  Accuracy: 0.945  F1 Score: 0.9583017437452616 Precision training: 0.930780559646539 Recall training: <function recall at 0x00000162B3EFE7B8> ]\n",
      "TEST: [Iteracion:  1300 Accuracy: 0.9090909090909091  F1 Score: 0.9289617486338798 Precision Test: 0.9139784946236559 Recall Test: 0.9444444444444444 ]\n",
      "#####################\n",
      "TRAINING: [Iteracion:  1350  Costo:  0.16265322263465515  Accuracy: 0.949  F1 Score: 0.9612167300380229 Precision training: 0.9362962962962963 Recall training: <function recall at 0x00000162B3EFE7B8> ]\n",
      "TEST: [Iteracion:  1350 Accuracy: 0.9090909090909091  F1 Score: 0.9289617486338798 Precision Test: 0.9139784946236559 Recall Test: 0.9444444444444444 ]\n",
      "#####################\n",
      "TRAINING: [Iteracion:  1400  Costo:  0.161563122035236  Accuracy: 0.949  F1 Score: 0.9612167300380229 Precision training: 0.9362962962962963 Recall training: <function recall at 0x00000162B3EFE7B8> ]\n",
      "TEST: [Iteracion:  1400 Accuracy: 0.9090909090909091  F1 Score: 0.9289617486338798 Precision Test: 0.9139784946236559 Recall Test: 0.9444444444444444 ]\n",
      "#####################\n",
      "TRAINING: [Iteracion:  1450  Costo:  0.1605427346220189  Accuracy: 0.954  F1 Score: 0.9648854961832061 Precision training: 0.9432835820895522 Recall training: <function recall at 0x00000162B3EFE7B8> ]\n",
      "TEST: [Iteracion:  1450 Accuracy: 0.916083916083916  F1 Score: 0.934065934065934 Precision Test: 0.9239130434782609 Recall Test: 0.9444444444444444 ]\n"
     ]
    }
   ],
   "source": [
    "## Llama a la funcion de gradient descent, recurda definir un nombre diferente para el modelo (~1 linea) ##\n",
    "modelo_3_theta_values, cost_vect, acc_vect, acc_vect_test = \\\n",
    "gradient_descent(X_train_features, Y_train_m3, theta_vector, alpha, iterations, X_test_features, y_test, 'modelo_3')\n",
    "### FIN ###"
   ]
  },
  {
   "cell_type": "code",
   "execution_count": 313,
   "metadata": {},
   "outputs": [
    {
     "data": {
      "image/png": "[encoded data removed]",
      "text/plain": [
       "<Figure size 432x288 with 1 Axes>"
      ]
     },
     "metadata": {},
     "output_type": "display_data"
    }
   ],
   "source": [
    "## Funcion para graficar el costo y  accuracy durante cada iteracion\n",
    "helper.training_graph(cost_vect, acc_vect, acc_vect_test)"
   ]
  },
  {
   "cell_type": "markdown",
   "metadata": {},
   "source": [
    "#### Accuracy con el Test set [Modelo 3]"
   ]
  },
  {
   "cell_type": "code",
   "execution_count": 314,
   "metadata": {},
   "outputs": [],
   "source": [
    "y_predict = prediccion(X_test_features, modelo_3_theta_values, True)"
   ]
  },
  {
   "cell_type": "code",
   "execution_count": 315,
   "metadata": {},
   "outputs": [
    {
     "name": "stdout",
     "output_type": "stream",
     "text": [
      "Accuracy: 91.6083916083916 %\n"
     ]
    }
   ],
   "source": [
    "print('Accuracy:',accuracy_score(y_test, y_predict)* 100 ,'%')"
   ]
  },
  {
   "cell_type": "markdown",
   "metadata": {},
   "source": [
    "#### Matriz de confusion Test Set [Modelo 3]"
   ]
  },
  {
   "cell_type": "code",
   "execution_count": 316,
   "metadata": {
    "scrolled": true
   },
   "outputs": [
    {
     "data": {
      "text/plain": [
       "array([[46,  7],\n",
       "       [ 5, 85]], dtype=int64)"
      ]
     },
     "execution_count": 316,
     "metadata": {},
     "output_type": "execute_result"
    }
   ],
   "source": [
    "confusion_matrix(y_test, y_predict)"
   ]
  },
  {
   "cell_type": "code",
   "execution_count": 317,
   "metadata": {},
   "outputs": [
    {
     "name": "stdout",
     "output_type": "stream",
     "text": [
      "precision:  0.9239130434782609\n",
      "recall:  0.9444444444444444\n"
     ]
    }
   ],
   "source": [
    "print('precision: ',precision_score(y_test, y_predict))\n",
    "\n",
    "print('recall: ', recall_score(y_test, y_predict))"
   ]
  },
  {
   "cell_type": "markdown",
   "metadata": {},
   "source": [
    "## Entrenamiento modelo 4"
   ]
  },
  {
   "cell_type": "markdown",
   "metadata": {},
   "source": [
    "#### Sampleo bootstrap"
   ]
  },
  {
   "cell_type": "code",
   "execution_count": 319,
   "metadata": {},
   "outputs": [],
   "source": [
    "X_train_m4, Y_train_m4 = resample(X_train, y_train, n_samples = 1000)"
   ]
  },
  {
   "cell_type": "markdown",
   "metadata": {},
   "source": [
    "### Filtrar Features\n",
    "Solo seleccionar los features"
   ]
  },
  {
   "cell_type": "code",
   "execution_count": 320,
   "metadata": {},
   "outputs": [],
   "source": [
    "'''\n",
    "Ingresa en la lista el nombre de las fatrues que quieres utlizar en este modelo (~1 linea)\n",
    "'''\n",
    "features_filtro = ['mean radius', 'mean texture', 'mean perimeter', 'mean area','mean smoothness']"
   ]
  },
  {
   "cell_type": "code",
   "execution_count": 321,
   "metadata": {},
   "outputs": [],
   "source": [
    "X_train_m4 = helper.fitrar_nombre(X_train_m4,data.feature_names,features_filtro)\n",
    "X_test_features = helper.fitrar_nombre(X_test,data.feature_names,features_filtro)"
   ]
  },
  {
   "cell_type": "code",
   "execution_count": 322,
   "metadata": {},
   "outputs": [],
   "source": [
    "## Numero de iteracions ##\n",
    "iterations = 2000 # Define el numero de iteraciones #\n",
    "\n",
    "## Alpha ##\n",
    "alpha = 0.03 # Define el valor de alpha #\n",
    "\n",
    "#### No hay que cambiar el codigo despues de esta linea #####\n",
    "## Numero de feautres ##\n",
    "numero_features = X_train_m4.shape[1] + 1\n",
    "\n",
    "## Creamos un vector donde se almacenan los valores de Theta,\n",
    "## lo inicializamos con numeros aleatorios\n",
    "theta_vector = np.random.rand(numero_features)\n",
    "\n",
    "## Normaliza las features de X_train_features (~1 linea) ##\n",
    "X_train_m4 = normalizar(X_train_m4)\n",
    "\n",
    "# Creando la Matriz X de features\n",
    "X_train_features = np.ones((X_train_m4.shape[0], numero_features))\n",
    "X_train_features[:,:-1] = X_train_m4"
   ]
  },
  {
   "cell_type": "code",
   "execution_count": 323,
   "metadata": {
    "scrolled": true
   },
   "outputs": [
    {
     "name": "stdout",
     "output_type": "stream",
     "text": [
      "#####################\n",
      "TRAINING: [Iteracion:  0  Costo:  1.4990901434061707  Accuracy: 0.277  F1 Score: 0.4311565696302124 Precision training: 0.4370015948963317 Recall training: <function recall at 0x00000162B3EFE7B8> ]\n",
      "TEST: [Iteracion:  0 Accuracy: 0.3006993006993007  F1 Score: 0.4623655913978495 Precision Test: 0.4479166666666667 Recall Test: 0.4777777777777778 ]\n",
      "#####################\n",
      "TRAINING: [Iteracion:  50  Costo:  0.525556591663277  Accuracy: 0.748  F1 Score: 0.8355091383812011 Precision training: 0.7207207207207207 Recall training: <function recall at 0x00000162B3EFE7B8> ]\n",
      "TEST: [Iteracion:  50 Accuracy: 0.7342657342657343  F1 Score: 0.8256880733944955 Precision Test: 0.703125 Recall Test: 1.0 ]\n",
      "#####################\n",
      "TRAINING: [Iteracion:  100  Costo:  0.33930004934541413  Accuracy: 0.886  F1 Score: 0.9186875891583453 Precision training: 0.8496042216358839 Recall training: <function recall at 0x00000162B3EFE7B8> ]\n",
      "TEST: [Iteracion:  100 Accuracy: 0.8671328671328671  F1 Score: 0.9045226130653267 Precision Test: 0.8256880733944955 Recall Test: 1.0 ]\n",
      "#####################\n",
      "TRAINING: [Iteracion:  150  Costo:  0.27604833960820335  Accuracy: 0.908  F1 Score: 0.9332365747460086 Precision training: 0.8760217983651226 Recall training: <function recall at 0x00000162B3EFE7B8> ]\n",
      "TEST: [Iteracion:  150 Accuracy: 0.9020979020979021  F1 Score: 0.9278350515463918 Precision Test: 0.8653846153846154 Recall Test: 1.0 ]\n",
      "#####################\n",
      "TRAINING: [Iteracion:  200  Costo:  0.2426108572232357  Accuracy: 0.921  F1 Score: 0.9419544452608376 Precision training: 0.8940027894002789 Recall training: <function recall at 0x00000162B3EFE7B8> ]\n",
      "TEST: [Iteracion:  200 Accuracy: 0.9230769230769231  F1 Score: 0.9417989417989419 Precision Test: 0.898989898989899 Recall Test: 0.9888888888888889 ]\n",
      "#####################\n",
      "TRAINING: [Iteracion:  250  Costo:  0.22145477920401768  Accuracy: 0.929  F1 Score: 0.9475240206947525 Precision training: 0.9040902679830748 Recall training: <function recall at 0x00000162B3EFE7B8> ]\n",
      "TEST: [Iteracion:  250 Accuracy: 0.9230769230769231  F1 Score: 0.9417989417989419 Precision Test: 0.898989898989899 Recall Test: 0.9888888888888889 ]\n",
      "#####################\n",
      "TRAINING: [Iteracion:  300  Costo:  0.20670296913043676  Accuracy: 0.939  F1 Score: 0.9544436146377895 Precision training: 0.9194244604316547 Recall training: <function recall at 0x00000162B3EFE7B8> ]\n",
      "TEST: [Iteracion:  300 Accuracy: 0.9300699300699301  F1 Score: 0.946808510638298 Precision Test: 0.9081632653061225 Recall Test: 0.9888888888888889 ]\n",
      "#####################\n",
      "TRAINING: [Iteracion:  350  Costo:  0.19576128546126187  Accuracy: 0.937  F1 Score: 0.9527381845461366 Precision training: 0.9216255442670537 Recall training: <function recall at 0x00000162B3EFE7B8> ]\n",
      "TEST: [Iteracion:  350 Accuracy: 0.9370629370629371  F1 Score: 0.9518716577540107 Precision Test: 0.9175257731958762 Recall Test: 0.9888888888888889 ]\n",
      "#####################\n",
      "TRAINING: [Iteracion:  400  Costo:  0.18728742191431377  Accuracy: 0.941  F1 Score: 0.9556057185854024 Precision training: 0.927007299270073 Recall training: <function recall at 0x00000162B3EFE7B8> ]\n",
      "TEST: [Iteracion:  400 Accuracy: 0.9300699300699301  F1 Score: 0.946236559139785 Precision Test: 0.9166666666666666 Recall Test: 0.9777777777777777 ]\n",
      "#####################\n",
      "TRAINING: [Iteracion:  450  Costo:  0.18051072074269955  Accuracy: 0.939  F1 Score: 0.9540316503391109 Precision training: 0.9267935578330894 Recall training: <function recall at 0x00000162B3EFE7B8> ]\n",
      "TEST: [Iteracion:  450 Accuracy: 0.9230769230769231  F1 Score: 0.9405405405405406 Precision Test: 0.9157894736842105 Recall Test: 0.9666666666666667 ]\n",
      "#####################\n",
      "TRAINING: [Iteracion:  500  Costo:  0.1749548753500407  Accuracy: 0.939  F1 Score: 0.9540316503391109 Precision training: 0.9267935578330894 Recall training: <function recall at 0x00000162B3EFE7B8> ]\n",
      "TEST: [Iteracion:  500 Accuracy: 0.9230769230769231  F1 Score: 0.9405405405405406 Precision Test: 0.9157894736842105 Recall Test: 0.9666666666666667 ]\n",
      "#####################\n",
      "TRAINING: [Iteracion:  550  Costo:  0.17030873990419892  Accuracy: 0.939  F1 Score: 0.9540316503391109 Precision training: 0.9267935578330894 Recall training: <function recall at 0x00000162B3EFE7B8> ]\n",
      "TEST: [Iteracion:  550 Accuracy: 0.9230769230769231  F1 Score: 0.9405405405405406 Precision Test: 0.9157894736842105 Recall Test: 0.9666666666666667 ]\n",
      "#####################\n",
      "TRAINING: [Iteracion:  600  Costo:  0.16636003349576975  Accuracy: 0.939  F1 Score: 0.9540316503391109 Precision training: 0.9267935578330894 Recall training: <function recall at 0x00000162B3EFE7B8> ]\n",
      "TEST: [Iteracion:  600 Accuracy: 0.916083916083916  F1 Score: 0.9347826086956522 Precision Test: 0.9148936170212766 Recall Test: 0.9555555555555556 ]\n",
      "#####################\n",
      "TRAINING: [Iteracion:  650  Costo:  0.16295873450217044  Accuracy: 0.939  F1 Score: 0.9540316503391109 Precision training: 0.9267935578330894 Recall training: <function recall at 0x00000162B3EFE7B8> ]\n",
      "TEST: [Iteracion:  650 Accuracy: 0.916083916083916  F1 Score: 0.9347826086956522 Precision Test: 0.9148936170212766 Recall Test: 0.9555555555555556 ]\n",
      "#####################\n",
      "TRAINING: [Iteracion:  700  Costo:  0.1599956719990535  Accuracy: 0.942  F1 Score: 0.9561933534743203 Precision training: 0.9308823529411765 Recall training: <function recall at 0x00000162B3EFE7B8> ]\n",
      "TEST: [Iteracion:  700 Accuracy: 0.916083916083916  F1 Score: 0.9347826086956522 Precision Test: 0.9148936170212766 Recall Test: 0.9555555555555556 ]\n",
      "#####################\n",
      "TRAINING: [Iteracion:  750  Costo:  0.15738940879310895  Accuracy: 0.944  F1 Score: 0.9576399394856279 Precision training: 0.9336283185840708 Recall training: <function recall at 0x00000162B3EFE7B8> ]\n",
      "TEST: [Iteracion:  750 Accuracy: 0.916083916083916  F1 Score: 0.9347826086956522 Precision Test: 0.9148936170212766 Recall Test: 0.9555555555555556 ]\n",
      "#####################\n",
      "TRAINING: [Iteracion:  800  Costo:  0.1550778886222134  Accuracy: 0.944  F1 Score: 0.9576399394856279 Precision training: 0.9336283185840708 Recall training: <function recall at 0x00000162B3EFE7B8> ]\n",
      "TEST: [Iteracion:  800 Accuracy: 0.916083916083916  F1 Score: 0.9347826086956522 Precision Test: 0.9148936170212766 Recall Test: 0.9555555555555556 ]\n",
      "#####################\n",
      "TRAINING: [Iteracion:  850  Costo:  0.15301294062585916  Accuracy: 0.947  F1 Score: 0.9598788796366389 Precision training: 0.9364844903988183 Recall training: <function recall at 0x00000162B3EFE7B8> ]\n",
      "TEST: [Iteracion:  850 Accuracy: 0.916083916083916  F1 Score: 0.9347826086956522 Precision Test: 0.9148936170212766 Recall Test: 0.9555555555555556 ]\n",
      "#####################\n",
      "TRAINING: [Iteracion:  900  Costo:  0.15115656064545033  Accuracy: 0.945  F1 Score: 0.9583017437452616 Precision training: 0.9362962962962963 Recall training: <function recall at 0x00000162B3EFE7B8> ]\n",
      "TEST: [Iteracion:  900 Accuracy: 0.916083916083916  F1 Score: 0.9347826086956522 Precision Test: 0.9148936170212766 Recall Test: 0.9555555555555556 ]\n",
      "#####################\n",
      "TRAINING: [Iteracion:  950  Costo:  0.14947833239428177  Accuracy: 0.946  F1 Score: 0.9590288315629742 Precision training: 0.9376854599406528 Recall training: <function recall at 0x00000162B3EFE7B8> ]\n",
      "TEST: [Iteracion:  950 Accuracy: 0.9090909090909091  F1 Score: 0.9289617486338798 Precision Test: 0.9139784946236559 Recall Test: 0.9444444444444444 ]\n",
      "#####################\n",
      "TRAINING: [Iteracion:  1000  Costo:  0.14795359997538343  Accuracy: 0.946  F1 Score: 0.9590288315629742 Precision training: 0.9376854599406528 Recall training: <function recall at 0x00000162B3EFE7B8> ]\n",
      "TEST: [Iteracion:  1000 Accuracy: 0.9090909090909091  F1 Score: 0.9289617486338798 Precision Test: 0.9139784946236559 Recall Test: 0.9444444444444444 ]\n",
      "#####################\n",
      "TRAINING: [Iteracion:  1050  Costo:  0.14656214763638933  Accuracy: 0.946  F1 Score: 0.9590288315629742 Precision training: 0.9376854599406528 Recall training: <function recall at 0x00000162B3EFE7B8> ]\n",
      "TEST: [Iteracion:  1050 Accuracy: 0.9090909090909091  F1 Score: 0.9289617486338798 Precision Test: 0.9139784946236559 Recall Test: 0.9444444444444444 ]\n",
      "#####################\n",
      "TRAINING: [Iteracion:  1100  Costo:  0.14528722933115687  Accuracy: 0.95  F1 Score: 0.9619482496194826 Precision training: 0.9432835820895522 Recall training: <function recall at 0x00000162B3EFE7B8> ]\n",
      "TEST: [Iteracion:  1100 Accuracy: 0.9090909090909091  F1 Score: 0.9289617486338798 Precision Test: 0.9139784946236559 Recall Test: 0.9444444444444444 ]\n"
     ]
    },
    {
     "name": "stdout",
     "output_type": "stream",
     "text": [
      "#####################\n",
      "TRAINING: [Iteracion:  1150  Costo:  0.14411484417595757  Accuracy: 0.95  F1 Score: 0.9619482496194826 Precision training: 0.9432835820895522 Recall training: <function recall at 0x00000162B3EFE7B8> ]\n",
      "TEST: [Iteracion:  1150 Accuracy: 0.9090909090909091  F1 Score: 0.9289617486338798 Precision Test: 0.9139784946236559 Recall Test: 0.9444444444444444 ]\n",
      "#####################\n",
      "TRAINING: [Iteracion:  1200  Costo:  0.14303318776990878  Accuracy: 0.95  F1 Score: 0.9619482496194826 Precision training: 0.9432835820895522 Recall training: <function recall at 0x00000162B3EFE7B8> ]\n",
      "TEST: [Iteracion:  1200 Accuracy: 0.916083916083916  F1 Score: 0.934065934065934 Precision Test: 0.9239130434782609 Recall Test: 0.9444444444444444 ]\n",
      "#####################\n",
      "TRAINING: [Iteracion:  1250  Costo:  0.14203223128697215  Accuracy: 0.95  F1 Score: 0.9619482496194826 Precision training: 0.9432835820895522 Recall training: <function recall at 0x00000162B3EFE7B8> ]\n",
      "TEST: [Iteracion:  1250 Accuracy: 0.916083916083916  F1 Score: 0.934065934065934 Precision Test: 0.9239130434782609 Recall Test: 0.9444444444444444 ]\n",
      "#####################\n",
      "TRAINING: [Iteracion:  1300  Costo:  0.14110339474204608  Accuracy: 0.951  F1 Score: 0.9625668449197862 Precision training: 0.9473684210526315 Recall training: <function recall at 0x00000162B3EFE7B8> ]\n",
      "TEST: [Iteracion:  1300 Accuracy: 0.916083916083916  F1 Score: 0.934065934065934 Precision Test: 0.9239130434782609 Recall Test: 0.9444444444444444 ]\n",
      "#####################\n",
      "TRAINING: [Iteracion:  1350  Costo:  0.14023929058959045  Accuracy: 0.951  F1 Score: 0.9625668449197862 Precision training: 0.9473684210526315 Recall training: <function recall at 0x00000162B3EFE7B8> ]\n",
      "TEST: [Iteracion:  1350 Accuracy: 0.916083916083916  F1 Score: 0.934065934065934 Precision Test: 0.9239130434782609 Recall Test: 0.9444444444444444 ]\n",
      "#####################\n",
      "TRAINING: [Iteracion:  1400  Costo:  0.13943352049106073  Accuracy: 0.951  F1 Score: 0.9625668449197862 Precision training: 0.9473684210526315 Recall training: <function recall at 0x00000162B3EFE7B8> ]\n",
      "TEST: [Iteracion:  1400 Accuracy: 0.916083916083916  F1 Score: 0.934065934065934 Precision Test: 0.9239130434782609 Recall Test: 0.9444444444444444 ]\n",
      "#####################\n",
      "TRAINING: [Iteracion:  1450  Costo:  0.13868051272973167  Accuracy: 0.951  F1 Score: 0.9625668449197862 Precision training: 0.9473684210526315 Recall training: <function recall at 0x00000162B3EFE7B8> ]\n",
      "TEST: [Iteracion:  1450 Accuracy: 0.916083916083916  F1 Score: 0.934065934065934 Precision Test: 0.9239130434782609 Recall Test: 0.9444444444444444 ]\n",
      "#####################\n",
      "TRAINING: [Iteracion:  1500  Costo:  0.13797539102523176  Accuracy: 0.954  F1 Score: 0.9647779479326187 Precision training: 0.9516616314199395 Recall training: <function recall at 0x00000162B3EFE7B8> ]\n",
      "TEST: [Iteracion:  1500 Accuracy: 0.916083916083916  F1 Score: 0.934065934065934 Precision Test: 0.9239130434782609 Recall Test: 0.9444444444444444 ]\n",
      "#####################\n",
      "TRAINING: [Iteracion:  1550  Costo:  0.1373138678395352  Accuracy: 0.954  F1 Score: 0.9647779479326187 Precision training: 0.9516616314199395 Recall training: <function recall at 0x00000162B3EFE7B8> ]\n",
      "TEST: [Iteracion:  1550 Accuracy: 0.916083916083916  F1 Score: 0.934065934065934 Precision Test: 0.9239130434782609 Recall Test: 0.9444444444444444 ]\n",
      "#####################\n",
      "TRAINING: [Iteracion:  1600  Costo:  0.13669215695864498  Accuracy: 0.954  F1 Score: 0.9647779479326187 Precision training: 0.9516616314199395 Recall training: <function recall at 0x00000162B3EFE7B8> ]\n",
      "TEST: [Iteracion:  1600 Accuracy: 0.916083916083916  F1 Score: 0.934065934065934 Precision Test: 0.9239130434782609 Recall Test: 0.9444444444444444 ]\n",
      "#####################\n",
      "TRAINING: [Iteracion:  1650  Costo:  0.1361069013727941  Accuracy: 0.958  F1 Score: 0.967741935483871 Precision training: 0.9574468085106383 Recall training: <function recall at 0x00000162B3EFE7B8> ]\n",
      "TEST: [Iteracion:  1650 Accuracy: 0.916083916083916  F1 Score: 0.934065934065934 Precision Test: 0.9239130434782609 Recall Test: 0.9444444444444444 ]\n",
      "#####################\n",
      "TRAINING: [Iteracion:  1700  Costo:  0.13555511339419848  Accuracy: 0.958  F1 Score: 0.967741935483871 Precision training: 0.9574468085106383 Recall training: <function recall at 0x00000162B3EFE7B8> ]\n",
      "TEST: [Iteracion:  1700 Accuracy: 0.916083916083916  F1 Score: 0.934065934065934 Precision Test: 0.9239130434782609 Recall Test: 0.9444444444444444 ]\n",
      "#####################\n",
      "TRAINING: [Iteracion:  1750  Costo:  0.13503412463598188  Accuracy: 0.958  F1 Score: 0.967741935483871 Precision training: 0.9574468085106383 Recall training: <function recall at 0x00000162B3EFE7B8> ]\n",
      "TEST: [Iteracion:  1750 Accuracy: 0.916083916083916  F1 Score: 0.934065934065934 Precision Test: 0.9239130434782609 Recall Test: 0.9444444444444444 ]\n",
      "#####################\n",
      "TRAINING: [Iteracion:  1800  Costo:  0.1345415439922601  Accuracy: 0.958  F1 Score: 0.967741935483871 Precision training: 0.9574468085106383 Recall training: <function recall at 0x00000162B3EFE7B8> ]\n",
      "TEST: [Iteracion:  1800 Accuracy: 0.916083916083916  F1 Score: 0.934065934065934 Precision Test: 0.9239130434782609 Recall Test: 0.9444444444444444 ]\n",
      "#####################\n",
      "TRAINING: [Iteracion:  1850  Costo:  0.1340752221523339  Accuracy: 0.958  F1 Score: 0.967741935483871 Precision training: 0.9574468085106383 Recall training: <function recall at 0x00000162B3EFE7B8> ]\n",
      "TEST: [Iteracion:  1850 Accuracy: 0.916083916083916  F1 Score: 0.934065934065934 Precision Test: 0.9239130434782609 Recall Test: 0.9444444444444444 ]\n",
      "#####################\n",
      "TRAINING: [Iteracion:  1900  Costo:  0.13363322148349527  Accuracy: 0.958  F1 Score: 0.967741935483871 Precision training: 0.9574468085106383 Recall training: <function recall at 0x00000162B3EFE7B8> ]\n",
      "TEST: [Iteracion:  1900 Accuracy: 0.916083916083916  F1 Score: 0.934065934065934 Precision Test: 0.9239130434782609 Recall Test: 0.9444444444444444 ]\n",
      "#####################\n",
      "TRAINING: [Iteracion:  1950  Costo:  0.1332137903502021  Accuracy: 0.96  F1 Score: 0.9692307692307692 Precision training: 0.9603658536585366 Recall training: <function recall at 0x00000162B3EFE7B8> ]\n",
      "TEST: [Iteracion:  1950 Accuracy: 0.916083916083916  F1 Score: 0.934065934065934 Precision Test: 0.9239130434782609 Recall Test: 0.9444444444444444 ]\n"
     ]
    }
   ],
   "source": [
    "## Llama a la funcion de gradient descent, recurda definir un nombre diferente para el modelo (~1 linea) ##\n",
    "modelo_4_theta_values, cost_vect, acc_vect, acc_vect_test = \\\n",
    "gradient_descent(X_train_features, Y_train_m4, theta_vector, alpha, iterations, X_test_features, y_test, 'modelo_4')\n",
    "### FIN ##"
   ]
  },
  {
   "cell_type": "code",
   "execution_count": 324,
   "metadata": {},
   "outputs": [
    {
     "data": {
      "image/png": "[encoded data removed]",
      "text/plain": [
       "<Figure size 432x288 with 1 Axes>"
      ]
     },
     "metadata": {},
     "output_type": "display_data"
    }
   ],
   "source": [
    "## Funcion para graficar el costo y  accuracy durante cada iteracion ##\n",
    "helper.training_graph(cost_vect, acc_vect, acc_vect_test)"
   ]
  },
  {
   "cell_type": "markdown",
   "metadata": {},
   "source": [
    "#### Accuracy con el Test set [Modelo 4]"
   ]
  },
  {
   "cell_type": "code",
   "execution_count": 325,
   "metadata": {},
   "outputs": [],
   "source": [
    "y_predict = prediccion(X_test_features, modelo_4_theta_values, True)"
   ]
  },
  {
   "cell_type": "code",
   "execution_count": 326,
   "metadata": {
    "scrolled": false
   },
   "outputs": [
    {
     "name": "stdout",
     "output_type": "stream",
     "text": [
      "Accuracy: 91.6083916083916 %\n"
     ]
    }
   ],
   "source": [
    "print('Accuracy:',accuracy_score(y_test, y_predict)* 100 ,'%')"
   ]
  },
  {
   "cell_type": "markdown",
   "metadata": {},
   "source": [
    "#### Matriz de confusion Test Set [Modelo 4]"
   ]
  },
  {
   "cell_type": "code",
   "execution_count": 327,
   "metadata": {
    "scrolled": true
   },
   "outputs": [
    {
     "data": {
      "text/plain": [
       "array([[46,  7],\n",
       "       [ 5, 85]], dtype=int64)"
      ]
     },
     "execution_count": 327,
     "metadata": {},
     "output_type": "execute_result"
    }
   ],
   "source": [
    "confusion_matrix(y_test, y_predict)"
   ]
  },
  {
   "cell_type": "code",
   "execution_count": 328,
   "metadata": {},
   "outputs": [
    {
     "name": "stdout",
     "output_type": "stream",
     "text": [
      "precision:  0.9239130434782609\n",
      "recall:  0.9444444444444444\n"
     ]
    }
   ],
   "source": [
    "print('precision: ',precision_score(y_test, y_predict))\n",
    "\n",
    "print('recall: ', recall_score(y_test, y_predict))"
   ]
  },
  {
   "cell_type": "markdown",
   "metadata": {},
   "source": [
    "## Entrenamiento modelo 5"
   ]
  },
  {
   "cell_type": "markdown",
   "metadata": {},
   "source": [
    "#### Sampleo bootstrap"
   ]
  },
  {
   "cell_type": "code",
   "execution_count": 288,
   "metadata": {},
   "outputs": [],
   "source": [
    "X_train_m5, Y_train_m5 = resample(X_train, y_train, n_samples = 1000)"
   ]
  },
  {
   "cell_type": "markdown",
   "metadata": {},
   "source": [
    "### Filtrar Features\n",
    "Solo seleccionar los features"
   ]
  },
  {
   "cell_type": "code",
   "execution_count": 289,
   "metadata": {},
   "outputs": [],
   "source": [
    "'''\n",
    "Ingresa en la lista el nombre de las fatrues que quieres utlizar en este modelo (~1 linea)\n",
    "'''\n",
    "features_filtro = ['mean radius', 'mean texture', 'mean perimeter', 'mean area','mean smoothness']"
   ]
  },
  {
   "cell_type": "code",
   "execution_count": 290,
   "metadata": {},
   "outputs": [],
   "source": [
    "X_train_m5 = helper.fitrar_nombre(X_train_m5,data.feature_names,features_filtro)\n",
    "X_test_features = helper.fitrar_nombre(X_test,data.feature_names,features_filtro)"
   ]
  },
  {
   "cell_type": "code",
   "execution_count": 291,
   "metadata": {},
   "outputs": [],
   "source": [
    "## Numero de iteracions ##\n",
    "iterations = 2000 # Define el numero de iteraciones #\n",
    "\n",
    "## Alpha ##\n",
    "alpha = 0.01 # Define el valor de alpha #\n",
    "\n",
    "#### No hay que cambiar el codigo despues de esta linea #####\n",
    "## Numero de feautres ##\n",
    "numero_features = X_train_m5.shape[1] + 1\n",
    "\n",
    "## Creamos un vector donde se almacenan los valores de Theta,\n",
    "## lo inicializamos con numeros aleatorios\n",
    "theta_vector = np.random.rand(numero_features)\n",
    "\n",
    "## Normaliza las features de X_train_features (~1 linea) ##\n",
    "X_train_m5 = normalizar(X_train_m5)\n",
    "\n",
    "# Creando la Matriz X de features\n",
    "X_train_features = np.ones((X_train_m5.shape[0], numero_features))\n",
    "X_train_features[:,:-1] = X_train_m5"
   ]
  },
  {
   "cell_type": "code",
   "execution_count": 292,
   "metadata": {
    "scrolled": true
   },
   "outputs": [
    {
     "name": "stdout",
     "output_type": "stream",
     "text": [
      "#####################\n",
      "TRAINING: [Iteracion:  0  Costo:  2.2167508012776675  Accuracy: 0.103  F1 Score: 0.17021276595744683 Precision training: 0.2119815668202765 Recall training: <function recall at 0x00000162B3EFE7B8> ]\n",
      "TEST: [Iteracion:  0 Accuracy: 0.14685314685314685  F1 Score: 0.23750000000000002 Precision Test: 0.2714285714285714 Recall Test: 0.2111111111111111 ]\n",
      "#####################\n",
      "TRAINING: [Iteracion:  50  Costo:  1.5520858042627022  Accuracy: 0.163  F1 Score: 0.27154046997389036 Precision training: 0.3107569721115538 Recall training: <function recall at 0x00000162B3EFE7B8> ]\n",
      "TEST: [Iteracion:  50 Accuracy: 0.23076923076923078  F1 Score: 0.367816091954023 Precision Test: 0.38095238095238093 Recall Test: 0.35555555555555557 ]\n",
      "#####################\n",
      "TRAINING: [Iteracion:  100  Costo:  1.0461334053058367  Accuracy: 0.317  F1 Score: 0.47822765469824297 Precision training: 0.472809667673716 Recall training: <function recall at 0x00000162B3EFE7B8> ]\n",
      "TEST: [Iteracion:  100 Accuracy: 0.32167832167832167  F1 Score: 0.4867724867724868 Precision Test: 0.46464646464646464 Recall Test: 0.5111111111111111 ]\n",
      "#####################\n",
      "TRAINING: [Iteracion:  150  Costo:  0.7219977051892845  Accuracy: 0.583  F1 Score: 0.729747245625405 Precision training: 0.6283482142857143 Recall training: <function recall at 0x00000162B3EFE7B8> ]\n",
      "TEST: [Iteracion:  150 Accuracy: 0.5664335664335665  F1 Score: 0.718181818181818 Precision Test: 0.6076923076923076 Recall Test: 0.8777777777777778 ]\n",
      "#####################\n",
      "TRAINING: [Iteracion:  200  Costo:  0.5490350694363911  Accuracy: 0.773  F1 Score: 0.8439862542955326 Precision training: 0.7599009900990099 Recall training: <function recall at 0x00000162B3EFE7B8> ]\n",
      "TEST: [Iteracion:  200 Accuracy: 0.7762237762237763  F1 Score: 0.8461538461538463 Precision Test: 0.7457627118644068 Recall Test: 0.9777777777777777 ]\n",
      "#####################\n",
      "TRAINING: [Iteracion:  250  Costo:  0.4570921326163231  Accuracy: 0.843  F1 Score: 0.8898245614035087 Precision training: 0.8149100257069408 Recall training: <function recall at 0x00000162B3EFE7B8> ]\n",
      "TEST: [Iteracion:  250 Accuracy: 0.8391608391608392  F1 Score: 0.8844221105527638 Precision Test: 0.8073394495412844 Recall Test: 0.9777777777777777 ]\n",
      "#####################\n",
      "TRAINING: [Iteracion:  300  Costo:  0.40129532389585515  Accuracy: 0.873  F1 Score: 0.9085673146148308 Precision training: 0.8504043126684636 Recall training: <function recall at 0x00000162B3EFE7B8> ]\n",
      "TEST: [Iteracion:  300 Accuracy: 0.8601398601398601  F1 Score: 0.8979591836734695 Precision Test: 0.8301886792452831 Recall Test: 0.9777777777777777 ]\n",
      "#####################\n",
      "TRAINING: [Iteracion:  350  Costo:  0.3634461139692932  Accuracy: 0.882  F1 Score: 0.9144927536231884 Precision training: 0.8608458390177354 Recall training: <function recall at 0x00000162B3EFE7B8> ]\n",
      "TEST: [Iteracion:  350 Accuracy: 0.8881118881118881  F1 Score: 0.9166666666666665 Precision Test: 0.8627450980392157 Recall Test: 0.9777777777777777 ]\n",
      "#####################\n",
      "TRAINING: [Iteracion:  400  Costo:  0.335798654904774  Accuracy: 0.88  F1 Score: 0.9124087591240876 Precision training: 0.8644536652835408 Recall training: <function recall at 0x00000162B3EFE7B8> ]\n",
      "TEST: [Iteracion:  400 Accuracy: 0.8881118881118881  F1 Score: 0.9157894736842105 Precision Test: 0.87 Recall Test: 0.9666666666666667 ]\n",
      "#####################\n",
      "TRAINING: [Iteracion:  450  Costo:  0.31456072964529436  Accuracy: 0.885  F1 Score: 0.9162418062636564 Precision training: 0.8663911845730028 Recall training: <function recall at 0x00000162B3EFE7B8> ]\n",
      "TEST: [Iteracion:  450 Accuracy: 0.8881118881118881  F1 Score: 0.9157894736842105 Precision Test: 0.87 Recall Test: 0.9666666666666667 ]\n",
      "#####################\n",
      "TRAINING: [Iteracion:  500  Costo:  0.29764882725598885  Accuracy: 0.891  F1 Score: 0.9202633504023409 Precision training: 0.8736111111111111 Recall training: <function recall at 0x00000162B3EFE7B8> ]\n",
      "TEST: [Iteracion:  500 Accuracy: 0.916083916083916  F1 Score: 0.9361702127659575 Precision Test: 0.8979591836734694 Recall Test: 0.9777777777777777 ]\n",
      "#####################\n",
      "TRAINING: [Iteracion:  550  Costo:  0.2838147383394615  Accuracy: 0.893  F1 Score: 0.9216117216117216 Precision training: 0.8760445682451253 Recall training: <function recall at 0x00000162B3EFE7B8> ]\n",
      "TEST: [Iteracion:  550 Accuracy: 0.916083916083916  F1 Score: 0.9361702127659575 Precision Test: 0.8979591836734694 Recall Test: 0.9777777777777777 ]\n",
      "#####################\n",
      "TRAINING: [Iteracion:  600  Costo:  0.27226001496740243  Accuracy: 0.905  F1 Score: 0.9297856614929786 Precision training: 0.8909348441926346 Recall training: <function recall at 0x00000162B3EFE7B8> ]\n",
      "TEST: [Iteracion:  600 Accuracy: 0.916083916083916  F1 Score: 0.9361702127659575 Precision Test: 0.8979591836734694 Recall Test: 0.9777777777777777 ]\n",
      "#####################\n",
      "TRAINING: [Iteracion:  650  Costo:  0.2624472446936591  Accuracy: 0.902  F1 Score: 0.9274074074074073 Precision training: 0.8904694167852063 Recall training: <function recall at 0x00000162B3EFE7B8> ]\n",
      "TEST: [Iteracion:  650 Accuracy: 0.916083916083916  F1 Score: 0.9361702127659575 Precision Test: 0.8979591836734694 Recall Test: 0.9777777777777777 ]\n",
      "#####################\n",
      "TRAINING: [Iteracion:  700  Costo:  0.2539997598491137  Accuracy: 0.906  F1 Score: 0.9303703703703704 Precision training: 0.8933143669985776 Recall training: <function recall at 0x00000162B3EFE7B8> ]\n",
      "TEST: [Iteracion:  700 Accuracy: 0.9300699300699301  F1 Score: 0.946808510638298 Precision Test: 0.9081632653061225 Recall Test: 0.9888888888888889 ]\n",
      "#####################\n",
      "TRAINING: [Iteracion:  750  Costo:  0.24664471954254522  Accuracy: 0.906  F1 Score: 0.9303703703703704 Precision training: 0.8933143669985776 Recall training: <function recall at 0x00000162B3EFE7B8> ]\n",
      "TEST: [Iteracion:  750 Accuracy: 0.9300699300699301  F1 Score: 0.946808510638298 Precision Test: 0.9081632653061225 Recall Test: 0.9888888888888889 ]\n",
      "#####################\n",
      "TRAINING: [Iteracion:  800  Costo:  0.24017903014705902  Accuracy: 0.91  F1 Score: 0.9331352154531946 Precision training: 0.8984263233190272 Recall training: <function recall at 0x00000162B3EFE7B8> ]\n",
      "TEST: [Iteracion:  800 Accuracy: 0.9300699300699301  F1 Score: 0.946808510638298 Precision Test: 0.9081632653061225 Recall Test: 0.9888888888888889 ]\n",
      "#####################\n",
      "TRAINING: [Iteracion:  850  Costo:  0.23444801453839692  Accuracy: 0.915  F1 Score: 0.9366144668158091 Precision training: 0.9048991354466859 Recall training: <function recall at 0x00000162B3EFE7B8> ]\n",
      "TEST: [Iteracion:  850 Accuracy: 0.9370629370629371  F1 Score: 0.9518716577540107 Precision Test: 0.9175257731958762 Recall Test: 0.9888888888888889 ]\n",
      "#####################\n",
      "TRAINING: [Iteracion:  900  Costo:  0.229331552745106  Accuracy: 0.916  F1 Score: 0.9373134328358209 Precision training: 0.9062049062049062 Recall training: <function recall at 0x00000162B3EFE7B8> ]\n",
      "TEST: [Iteracion:  900 Accuracy: 0.9370629370629371  F1 Score: 0.9518716577540107 Precision Test: 0.9175257731958762 Recall Test: 0.9888888888888889 ]\n",
      "#####################\n",
      "TRAINING: [Iteracion:  950  Costo:  0.22473478525446633  Accuracy: 0.918  F1 Score: 0.9387144992526159 Precision training: 0.9088277858176556 Recall training: <function recall at 0x00000162B3EFE7B8> ]\n",
      "TEST: [Iteracion:  950 Accuracy: 0.9370629370629371  F1 Score: 0.9518716577540107 Precision Test: 0.9175257731958762 Recall Test: 0.9888888888888889 ]\n",
      "#####################\n",
      "TRAINING: [Iteracion:  1000  Costo:  0.22058170275898484  Accuracy: 0.921  F1 Score: 0.9410887397464578 Precision training: 0.909221902017291 Recall training: <function recall at 0x00000162B3EFE7B8> ]\n",
      "TEST: [Iteracion:  1000 Accuracy: 0.9300699300699301  F1 Score: 0.946236559139785 Precision Test: 0.9166666666666666 Recall Test: 0.9777777777777777 ]\n",
      "#####################\n",
      "TRAINING: [Iteracion:  1050  Costo:  0.21681061871169288  Accuracy: 0.924  F1 Score: 0.943452380952381 Precision training: 0.9096126255380201 Recall training: <function recall at 0x00000162B3EFE7B8> ]\n",
      "TEST: [Iteracion:  1050 Accuracy: 0.9300699300699301  F1 Score: 0.946236559139785 Precision Test: 0.9166666666666666 Recall Test: 0.9777777777777777 ]\n",
      "#####################\n",
      "TRAINING: [Iteracion:  1100  Costo:  0.21337090342802692  Accuracy: 0.919  F1 Score: 0.9395070948469006 Precision training: 0.9089595375722543 Recall training: <function recall at 0x00000162B3EFE7B8> ]\n",
      "TEST: [Iteracion:  1100 Accuracy: 0.9300699300699301  F1 Score: 0.946236559139785 Precision Test: 0.9166666666666666 Recall Test: 0.9777777777777777 ]\n"
     ]
    },
    {
     "name": "stdout",
     "output_type": "stream",
     "text": [
      "#####################\n",
      "TRAINING: [Iteracion:  1150  Costo:  0.21022058375227065  Accuracy: 0.919  F1 Score: 0.9395070948469006 Precision training: 0.9089595375722543 Recall training: <function recall at 0x00000162B3EFE7B8> ]\n",
      "TEST: [Iteracion:  1150 Accuracy: 0.9300699300699301  F1 Score: 0.946236559139785 Precision Test: 0.9166666666666666 Recall Test: 0.9777777777777777 ]\n",
      "#####################\n",
      "TRAINING: [Iteracion:  1200  Costo:  0.2073245492688556  Accuracy: 0.919  F1 Score: 0.9395070948469006 Precision training: 0.9089595375722543 Recall training: <function recall at 0x00000162B3EFE7B8> ]\n",
      "TEST: [Iteracion:  1200 Accuracy: 0.9300699300699301  F1 Score: 0.946236559139785 Precision Test: 0.9166666666666666 Recall Test: 0.9777777777777777 ]\n",
      "#####################\n",
      "TRAINING: [Iteracion:  1250  Costo:  0.20465319166045745  Accuracy: 0.919  F1 Score: 0.9395070948469006 Precision training: 0.9089595375722543 Recall training: <function recall at 0x00000162B3EFE7B8> ]\n",
      "TEST: [Iteracion:  1250 Accuracy: 0.9300699300699301  F1 Score: 0.946236559139785 Precision Test: 0.9166666666666666 Recall Test: 0.9777777777777777 ]\n",
      "#####################\n",
      "TRAINING: [Iteracion:  1300  Costo:  0.20218135869228068  Accuracy: 0.92  F1 Score: 0.9402092675635276 Precision training: 0.91027496382055 Recall training: <function recall at 0x00000162B3EFE7B8> ]\n",
      "TEST: [Iteracion:  1300 Accuracy: 0.9300699300699301  F1 Score: 0.946236559139785 Precision Test: 0.9166666666666666 Recall Test: 0.9777777777777777 ]\n",
      "#####################\n",
      "TRAINING: [Iteracion:  1350  Costo:  0.1998875402733617  Accuracy: 0.922  F1 Score: 0.9416167664670659 Precision training: 0.9129172714078374 Recall training: <function recall at 0x00000162B3EFE7B8> ]\n",
      "TEST: [Iteracion:  1350 Accuracy: 0.9230769230769231  F1 Score: 0.9405405405405406 Precision Test: 0.9157894736842105 Recall Test: 0.9666666666666667 ]\n",
      "#####################\n",
      "TRAINING: [Iteracion:  1400  Costo:  0.19775322810927543  Accuracy: 0.926  F1 Score: 0.9444444444444444 Precision training: 0.9182481751824818 Recall training: <function recall at 0x00000162B3EFE7B8> ]\n",
      "TEST: [Iteracion:  1400 Accuracy: 0.9230769230769231  F1 Score: 0.9405405405405406 Precision Test: 0.9157894736842105 Recall Test: 0.9666666666666667 ]\n",
      "#####################\n",
      "TRAINING: [Iteracion:  1450  Costo:  0.19576240685940646  Accuracy: 0.931  F1 Score: 0.9480030143180105 Precision training: 0.925 Recall training: <function recall at 0x00000162B3EFE7B8> ]\n",
      "TEST: [Iteracion:  1450 Accuracy: 0.9230769230769231  F1 Score: 0.9405405405405406 Precision Test: 0.9157894736842105 Recall Test: 0.9666666666666667 ]\n",
      "#####################\n",
      "TRAINING: [Iteracion:  1500  Costo:  0.19390114607840547  Accuracy: 0.931  F1 Score: 0.9480030143180105 Precision training: 0.925 Recall training: <function recall at 0x00000162B3EFE7B8> ]\n",
      "TEST: [Iteracion:  1500 Accuracy: 0.9230769230769231  F1 Score: 0.9405405405405406 Precision Test: 0.9157894736842105 Recall Test: 0.9666666666666667 ]\n",
      "#####################\n",
      "TRAINING: [Iteracion:  1550  Costo:  0.19215727022344667  Accuracy: 0.927  F1 Score: 0.944822373393802 Precision training: 0.9245562130177515 Recall training: <function recall at 0x00000162B3EFE7B8> ]\n",
      "TEST: [Iteracion:  1550 Accuracy: 0.9230769230769231  F1 Score: 0.9405405405405406 Precision Test: 0.9157894736842105 Recall Test: 0.9666666666666667 ]\n",
      "#####################\n",
      "TRAINING: [Iteracion:  1600  Costo:  0.19052008972359635  Accuracy: 0.927  F1 Score: 0.944822373393802 Precision training: 0.9245562130177515 Recall training: <function recall at 0x00000162B3EFE7B8> ]\n",
      "TEST: [Iteracion:  1600 Accuracy: 0.9230769230769231  F1 Score: 0.9405405405405406 Precision Test: 0.9157894736842105 Recall Test: 0.9666666666666667 ]\n",
      "#####################\n",
      "TRAINING: [Iteracion:  1650  Costo:  0.18898018024314925  Accuracy: 0.927  F1 Score: 0.944822373393802 Precision training: 0.9245562130177515 Recall training: <function recall at 0x00000162B3EFE7B8> ]\n",
      "TEST: [Iteracion:  1650 Accuracy: 0.9230769230769231  F1 Score: 0.9405405405405406 Precision Test: 0.9157894736842105 Recall Test: 0.9666666666666667 ]\n",
      "#####################\n",
      "TRAINING: [Iteracion:  1700  Costo:  0.18752920030040274  Accuracy: 0.927  F1 Score: 0.944822373393802 Precision training: 0.9245562130177515 Recall training: <function recall at 0x00000162B3EFE7B8> ]\n",
      "TEST: [Iteracion:  1700 Accuracy: 0.916083916083916  F1 Score: 0.9347826086956522 Precision Test: 0.9148936170212766 Recall Test: 0.9555555555555556 ]\n",
      "#####################\n",
      "TRAINING: [Iteracion:  1750  Costo:  0.1861597396480928  Accuracy: 0.931  F1 Score: 0.9476876421531464 Precision training: 0.9300595238095238 Recall training: <function recall at 0x00000162B3EFE7B8> ]\n",
      "TEST: [Iteracion:  1750 Accuracy: 0.9090909090909091  F1 Score: 0.9289617486338798 Precision Test: 0.9139784946236559 Recall Test: 0.9444444444444444 ]\n",
      "#####################\n",
      "TRAINING: [Iteracion:  1800  Costo:  0.18486519250255956  Accuracy: 0.936  F1 Score: 0.9512937595129376 Precision training: 0.9370314842578711 Recall training: <function recall at 0x00000162B3EFE7B8> ]\n",
      "TEST: [Iteracion:  1800 Accuracy: 0.9090909090909091  F1 Score: 0.9289617486338798 Precision Test: 0.9139784946236559 Recall Test: 0.9444444444444444 ]\n",
      "#####################\n",
      "TRAINING: [Iteracion:  1850  Costo:  0.18363965097970958  Accuracy: 0.936  F1 Score: 0.9512937595129376 Precision training: 0.9370314842578711 Recall training: <function recall at 0x00000162B3EFE7B8> ]\n",
      "TEST: [Iteracion:  1850 Accuracy: 0.9090909090909091  F1 Score: 0.9289617486338798 Precision Test: 0.9139784946236559 Recall Test: 0.9444444444444444 ]\n",
      "#####################\n",
      "TRAINING: [Iteracion:  1900  Costo:  0.1824778150657565  Accuracy: 0.936  F1 Score: 0.9512937595129376 Precision training: 0.9370314842578711 Recall training: <function recall at 0x00000162B3EFE7B8> ]\n",
      "TEST: [Iteracion:  1900 Accuracy: 0.9090909090909091  F1 Score: 0.9289617486338798 Precision Test: 0.9139784946236559 Recall Test: 0.9444444444444444 ]\n",
      "#####################\n",
      "TRAINING: [Iteracion:  1950  Costo:  0.1813749161972191  Accuracy: 0.937  F1 Score: 0.952018278750952 Precision training: 0.9384384384384384 Recall training: <function recall at 0x00000162B3EFE7B8> ]\n",
      "TEST: [Iteracion:  1950 Accuracy: 0.9090909090909091  F1 Score: 0.9289617486338798 Precision Test: 0.9139784946236559 Recall Test: 0.9444444444444444 ]\n"
     ]
    }
   ],
   "source": [
    "## Llama a la funcion de gradient descent, recurda definir un nombre diferente para el modelo (~1 linea) ##\n",
    "modelo_5_theta_values, cost_vect, acc_vect, acc_vect_test = \\\n",
    "gradient_descent(X_train_features, Y_train_m5, theta_vector, alpha, iterations, X_test_features, y_test, 'modelo_5')\n",
    "### FIN ##"
   ]
  },
  {
   "cell_type": "code",
   "execution_count": 293,
   "metadata": {},
   "outputs": [
    {
     "data": {
      "image/png": "[encoded data removed]",
      "text/plain": [
       "<Figure size 432x288 with 1 Axes>"
      ]
     },
     "metadata": {},
     "output_type": "display_data"
    }
   ],
   "source": [
    "## Funcion para graficar el costo y  accuracy durante cada iteracion ##\n",
    "helper.training_graph(cost_vect, acc_vect, acc_vect_test)"
   ]
  },
  {
   "cell_type": "markdown",
   "metadata": {},
   "source": [
    "#### Accuracy con el Test set [Modelo 5]"
   ]
  },
  {
   "cell_type": "code",
   "execution_count": 294,
   "metadata": {},
   "outputs": [],
   "source": [
    "y_predict = prediccion(X_test_features, modelo_5_theta_values, True)"
   ]
  },
  {
   "cell_type": "code",
   "execution_count": 295,
   "metadata": {
    "scrolled": false
   },
   "outputs": [
    {
     "name": "stdout",
     "output_type": "stream",
     "text": [
      "Accuracy: 90.9090909090909 %\n"
     ]
    }
   ],
   "source": [
    "print('Accuracy:',accuracy_score(y_test, y_predict)* 100 ,'%')"
   ]
  },
  {
   "cell_type": "markdown",
   "metadata": {},
   "source": [
    "#### Matriz de confusion Test Set [Modelo 5]"
   ]
  },
  {
   "cell_type": "code",
   "execution_count": 296,
   "metadata": {
    "scrolled": true
   },
   "outputs": [
    {
     "data": {
      "text/plain": [
       "array([[45,  8],\n",
       "       [ 5, 85]], dtype=int64)"
      ]
     },
     "execution_count": 296,
     "metadata": {},
     "output_type": "execute_result"
    }
   ],
   "source": [
    "confusion_matrix(y_test, y_predict)"
   ]
  },
  {
   "cell_type": "code",
   "execution_count": 297,
   "metadata": {},
   "outputs": [
    {
     "name": "stdout",
     "output_type": "stream",
     "text": [
      "precision:  0.9139784946236559\n",
      "recall:  0.9444444444444444\n"
     ]
    }
   ],
   "source": [
    "print('precision: ',precision_score(y_test, y_predict))\n",
    "\n",
    "print('recall: ', recall_score(y_test, y_predict))"
   ]
  },
  {
   "cell_type": "markdown",
   "metadata": {},
   "source": [
    "# Comparacion de Modelos\n",
    "Es importante llevar un registro de los resultados de nuestros modelos y los hyperparametros que utilizamos, para ir comparando y ajustando los modelos. En nuestra función de gradient descent esta implementado un registro a bitacora, que almacena cada ejecucion de la funcion.\n",
    "\n",
    "Este registro almacena datos que nos van a servir para comprar los modelos y tambien almacena los valores theta del modelo, por lo que podemos guardar los modelos y utlizarlos despues.\n",
    "A continuacion vamos a desplegar en la siguiente celda y nos va ayudar a tomar una decisión de cual es el mejor modelo.\n",
    "\n",
    "Es recomendable que, luego de analizar los resultados del registro ejecutemos de nuevo alguno de los modelos cambiando los hyperparametros o numero de ejemplos y ver con cuales obtenemos mejores resultados.\n",
    "\n",
    "Podemos ejecutar la funcion `helper.guardar_log_book(log_book)` para almacenar en disco los modelos.\n",
    "\n",
    "Para el ultimo paso donde exportamos el modelo debemos utilizar la funcion `helper.filter_log_book(log_book, nombre_modelo)` para obtener el mejor modelo y exportalo."
   ]
  },
  {
   "cell_type": "code",
   "execution_count": 329,
   "metadata": {},
   "outputs": [
    {
     "data": {
      "text/html": [
       "<div>\n",
       "<style scoped>\n",
       "    .dataframe tbody tr th:only-of-type {\n",
       "        vertical-align: middle;\n",
       "    }\n",
       "\n",
       "    .dataframe tbody tr th {\n",
       "        vertical-align: top;\n",
       "    }\n",
       "\n",
       "    .dataframe thead th {\n",
       "        text-align: right;\n",
       "    }\n",
       "</style>\n",
       "<table border=\"1\" class=\"dataframe\">\n",
       "  <thead>\n",
       "    <tr style=\"text-align: right;\">\n",
       "      <th></th>\n",
       "      <th>Nombre Modelo</th>\n",
       "      <th>Numero de features</th>\n",
       "      <th>Numero de ejemplos</th>\n",
       "      <th>Alpha</th>\n",
       "      <th>Numero de Iteraciones</th>\n",
       "      <th>Accuracy Training</th>\n",
       "      <th>Accuracy Test</th>\n",
       "      <th>F1 score Test</th>\n",
       "      <th>Precision Test</th>\n",
       "      <th>Recall Test</th>\n",
       "    </tr>\n",
       "  </thead>\n",
       "  <tbody>\n",
       "    <tr>\n",
       "      <th>0</th>\n",
       "      <td>modelo_1_091621191652</td>\n",
       "      <td>2</td>\n",
       "      <td>150</td>\n",
       "      <td>0.10</td>\n",
       "      <td>500</td>\n",
       "      <td>0.893333</td>\n",
       "      <td>0.888112</td>\n",
       "      <td>0.913978</td>\n",
       "      <td>0.885417</td>\n",
       "      <td>0.944444</td>\n",
       "    </tr>\n",
       "    <tr>\n",
       "      <th>1</th>\n",
       "      <td>modelo_2_091621019731</td>\n",
       "      <td>3</td>\n",
       "      <td>400</td>\n",
       "      <td>0.05</td>\n",
       "      <td>1000</td>\n",
       "      <td>0.932500</td>\n",
       "      <td>0.881119</td>\n",
       "      <td>0.906077</td>\n",
       "      <td>0.901099</td>\n",
       "      <td>0.911111</td>\n",
       "    </tr>\n",
       "    <tr>\n",
       "      <th>2</th>\n",
       "      <td>modelo_3_091622555440</td>\n",
       "      <td>4</td>\n",
       "      <td>460</td>\n",
       "      <td>0.02</td>\n",
       "      <td>1500</td>\n",
       "      <td>0.902174</td>\n",
       "      <td>0.888112</td>\n",
       "      <td>0.914894</td>\n",
       "      <td>0.877551</td>\n",
       "      <td>0.955556</td>\n",
       "    </tr>\n",
       "    <tr>\n",
       "      <th>3</th>\n",
       "      <td>modelo_4_091622042363</td>\n",
       "      <td>5</td>\n",
       "      <td>460</td>\n",
       "      <td>0.03</td>\n",
       "      <td>1000</td>\n",
       "      <td>0.963043</td>\n",
       "      <td>0.909091</td>\n",
       "      <td>0.928177</td>\n",
       "      <td>0.923077</td>\n",
       "      <td>0.933333</td>\n",
       "    </tr>\n",
       "    <tr>\n",
       "      <th>4</th>\n",
       "      <td>modelo_5_091623071824</td>\n",
       "      <td>5</td>\n",
       "      <td>460</td>\n",
       "      <td>0.01</td>\n",
       "      <td>2000</td>\n",
       "      <td>0.963043</td>\n",
       "      <td>0.909091</td>\n",
       "      <td>0.928177</td>\n",
       "      <td>0.923077</td>\n",
       "      <td>0.933333</td>\n",
       "    </tr>\n",
       "    <tr>\n",
       "      <th>5</th>\n",
       "      <td>modelo_1_091631516560</td>\n",
       "      <td>5</td>\n",
       "      <td>150</td>\n",
       "      <td>0.10</td>\n",
       "      <td>500</td>\n",
       "      <td>0.946667</td>\n",
       "      <td>0.867133</td>\n",
       "      <td>0.887574</td>\n",
       "      <td>0.949367</td>\n",
       "      <td>0.833333</td>\n",
       "    </tr>\n",
       "    <tr>\n",
       "      <th>6</th>\n",
       "      <td>modelo_1_091631285497</td>\n",
       "      <td>3</td>\n",
       "      <td>150</td>\n",
       "      <td>0.10</td>\n",
       "      <td>500</td>\n",
       "      <td>0.906667</td>\n",
       "      <td>0.895105</td>\n",
       "      <td>0.920635</td>\n",
       "      <td>0.878788</td>\n",
       "      <td>0.966667</td>\n",
       "    </tr>\n",
       "    <tr>\n",
       "      <th>7</th>\n",
       "      <td>modelo_1_091632598291</td>\n",
       "      <td>4</td>\n",
       "      <td>150</td>\n",
       "      <td>0.10</td>\n",
       "      <td>500</td>\n",
       "      <td>0.900000</td>\n",
       "      <td>0.888112</td>\n",
       "      <td>0.908046</td>\n",
       "      <td>0.940476</td>\n",
       "      <td>0.877778</td>\n",
       "    </tr>\n",
       "    <tr>\n",
       "      <th>8</th>\n",
       "      <td>modelo_2_091633516168</td>\n",
       "      <td>2</td>\n",
       "      <td>400</td>\n",
       "      <td>0.05</td>\n",
       "      <td>1000</td>\n",
       "      <td>0.902500</td>\n",
       "      <td>0.881119</td>\n",
       "      <td>0.908108</td>\n",
       "      <td>0.884211</td>\n",
       "      <td>0.933333</td>\n",
       "    </tr>\n",
       "    <tr>\n",
       "      <th>9</th>\n",
       "      <td>modelo_2_091634773961</td>\n",
       "      <td>2</td>\n",
       "      <td>400</td>\n",
       "      <td>0.05</td>\n",
       "      <td>1000</td>\n",
       "      <td>0.927500</td>\n",
       "      <td>0.895105</td>\n",
       "      <td>0.919786</td>\n",
       "      <td>0.886598</td>\n",
       "      <td>0.955556</td>\n",
       "    </tr>\n",
       "    <tr>\n",
       "      <th>10</th>\n",
       "      <td>modelo_2_091635528906</td>\n",
       "      <td>5</td>\n",
       "      <td>400</td>\n",
       "      <td>0.05</td>\n",
       "      <td>1000</td>\n",
       "      <td>0.940000</td>\n",
       "      <td>0.902098</td>\n",
       "      <td>0.922222</td>\n",
       "      <td>0.922222</td>\n",
       "      <td>0.922222</td>\n",
       "    </tr>\n",
       "    <tr>\n",
       "      <th>11</th>\n",
       "      <td>modelo_3_091635505205</td>\n",
       "      <td>3</td>\n",
       "      <td>460</td>\n",
       "      <td>0.02</td>\n",
       "      <td>1500</td>\n",
       "      <td>0.913043</td>\n",
       "      <td>0.888112</td>\n",
       "      <td>0.913978</td>\n",
       "      <td>0.885417</td>\n",
       "      <td>0.944444</td>\n",
       "    </tr>\n",
       "    <tr>\n",
       "      <th>12</th>\n",
       "      <td>modelo_3_091636008667</td>\n",
       "      <td>2</td>\n",
       "      <td>460</td>\n",
       "      <td>0.02</td>\n",
       "      <td>1500</td>\n",
       "      <td>0.886957</td>\n",
       "      <td>0.902098</td>\n",
       "      <td>0.922222</td>\n",
       "      <td>0.922222</td>\n",
       "      <td>0.922222</td>\n",
       "    </tr>\n",
       "    <tr>\n",
       "      <th>13</th>\n",
       "      <td>modelo_3_091636300427</td>\n",
       "      <td>5</td>\n",
       "      <td>460</td>\n",
       "      <td>0.02</td>\n",
       "      <td>1500</td>\n",
       "      <td>0.950000</td>\n",
       "      <td>0.916084</td>\n",
       "      <td>0.932584</td>\n",
       "      <td>0.943182</td>\n",
       "      <td>0.922222</td>\n",
       "    </tr>\n",
       "    <tr>\n",
       "      <th>14</th>\n",
       "      <td>modelo_4_091637414896</td>\n",
       "      <td>4</td>\n",
       "      <td>460</td>\n",
       "      <td>0.03</td>\n",
       "      <td>1000</td>\n",
       "      <td>0.930435</td>\n",
       "      <td>0.895105</td>\n",
       "      <td>0.919786</td>\n",
       "      <td>0.886598</td>\n",
       "      <td>0.955556</td>\n",
       "    </tr>\n",
       "    <tr>\n",
       "      <th>15</th>\n",
       "      <td>modelo_4_091638274547</td>\n",
       "      <td>3</td>\n",
       "      <td>460</td>\n",
       "      <td>0.03</td>\n",
       "      <td>1000</td>\n",
       "      <td>0.908696</td>\n",
       "      <td>0.909091</td>\n",
       "      <td>0.927374</td>\n",
       "      <td>0.932584</td>\n",
       "      <td>0.922222</td>\n",
       "    </tr>\n",
       "    <tr>\n",
       "      <th>16</th>\n",
       "      <td>modelo_4_091638515275</td>\n",
       "      <td>2</td>\n",
       "      <td>460</td>\n",
       "      <td>0.03</td>\n",
       "      <td>1000</td>\n",
       "      <td>0.884783</td>\n",
       "      <td>0.888112</td>\n",
       "      <td>0.914894</td>\n",
       "      <td>0.877551</td>\n",
       "      <td>0.955556</td>\n",
       "    </tr>\n",
       "    <tr>\n",
       "      <th>17</th>\n",
       "      <td>modelo_5_091639651811</td>\n",
       "      <td>4</td>\n",
       "      <td>460</td>\n",
       "      <td>0.01</td>\n",
       "      <td>2000</td>\n",
       "      <td>0.908696</td>\n",
       "      <td>0.888112</td>\n",
       "      <td>0.914894</td>\n",
       "      <td>0.877551</td>\n",
       "      <td>0.955556</td>\n",
       "    </tr>\n",
       "    <tr>\n",
       "      <th>18</th>\n",
       "      <td>modelo_5_091639638676</td>\n",
       "      <td>3</td>\n",
       "      <td>460</td>\n",
       "      <td>0.01</td>\n",
       "      <td>2000</td>\n",
       "      <td>0.876087</td>\n",
       "      <td>0.895105</td>\n",
       "      <td>0.918919</td>\n",
       "      <td>0.894737</td>\n",
       "      <td>0.944444</td>\n",
       "    </tr>\n",
       "    <tr>\n",
       "      <th>19</th>\n",
       "      <td>modelo_5_091640405331</td>\n",
       "      <td>2</td>\n",
       "      <td>460</td>\n",
       "      <td>0.01</td>\n",
       "      <td>2000</td>\n",
       "      <td>0.882609</td>\n",
       "      <td>0.902098</td>\n",
       "      <td>0.925532</td>\n",
       "      <td>0.887755</td>\n",
       "      <td>0.966667</td>\n",
       "    </tr>\n",
       "    <tr>\n",
       "      <th>20</th>\n",
       "      <td>modelo_5_091640089494</td>\n",
       "      <td>5</td>\n",
       "      <td>1000</td>\n",
       "      <td>0.01</td>\n",
       "      <td>2000</td>\n",
       "      <td>0.937000</td>\n",
       "      <td>0.909091</td>\n",
       "      <td>0.928962</td>\n",
       "      <td>0.913978</td>\n",
       "      <td>0.944444</td>\n",
       "    </tr>\n",
       "    <tr>\n",
       "      <th>21</th>\n",
       "      <td>modelo_4_091641415784</td>\n",
       "      <td>5</td>\n",
       "      <td>1000</td>\n",
       "      <td>0.03</td>\n",
       "      <td>1000</td>\n",
       "      <td>0.947000</td>\n",
       "      <td>0.916084</td>\n",
       "      <td>0.934783</td>\n",
       "      <td>0.914894</td>\n",
       "      <td>0.955556</td>\n",
       "    </tr>\n",
       "    <tr>\n",
       "      <th>22</th>\n",
       "      <td>modelo_3_091642379040</td>\n",
       "      <td>5</td>\n",
       "      <td>1000</td>\n",
       "      <td>0.02</td>\n",
       "      <td>1500</td>\n",
       "      <td>0.954000</td>\n",
       "      <td>0.916084</td>\n",
       "      <td>0.934066</td>\n",
       "      <td>0.923913</td>\n",
       "      <td>0.944444</td>\n",
       "    </tr>\n",
       "    <tr>\n",
       "      <th>23</th>\n",
       "      <td>modelo_4_091645100961</td>\n",
       "      <td>5</td>\n",
       "      <td>1000</td>\n",
       "      <td>0.03</td>\n",
       "      <td>2000</td>\n",
       "      <td>0.960000</td>\n",
       "      <td>0.916084</td>\n",
       "      <td>0.934066</td>\n",
       "      <td>0.923913</td>\n",
       "      <td>0.944444</td>\n",
       "    </tr>\n",
       "  </tbody>\n",
       "</table>\n",
       "</div>"
      ],
      "text/plain": [
       "            Nombre Modelo Numero de features Numero de ejemplos  Alpha  \\\n",
       "0   modelo_1_091621191652                  2                150   0.10   \n",
       "1   modelo_2_091621019731                  3                400   0.05   \n",
       "2   modelo_3_091622555440                  4                460   0.02   \n",
       "3   modelo_4_091622042363                  5                460   0.03   \n",
       "4   modelo_5_091623071824                  5                460   0.01   \n",
       "5   modelo_1_091631516560                  5                150   0.10   \n",
       "6   modelo_1_091631285497                  3                150   0.10   \n",
       "7   modelo_1_091632598291                  4                150   0.10   \n",
       "8   modelo_2_091633516168                  2                400   0.05   \n",
       "9   modelo_2_091634773961                  2                400   0.05   \n",
       "10  modelo_2_091635528906                  5                400   0.05   \n",
       "11  modelo_3_091635505205                  3                460   0.02   \n",
       "12  modelo_3_091636008667                  2                460   0.02   \n",
       "13  modelo_3_091636300427                  5                460   0.02   \n",
       "14  modelo_4_091637414896                  4                460   0.03   \n",
       "15  modelo_4_091638274547                  3                460   0.03   \n",
       "16  modelo_4_091638515275                  2                460   0.03   \n",
       "17  modelo_5_091639651811                  4                460   0.01   \n",
       "18  modelo_5_091639638676                  3                460   0.01   \n",
       "19  modelo_5_091640405331                  2                460   0.01   \n",
       "20  modelo_5_091640089494                  5               1000   0.01   \n",
       "21  modelo_4_091641415784                  5               1000   0.03   \n",
       "22  modelo_3_091642379040                  5               1000   0.02   \n",
       "23  modelo_4_091645100961                  5               1000   0.03   \n",
       "\n",
       "   Numero de Iteraciones  Accuracy Training  Accuracy Test  F1 score Test  \\\n",
       "0                    500           0.893333       0.888112       0.913978   \n",
       "1                   1000           0.932500       0.881119       0.906077   \n",
       "2                   1500           0.902174       0.888112       0.914894   \n",
       "3                   1000           0.963043       0.909091       0.928177   \n",
       "4                   2000           0.963043       0.909091       0.928177   \n",
       "5                    500           0.946667       0.867133       0.887574   \n",
       "6                    500           0.906667       0.895105       0.920635   \n",
       "7                    500           0.900000       0.888112       0.908046   \n",
       "8                   1000           0.902500       0.881119       0.908108   \n",
       "9                   1000           0.927500       0.895105       0.919786   \n",
       "10                  1000           0.940000       0.902098       0.922222   \n",
       "11                  1500           0.913043       0.888112       0.913978   \n",
       "12                  1500           0.886957       0.902098       0.922222   \n",
       "13                  1500           0.950000       0.916084       0.932584   \n",
       "14                  1000           0.930435       0.895105       0.919786   \n",
       "15                  1000           0.908696       0.909091       0.927374   \n",
       "16                  1000           0.884783       0.888112       0.914894   \n",
       "17                  2000           0.908696       0.888112       0.914894   \n",
       "18                  2000           0.876087       0.895105       0.918919   \n",
       "19                  2000           0.882609       0.902098       0.925532   \n",
       "20                  2000           0.937000       0.909091       0.928962   \n",
       "21                  1000           0.947000       0.916084       0.934783   \n",
       "22                  1500           0.954000       0.916084       0.934066   \n",
       "23                  2000           0.960000       0.916084       0.934066   \n",
       "\n",
       "    Precision Test  Recall Test  \n",
       "0         0.885417     0.944444  \n",
       "1         0.901099     0.911111  \n",
       "2         0.877551     0.955556  \n",
       "3         0.923077     0.933333  \n",
       "4         0.923077     0.933333  \n",
       "5         0.949367     0.833333  \n",
       "6         0.878788     0.966667  \n",
       "7         0.940476     0.877778  \n",
       "8         0.884211     0.933333  \n",
       "9         0.886598     0.955556  \n",
       "10        0.922222     0.922222  \n",
       "11        0.885417     0.944444  \n",
       "12        0.922222     0.922222  \n",
       "13        0.943182     0.922222  \n",
       "14        0.886598     0.955556  \n",
       "15        0.932584     0.922222  \n",
       "16        0.877551     0.955556  \n",
       "17        0.877551     0.955556  \n",
       "18        0.894737     0.944444  \n",
       "19        0.887755     0.966667  \n",
       "20        0.913978     0.944444  \n",
       "21        0.914894     0.955556  \n",
       "22        0.923913     0.944444  \n",
       "23        0.923913     0.944444  "
      ]
     },
     "execution_count": 329,
     "metadata": {},
     "output_type": "execute_result"
    }
   ],
   "source": [
    "helper.print_log_book(log_book)"
   ]
  },
  {
   "cell_type": "markdown",
   "metadata": {},
   "source": [
    "### Guardando la bitacora"
   ]
  },
  {
   "cell_type": "code",
   "execution_count": 330,
   "metadata": {},
   "outputs": [],
   "source": [
    "helper.guardar_log_book(log_book)"
   ]
  },
  {
   "cell_type": "markdown",
   "metadata": {},
   "source": [
    "## Exportar el modelo\n",
    "\n",
    "Vamos a exportar el modelo para poder hacer deploy, ** el modelo exportado debe tener las cinco primeras feautures **. Por lo cual de todos tus experimentos, selecciona el mejor modelo que cumpla con usar las 5 features ya mencionadas.\n",
    "\n",
    "Selecciona tu mejor modelo:"
   ]
  },
  {
   "cell_type": "markdown",
   "metadata": {},
   "source": [
    "### Seleccionamos el mejor modelo\n",
    "\n",
    "Para seleccionar un modelo utilizamos la funcion `helper.filter_log_book()`.\n",
    "\n",
    "Esta funcion recibe de parametros la bitacora y el nombre del modelo que elegiste como el mejor\n",
    "\n",
    "`helper.filter_log_book(log_book, <nombre de nuestro mejor modelo>)`"
   ]
  },
  {
   "cell_type": "code",
   "execution_count": 333,
   "metadata": {},
   "outputs": [
    {
     "name": "stdout",
     "output_type": "stream",
     "text": [
      "[-1.0383717841750975, -1.2446892938714889, -1.9791009420431438, -1.270831495854934, -1.6238001210625612, 0.8679633881978583]\n"
     ]
    }
   ],
   "source": [
    "### INICIO: TU CODIGO AQUI:  (~1 linea)###\n",
    "modelo = helper.filter_log_book(log_book, 'modelo_4_091645100961')\n",
    "\n",
    "print(modelo)"
   ]
  },
  {
   "cell_type": "markdown",
   "metadata": {},
   "source": [
    "Se va a utilizar el siguiente codigo para guardar el modelo elegido en un archivo.\n",
    "\n",
    "Esto genera 2 archivos, en un archivo _model.csv se tienen los parametros de el modelo elegido.\n",
    "\n",
    "El segundo archivo llamado _momentos.csv guarda la media y desviacion estandar de cada features, esto sera utilizado\n",
    "en la aplicacion hecha por el profesor para aplicar normalizacion al realizar predicciones.\n",
    "\n",
    "No hay que cambiar nada de codigo, solo hay que ejecutar la celda para exportar nuestro modelo y luego enviar los archivos .csv al profesor"
   ]
  },
  {
   "cell_type": "code",
   "execution_count": 334,
   "metadata": {},
   "outputs": [
    {
     "name": "stdout",
     "output_type": "stream",
     "text": [
      "El modelo ha sido exportado [ 20150263_momentos.csv ]\n"
     ]
    }
   ],
   "source": [
    "import csv\n",
    "\n",
    "def exportar_modelo(model,carnet):\n",
    "    norm_std, norm_media = helper.get_normalizacion_vales(X_train[:,0:5])\n",
    "    with open(carnet + '_model.csv', 'w') as csvfile:\n",
    "        filewriter = csv.writer(csvfile, delimiter=',',quotechar='|', quoting=csv.QUOTE_MINIMAL)\n",
    "        filewriter.writerow(model)\n",
    "        \n",
    "    with open(carnet + '_momentos.csv', 'w') as csvfile:\n",
    "        filewriter = csv.writer(csvfile, delimiter=',',quotechar='|', quoting=csv.QUOTE_MINIMAL)\n",
    "        filewriter.writerow(norm_std)\n",
    "        filewriter.writerow(norm_media)\n",
    "        \n",
    "    print('El modelo ha sido exportado [',csvfile.name,']')\n",
    "    \n",
    "exportar_modelo(modelo,carnet)"
   ]
  },
  {
   "cell_type": "markdown",
   "metadata": {},
   "source": [
    "<img src=\"images/ai_cancer.png\" width=\"700\">"
   ]
  },
  {
   "cell_type": "markdown",
   "metadata": {},
   "source": [
    "# Una vez elegido y exportado tu modelo , debes enviar los archivos .csv resultantes al profesor por correo"
   ]
  },
  {
   "cell_type": "code",
   "execution_count": null,
   "metadata": {
    "collapsed": true
   },
   "outputs": [],
   "source": []
  }
 ],
 "metadata": {
  "kernelspec": {
   "display_name": "Python 3",
   "language": "python",
   "name": "python3"
  },
  "language_info": {
   "codemirror_mode": {
    "name": "ipython",
    "version": 3
   },
   "file_extension": ".py",
   "mimetype": "text/x-python",
   "name": "python",
   "nbconvert_exporter": "python",
   "pygments_lexer": "ipython3",
   "version": "3.6.5"
  }
 },
 "nbformat": 4,
 "nbformat_minor": 2
}
