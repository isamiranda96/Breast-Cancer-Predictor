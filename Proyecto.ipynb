{
 "cells": [
  {
   "cell_type": "markdown",
   "metadata": {},
   "source": [
    "# Proyecto\n",
    "\n",
    "\n",
    "En este proyecto vamos a hacer machine learning aplicado al ámbito medico ,específicamente diagnostico medico.\n",
    "Vamos a crear una aplicación que ayuda a diagnosticar si un tumor de seno es cancerígeno (maligno) o no (benigno)   .\n",
    "Para lograr esto vamos a utilizar un set de datos recopilado por diversos médicos , el cual contiene características de tumores de seno y el diagnostico final . Este es un problema de clasificación binaria ya que solo tenemos dos clases(maligno o benigno), se va a implementar regresión logística para obtener la probabilidad de que el tumor sea maligno.\n",
    "\n",
    "<img src=\"images/ai_cancer.png\" width=\"300\">\n",
    "\n",
    "Según lo visto en la clase en este proyecto el estudiante hará  todo el proceso de entrenamiento, evaluación y selección del modelo de machine learning(pasos 1 al 5 del diagrama de flujo de ejemplo) ,luego de seleccionar el mejor va a exportar el modelo (como fue explicado en la clase deployment/despliegue de modelos y va a entregarlo al profesor) ya que  este será utilizado dentro de una aplicación móvil (desarrollada por el profesor, paso 6 del diagrama )\n",
    "\n",
    "\n",
    "<img src=\"images/diagrama.png\" width=\"700\">"
   ]
  },
  {
   "cell_type": "code",
   "execution_count": 1,
   "metadata": {
    "collapsed": true
   },
   "outputs": [],
   "source": [
    "from sklearn.datasets import load_breast_cancer\n",
    "from sklearn.model_selection import train_test_split\n",
    "from sklearn.linear_model import LogisticRegression\n",
    "import numpy as np\n",
    "from sklearn.utils import resample\n",
    "from sklearn.metrics import accuracy_score, confusion_matrix, precision_score, recall_score, f1_score\n",
    "import datetime\n",
    "import helper"
   ]
  },
  {
   "cell_type": "markdown",
   "metadata": {},
   "source": [
    "## Registro de Experimentos\n",
    "En machine learning y ciencia de datos es importante tener un registro de los resultados de cada experimento realizado, así como la configuración del sistema(tal como learning-rate, numero de iteraciones, cantidad de observaciones y features, etc) que llevo a determinados resultados, esto porque el proceso puede llegar a ser muy iterativo y nos es útil saber en todo momento que caso tuvo los mejores resultados. Por esta razón en este proyecto utilizamos una bitácora o log-book científico en el cual tenemos la configuración de nuestros modelos y los resultados(métricas de evaluación) de cada uno."
   ]
  },
  {
   "cell_type": "code",
   "execution_count": 2,
   "metadata": {
    "collapsed": true
   },
   "outputs": [],
   "source": [
    "log_book = helper.load_log_book()"
   ]
  },
  {
   "cell_type": "markdown",
   "metadata": {},
   "source": [
    "Una vez la bitacora contenga informacion ,puedes consultarla en cualquier celda usando:\n",
    "\n",
    "helper.print_log_book(log_book)"
   ]
  },
  {
   "cell_type": "markdown",
   "metadata": {},
   "source": [
    "Para guardar la bitacora (una vez has capturado el resultado de los experimentos que realizaremos) usaremos el siguiente codigo(hay mas detalles mas adelante)\n",
    "\n",
    "helper.guardar_log_book(log_book)"
   ]
  },
  {
   "cell_type": "markdown",
   "metadata": {},
   "source": [
    "## Carnet estudiante"
   ]
  },
  {
   "cell_type": "markdown",
   "metadata": {},
   "source": [
    " La aplicación móvil resultante tendrá un modelo por estudiante, por lo cual es importante identificar a que estudiante pertenece cada modelo, por esta razón  en el proceso de exportar el modelo el archivo resultante tendrá en su nombre el carnet del estudiante. \n",
    " \n",
    " En una variable deben ingresar su numero de carnet, para que al exportar el modelo el archivo se llame `carnet+\"model.csv\"`. Por ejemplo 200818835model.csv"
   ]
  },
  {
   "cell_type": "code",
   "execution_count": 3,
   "metadata": {
    "collapsed": true
   },
   "outputs": [],
   "source": [
    "carnet = \"20150263\""
   ]
  },
  {
   "cell_type": "markdown",
   "metadata": {},
   "source": [
    "## Breast Cancer Data Set\n",
    "\n",
    "El dataset que usaremos contiene varias características(features) , más adelante encontraras instrucciones de cómo trabajar con estas. En el siguiente enlace puedes acceder a mayor información y detalles del dataset.\n",
    "\n",
    "[Link al set de datos](http://scikit-learn.org/stable/modules/generated/sklearn.datasets.load_breast_cancer.html#sklearn.datasets.load_breast_cancer)\n",
    "\n",
    "#### Data Set Information:\n",
    "\n",
    "Features are computed from a digitized image of a fine needle aspirate (FNA) of a breast mass. They describe characteristics of the cell nuclei present in the image. A few of the images can be found at [Web Link] \n",
    "\n",
    "Separating plane described above was obtained using Multisurface Method-Tree (MSM-T) [K. P. Bennett, \"Decision Tree Construction Via Linear Programming.\" Proceedings of the 4th Midwest Artificial Intelligence and Cognitive Science Society, pp. 97-101, 1992], a classification method which uses linear programming to construct a decision tree. Relevant features were selected using an exhaustive search in the space of 1-4 features and 1-3 separating planes. \n",
    "\n",
    "The actual linear program used to obtain the separating plane in the 3-dimensional space is that described in: [K. P. Bennett and O. L. Mangasarian: \"Robust Linear Programming Discrimination of Two Linearly Inseparable Sets\", Optimization Methods and Software 1, 1992, 23-34]. "
   ]
  },
  {
   "cell_type": "code",
   "execution_count": 4,
   "metadata": {
    "collapsed": true
   },
   "outputs": [],
   "source": [
    "data = load_breast_cancer()"
   ]
  },
  {
   "cell_type": "markdown",
   "metadata": {},
   "source": [
    "Este es un problema de clasificacion binario por que que existen solo dos posibles valores(predecimos tumores cancerigenos de seno)"
   ]
  },
  {
   "cell_type": "code",
   "execution_count": 5,
   "metadata": {},
   "outputs": [
    {
     "data": {
      "text/plain": [
       "array(['malignant', 'benign'],\n",
       "      dtype='<U9')"
      ]
     },
     "execution_count": 5,
     "metadata": {},
     "output_type": "execute_result"
    }
   ],
   "source": [
    "data.target_names"
   ]
  },
  {
   "cell_type": "markdown",
   "metadata": {},
   "source": [
    "El data set tiene varios features, por lo  que debemos experimentar con diferentes features y analizar los resultados, en esta celda vamos a imprimir los nombres de las features que poseemos.\n",
    "\n",
    "En este [link](https://goo.gl/U2Uwz2) podemos encontrar mas información sobre las features.\n",
    "\n",
    "Nota: Aunque a lo largo del proyecto, usaremos distintas features para entrenar diversos modelos y entender cómo funciona el proceso de ML y el impacto del uso de diversas features, en el resultado final (el modelo que será exportado e integrado a la aplicación móvil) solo usaremos las primeras 5 features.\n",
    "\n"
   ]
  },
  {
   "cell_type": "code",
   "execution_count": 6,
   "metadata": {},
   "outputs": [
    {
     "data": {
      "text/plain": [
       "array(['mean radius', 'mean texture', 'mean perimeter', 'mean area',\n",
       "       'mean smoothness', 'mean compactness', 'mean concavity',\n",
       "       'mean concave points', 'mean symmetry', 'mean fractal dimension',\n",
       "       'radius error', 'texture error', 'perimeter error', 'area error',\n",
       "       'smoothness error', 'compactness error', 'concavity error',\n",
       "       'concave points error', 'symmetry error', 'fractal dimension error',\n",
       "       'worst radius', 'worst texture', 'worst perimeter', 'worst area',\n",
       "       'worst smoothness', 'worst compactness', 'worst concavity',\n",
       "       'worst concave points', 'worst symmetry', 'worst fractal dimension'],\n",
       "      dtype='<U23')"
      ]
     },
     "execution_count": 6,
     "metadata": {},
     "output_type": "execute_result"
    }
   ],
   "source": [
    "data.feature_names"
   ]
  },
  {
   "cell_type": "markdown",
   "metadata": {},
   "source": [
    "muestra de las primeras 5 labels/etiquetas"
   ]
  },
  {
   "cell_type": "code",
   "execution_count": 7,
   "metadata": {},
   "outputs": [
    {
     "data": {
      "text/plain": [
       "array([0, 0, 0, 0, 0])"
      ]
     },
     "execution_count": 7,
     "metadata": {},
     "output_type": "execute_result"
    }
   ],
   "source": [
    "data.target[0:5]"
   ]
  },
  {
   "cell_type": "markdown",
   "metadata": {},
   "source": [
    "las features para estos 5 casos de ejemplo"
   ]
  },
  {
   "cell_type": "code",
   "execution_count": 8,
   "metadata": {},
   "outputs": [
    {
     "data": {
      "text/plain": [
       "array([[  1.79900000e+01,   1.03800000e+01,   1.22800000e+02,\n",
       "          1.00100000e+03,   1.18400000e-01,   2.77600000e-01,\n",
       "          3.00100000e-01,   1.47100000e-01,   2.41900000e-01,\n",
       "          7.87100000e-02,   1.09500000e+00,   9.05300000e-01,\n",
       "          8.58900000e+00,   1.53400000e+02,   6.39900000e-03,\n",
       "          4.90400000e-02,   5.37300000e-02,   1.58700000e-02,\n",
       "          3.00300000e-02,   6.19300000e-03,   2.53800000e+01,\n",
       "          1.73300000e+01,   1.84600000e+02,   2.01900000e+03,\n",
       "          1.62200000e-01,   6.65600000e-01,   7.11900000e-01,\n",
       "          2.65400000e-01,   4.60100000e-01,   1.18900000e-01],\n",
       "       [  2.05700000e+01,   1.77700000e+01,   1.32900000e+02,\n",
       "          1.32600000e+03,   8.47400000e-02,   7.86400000e-02,\n",
       "          8.69000000e-02,   7.01700000e-02,   1.81200000e-01,\n",
       "          5.66700000e-02,   5.43500000e-01,   7.33900000e-01,\n",
       "          3.39800000e+00,   7.40800000e+01,   5.22500000e-03,\n",
       "          1.30800000e-02,   1.86000000e-02,   1.34000000e-02,\n",
       "          1.38900000e-02,   3.53200000e-03,   2.49900000e+01,\n",
       "          2.34100000e+01,   1.58800000e+02,   1.95600000e+03,\n",
       "          1.23800000e-01,   1.86600000e-01,   2.41600000e-01,\n",
       "          1.86000000e-01,   2.75000000e-01,   8.90200000e-02],\n",
       "       [  1.96900000e+01,   2.12500000e+01,   1.30000000e+02,\n",
       "          1.20300000e+03,   1.09600000e-01,   1.59900000e-01,\n",
       "          1.97400000e-01,   1.27900000e-01,   2.06900000e-01,\n",
       "          5.99900000e-02,   7.45600000e-01,   7.86900000e-01,\n",
       "          4.58500000e+00,   9.40300000e+01,   6.15000000e-03,\n",
       "          4.00600000e-02,   3.83200000e-02,   2.05800000e-02,\n",
       "          2.25000000e-02,   4.57100000e-03,   2.35700000e+01,\n",
       "          2.55300000e+01,   1.52500000e+02,   1.70900000e+03,\n",
       "          1.44400000e-01,   4.24500000e-01,   4.50400000e-01,\n",
       "          2.43000000e-01,   3.61300000e-01,   8.75800000e-02],\n",
       "       [  1.14200000e+01,   2.03800000e+01,   7.75800000e+01,\n",
       "          3.86100000e+02,   1.42500000e-01,   2.83900000e-01,\n",
       "          2.41400000e-01,   1.05200000e-01,   2.59700000e-01,\n",
       "          9.74400000e-02,   4.95600000e-01,   1.15600000e+00,\n",
       "          3.44500000e+00,   2.72300000e+01,   9.11000000e-03,\n",
       "          7.45800000e-02,   5.66100000e-02,   1.86700000e-02,\n",
       "          5.96300000e-02,   9.20800000e-03,   1.49100000e+01,\n",
       "          2.65000000e+01,   9.88700000e+01,   5.67700000e+02,\n",
       "          2.09800000e-01,   8.66300000e-01,   6.86900000e-01,\n",
       "          2.57500000e-01,   6.63800000e-01,   1.73000000e-01],\n",
       "       [  2.02900000e+01,   1.43400000e+01,   1.35100000e+02,\n",
       "          1.29700000e+03,   1.00300000e-01,   1.32800000e-01,\n",
       "          1.98000000e-01,   1.04300000e-01,   1.80900000e-01,\n",
       "          5.88300000e-02,   7.57200000e-01,   7.81300000e-01,\n",
       "          5.43800000e+00,   9.44400000e+01,   1.14900000e-02,\n",
       "          2.46100000e-02,   5.68800000e-02,   1.88500000e-02,\n",
       "          1.75600000e-02,   5.11500000e-03,   2.25400000e+01,\n",
       "          1.66700000e+01,   1.52200000e+02,   1.57500000e+03,\n",
       "          1.37400000e-01,   2.05000000e-01,   4.00000000e-01,\n",
       "          1.62500000e-01,   2.36400000e-01,   7.67800000e-02]])"
      ]
     },
     "execution_count": 8,
     "metadata": {},
     "output_type": "execute_result"
    }
   ],
   "source": [
    "data.data[0:5,]"
   ]
  },
  {
   "cell_type": "markdown",
   "metadata": {},
   "source": [
    "# Implementación de Regresión Logística "
   ]
  },
  {
   "cell_type": "markdown",
   "metadata": {},
   "source": [
    "## Hipótesis\n",
    "Función Sigmoid:\n",
    "\n",
    "$sig(t) = {\\frac {1} {1 + e^{-t}}}$\n",
    "\n",
    "Combinamos la función sigmoid/lógistica con la  hipótesis conocida (aprendida en regresión lineal) y tenemos la nueva hipótesis para clasificación con regresión lógistica:\n",
    "\n",
    "$z = \\theta_{0} + \\theta_{1}x_{1} + \\theta_{2}x_{2} + \\ldots + \\theta_{n}x_{n}$\n",
    "\n",
    "$g(z) = {\\frac {1} {1 + e^{-z}}}$\n",
    "\n",
    "** Hipótesis para clasificación con regresión logística: **\n",
    "\n",
    "$h_{\\theta}(x) = {\\frac {1} {1 + e^{-(\\theta_{0} + \\theta_{1}x_{1} + \\theta_{2}x_{2} + \\ldots + \\theta_{n}x_{n})}}}$"
   ]
  },
  {
   "cell_type": "code",
   "execution_count": 9,
   "metadata": {
    "collapsed": true
   },
   "outputs": [],
   "source": [
    "## Sigmoid \n",
    "\n",
    "def sigmoid(z):\n",
    "    ### INICIO: TU CODIGO AQUI:  (~1 linea)###\n",
    "    s = 1/(1 + np.exp(-z))\n",
    "    ### FIN ##\n",
    "    \n",
    "    return s"
   ]
  },
  {
   "cell_type": "code",
   "execution_count": 10,
   "metadata": {},
   "outputs": [
    {
     "name": "stdout",
     "output_type": "stream",
     "text": [
      "sigmoid(0) = 0.5\n",
      "sigmoid(9.2) = 0.999898970806\n"
     ]
    }
   ],
   "source": [
    "### Validando nuestra funcion sigmoid\n",
    "print (\"sigmoid(0) = \" + str(sigmoid(0)))\n",
    "print (\"sigmoid(9.2) = \" + str(sigmoid(9.2)))"
   ]
  },
  {
   "cell_type": "markdown",
   "metadata": {},
   "source": [
    "#### Resultados esperados\n",
    "\n",
    "**sigmoid(0)** = 0.5\n",
    "\n",
    "**sigmoid(9.2)** = 0.999898970806\n"
   ]
  },
  {
   "cell_type": "markdown",
   "metadata": {},
   "source": [
    "Implementado la hipótesis/modelo para clasificación con regresión logística\n",
    "\n",
    "** Hipótesis para clasificación con regresión logística: **\n",
    "\n",
    "$h_{\\theta}(x) = {\\frac {1} {1 + e^{-(\\theta_{0} + \\theta_{1}x_{1} + \\theta_{2}x_{2} + \\ldots + \\theta_{n}x_{n})}}}$"
   ]
  },
  {
   "cell_type": "code",
   "execution_count": 11,
   "metadata": {
    "collapsed": true
   },
   "outputs": [],
   "source": [
    "def get_hipotesis(features, theta_values):\n",
    "    ## Calculo de la hipotesis de froma vectorizada,producto punto entre el vector de features y el vector de parametros theta ##\n",
    "    z = features.dot(theta_values)\n",
    "    \n",
    "    ### INICIO: TU CODIGO AQUI:  (~1 linea)###\n",
    "    h = sigmoid(z)\n",
    "    ### FIN ##\n",
    "    \n",
    "    return h"
   ]
  },
  {
   "cell_type": "markdown",
   "metadata": {},
   "source": [
    "# Métricas de evaluación\n",
    "\n",
    "Tal como lo vimos en la clase 22: evaluación , utilizamos diversas métricas para evaluar y reportar la exactitud y rendimiento de nuestros modelos de machine learning. En clasificación usamos el costo: cross-entropy para entrenar, pero evaluamos y reportamos diversas métricas mas ."
   ]
  },
  {
   "cell_type": "markdown",
   "metadata": {},
   "source": [
    "## Costo\n",
    "\n",
    "El proceso de gradient descent busca minimizar la siguiente función de costo en función de los parámetros theta, y así encontrar los parámetros que producen una hipótesis optima. \n",
    "\n",
    "El costo mide que tan buena o mala es una hipótesis por lo cual esperamos que este disminuya durante el entrenamiento.\n",
    "\n",
    "$J(\\Theta) = - {\\frac {1}{m}}\\sum _{i=1}^{m} y \\log(h(x)) + (1-y)\\log(1-h(x))$\n",
    "\n",
    "Utiliza la funcion log de numpy, Ejemplo:\n",
    "`np.log(y)`"
   ]
  },
  {
   "cell_type": "code",
   "execution_count": 12,
   "metadata": {
    "collapsed": true
   },
   "outputs": [],
   "source": [
    "def costo(X, theta_vector, y):\n",
    "    m = len(y)\n",
    "    \n",
    "    ### INICIO: TU CODIGO AQUI:  (~2 lineas)###\n",
    "    y_hat = get_hipotesis(X, theta_vector)\n",
    "    \n",
    "    costo = -(np.sum(y*(np.log(y_hat))+((1-y)*np.log(1-y_hat))))/m\n",
    "    ### FIN ##\n",
    "    \n",
    "    return costo"
   ]
  },
  {
   "cell_type": "markdown",
   "metadata": {},
   "source": [
    "## Accuracy Score\n",
    "\n",
    "Implementa la funcion de accuracy utlizando sklearn(puedes utilizar como referencia la clase 22: evaluación )"
   ]
  },
  {
   "cell_type": "code",
   "execution_count": 13,
   "metadata": {
    "collapsed": true
   },
   "outputs": [],
   "source": [
    "def accuracy(X, theta_vector, y):\n",
    "\n",
    "    hipotesis = get_hipotesis(X, theta_vector)\n",
    "    \n",
    "    # Convertimos el resultado probabilistico a deterministico (0 1)\n",
    "    y_pred = [1 if (y >= 0.5) else 0 for y in hipotesis ]\n",
    "    \n",
    "    ### INICIO: TU CODIGO AQUI:  (~1 linea)###\n",
    "    acc_score = accuracy_score(y, y_pred)\n",
    "\n",
    "    ### FIN ##\n",
    "    \n",
    "    return acc_score"
   ]
  },
  {
   "cell_type": "markdown",
   "metadata": {},
   "source": [
    "## F1 Score\n",
    "\n",
    "Implementa la funcion de f1_score utlizando sklearn(puedes utilizar como referencia la clase 22: evaluación )"
   ]
  },
  {
   "cell_type": "code",
   "execution_count": 14,
   "metadata": {
    "collapsed": true
   },
   "outputs": [],
   "source": [
    "def f1(X, theta_vector, y):\n",
    "\n",
    "    hipotesis = get_hipotesis(X, theta_vector)\n",
    "\n",
    "    # Convertimos el resultado probabilistico a deterministico (0 1)    \n",
    "    y_pred = [1 if (y >= 0.5) else 0 for y in hipotesis ]\n",
    "    \n",
    "    ## INICIO: TU CODIGO AQUI:  (~1 linea)###\n",
    "    f1 = f1_score(y,y_pred)\n",
    "    ### FIN ##\n",
    "    \n",
    "    return f1"
   ]
  },
  {
   "cell_type": "markdown",
   "metadata": {},
   "source": [
    "## Precision Score\n",
    "\n",
    "Implementa la funcion de precision_score utlizando sklearn(puedes utilizar como referencia la clase 22: evaluación )"
   ]
  },
  {
   "cell_type": "code",
   "execution_count": 15,
   "metadata": {
    "collapsed": true
   },
   "outputs": [],
   "source": [
    "def precision(X, theta_vector, y):\n",
    "\n",
    "    hipotesis = get_hipotesis(X, theta_vector)\n",
    "\n",
    "    # Convertimos el resultado probabilistico a deterministico (0 1)    \n",
    "    y_pred = [1 if (y >= 0.5) else 0 for y in hipotesis ]\n",
    "    \n",
    "    ## INICIO: TU CODIGO AQUI:  (~1 linea)###\n",
    "    precision = precision_score(y, y_pred)\n",
    "    ### FIN ##\n",
    "    \n",
    "    return precision"
   ]
  },
  {
   "cell_type": "markdown",
   "metadata": {},
   "source": [
    "## Recall Score\n",
    "\n",
    "Implementa la funcion de recall_score utlizando sklearn(puedes utilizar como referencia la clase 22: evaluación )"
   ]
  },
  {
   "cell_type": "code",
   "execution_count": 16,
   "metadata": {
    "collapsed": true
   },
   "outputs": [],
   "source": [
    "def recall(X, theta_vector, y):\n",
    "\n",
    "    hipotesis = get_hipotesis(X, theta_vector)\n",
    "\n",
    "    # Convertimos el resultado probabilistico a deterministico (0 1)    \n",
    "    y_pred = [1 if (y >= 0.5) else 0 for y in hipotesis ]\n",
    "    \n",
    "    ## INICIO: TU CODIGO AQUI:  (~1 linea)###\n",
    "    reacall = recall_score(y, y_pred)\n",
    "    ### FIN ##\n",
    "    \n",
    "    return recall"
   ]
  },
  {
   "cell_type": "markdown",
   "metadata": {},
   "source": [
    "# Pre-procesamiento\n",
    "\n",
    "En Machine learning, la fase de pre-procesamiento(incluyendo feature engineering) de datos puede llegar a abarcar el 70% o más del tiempo de un proyecto , pero este es un tema que se profundiza en otros cursos del área de ciencia de datos por lo cual en este proyecto solo vamos a realizar como pre-procesamiento una normalización de features."
   ]
  },
  {
   "cell_type": "markdown",
   "metadata": {},
   "source": [
    "### Estandarización o Z-score Normalizacion \n",
    "\n",
    "El objetivo de la normalización es ayudar a gradient descent a encontrar el mínimo del costo mas rápido y fácilmente , esto se logra a través de convertir las features de manera que tengan media = 0 y desviación estándar de 1 , similar a una distribución de probabilidad normal(gaussiana).\n",
    "\n",
    "Lo calculamos utilizando:\n",
    "\n",
    "$z = {\\frac {x - \\mu} {\\sigma}}$\n",
    "\n",
    "Donde $\\mu$ es la media y $\\sigma$ es la desviacion estandard\n",
    "\n",
    "##### Comentario opcional:\n",
    "el Z-score en el nombre concuerda con el uso de \"z-scores\" en estadística cuando se hace estadística inferencial(prueba de hipótesis e intervalos de confianza)\n",
    "\n",
    "Implementa la funcion de normalizacion sin utlizar sklearn solo puedes utilizar numpy.\n",
    "\n",
    "Para utilizar la columna de features, utilizamos `features[:,i]`"
   ]
  },
  {
   "cell_type": "code",
   "execution_count": 17,
   "metadata": {
    "collapsed": true
   },
   "outputs": [],
   "source": [
    "def normalizar(features):\n",
    "    std = 1\n",
    "    media = 0\n",
    "    \n",
    "    # Utilizamos el ciclo, para normalizar cada feature(una iteracion por feature)\n",
    "    for i in list(range(0, features.shape[1])):\n",
    "        ### INICIO: TU CODIGO AQUI:  (~3 lineas)###\n",
    "        std = features.std()\n",
    "        media = features.mean()\n",
    "        features[:,i] = (i-media)/std\n",
    "        ### FIN ##\n",
    "    return features"
   ]
  },
  {
   "cell_type": "markdown",
   "metadata": {},
   "source": [
    "## Prediccion\n",
    "\n",
    "Una vez entrenado, el modelo de ML se utiliza para realizar predicciones ,en este proyecto realizaremos predicciones en un train y un test set(no usaremos cross-validation set)  .Una  vez exportado y entregado el modelo al profesor, el modelo realizara predicciones dentro de una aplicación móvil . \n",
    "\n",
    "La siguiente función la vamos a utilizar para realizar predicciones a lo largo del proyecto(y así poder medir contra los datos reales para realizar evaluación), no hay que cambiar nada del código, solo ejecuta la celda."
   ]
  },
  {
   "cell_type": "code",
   "execution_count": 18,
   "metadata": {
    "collapsed": true
   },
   "outputs": [],
   "source": [
    "def prediccion(x, theta_vector, normalizar_valores):\n",
    "    numero_features = x.shape[1] + 1\n",
    "    \n",
    "    if (normalizar_valores):\n",
    "        x = normalizar(x)\n",
    "    \n",
    "    x_features = np.ones((x.shape[0], numero_features))\n",
    "    x_features[:,:-1] = x\n",
    "\n",
    "    \n",
    "    y_hat = get_hipotesis(x_features, theta_vector)\n",
    "    \n",
    "    return np.array([1 if (y >= 0.5) else 0 for y in y_hat])"
   ]
  },
  {
   "cell_type": "markdown",
   "metadata": {
    "collapsed": true
   },
   "source": [
    "## Gradient Descent\n",
    "\n",
    "Gradient descent es el algoritmo o método de optimización matemática que nos permite realizar el “entrenamiento” de nuestro modelos, ya que minimiza el costo y nos devuelve los parámetros del modelo óptimos.\n",
    "\n",
    "En la siguiente celda, debes implementar gradient descent tal como visto en clase y practicado en las tareas .\n",
    "\n",
    "Lo definimos e implementamos dentro de una función de Python para que podamos ejecutarlo(“llamarlo”) múltiples veces con distintos parámetros, sin tener que volver a programarlo cada vez , esto nos será útil para experimentar y entrenar varios modelos.\n",
    "\n",
    "Repetir{\n",
    "\n",
    "$\\theta_{j} := \\theta _{j} - \\alpha {\\frac {1}{m}} \\sum _{i=1}^{m}(h_{\\theta}(x^{(i)})-y^{(i)})x^{(i)}_{j}$\n",
    "\n",
    "}\n",
    "        \n",
    "Simultaneamente para cada $j = 0,\\ldots,n $"
   ]
  },
  {
   "cell_type": "code",
   "execution_count": 50,
   "metadata": {
    "collapsed": true
   },
   "outputs": [],
   "source": [
    "def gradient_descent(X, y, theta_vector, alpha, iterations, X_test, y_test, nombre_modelo):\n",
    "    global log_book\n",
    "    m = len(y)  #numero de ejemplos de entrenamiento\n",
    "\n",
    "    ## Las siguientes 3 lineas de codigo crean listas vacias para almacenar el costo y accuracy obtenido en cada iteracion\n",
    "    ## Se espera que el costo disminuya y el accuracy aumente\n",
    "    cost_vect = []\n",
    "    accuracy_vect = []\n",
    "    accuracy_vect_test = []\n",
    "    \n",
    "    for iteration in range(iterations):\n",
    "        '''\n",
    "        IMPLELEMTA TU CODIGO AQUI, llama a la funcion para calcular la hipotesis,es decir calcular h(x)\n",
    "        que se implemento mas arriba. Parametros matriz de features X y el vector\n",
    "        con los valores Theta (~1 linea)\n",
    "        '''\n",
    "        hipotesis = get_hipotesis(X, theta_vector)\n",
    "\n",
    "\n",
    "        theta_vector_temp = [] # vector que guarda los parametros theta temporales\n",
    "        \n",
    "        # Utilizamos un ciclo para realizar la actualizacion de gradient descent una vez para cada parametro\n",
    "        # En cada iteracion \"i\" guarda el numero de parametro theta, y la varaible \"theta\" guarda el parametro como tal\n",
    "        for i, theta in enumerate(theta_vector):\n",
    "            '''\n",
    "            IMPLELEMTA TU CODIGO AQUI, adentro de este ciclo vamos a calcular\n",
    "            elnuevo valor de Theta[i], utilizando la formula de la celda de arriba\n",
    "            Recuerda que para multiplicar por utilizamos X[:,i]  (~1 linea)\n",
    "            '''\n",
    "            nuevo_theta =  theta - ((alpha/m)*np.sum(np.subtract(hipotesis,y)*X[:,i]))\n",
    "\n",
    "            ### aqui agregamos el nuevo valor the theta[i] a un vector temporal\n",
    "            theta_vector_temp.append(nuevo_theta)\n",
    "\n",
    "\n",
    "        ## Actualizamos el vector theta con los nuevos valores\n",
    "        theta_vector = theta_vector_temp\n",
    "\n",
    "        # En las sigiuentes lineas calculamos las metricas de evaluacion en cada iteracion(aplicadas al train-set)\n",
    "        '''\n",
    "        IMPLEMENTA TU CODIGO AQUI, llama a la funcion de costo (~1 linea)\n",
    "        '''\n",
    "        cost = costo(X, theta_vector, y)\n",
    "        \n",
    "        '''\n",
    "        IMPLEMENTA TU CODIGO AQUI, utiliza Accuracy que se definio arriba (~1 linea)\n",
    "        '''\n",
    "        acc_score = accuracy(X, theta_vector, y)\n",
    "        \n",
    "        '''\n",
    "        IMPLEMENTA TU CODIGO AQUI, utiliza f1 score que se definio arriba (~1 linea)\n",
    "        '''\n",
    "        f1_training = f1(X, theta_vector, y)\n",
    "\n",
    "        '''\n",
    "        IMPLEMENTA TU CODIGO AQUI, utiliza precision score que se definio arriba (~1 linea)\n",
    "        '''\n",
    "        precision_training = precision(X, theta_vector, y)\n",
    "        \n",
    "        '''\n",
    "        IMPLEMENTA TU CODIGO AQUI, utiliza recall score que se definio arriba (~1 linea)\n",
    "        '''\n",
    "        recall_training = recall(X, theta_vector, y)\n",
    "        \n",
    "        \n",
    "        ## En las siguientes lineas calculamos las metricas de evaluacion aplicadas al test-set, este codigo no hay que cambiarlo ####\n",
    "        y_predict = prediccion(X_test, theta_vector, True)\n",
    "        acc_test = accuracy_score(y_predict, y_test)\n",
    "        accuracy_vect_test.append(acc_test)\n",
    "        f1_score_test = f1_score(y_predict, y_test)\n",
    "        precision_test = precision_score(y_test, y_predict)\n",
    "        recall_test = recall_score(y_test, y_predict)\n",
    "        \n",
    "        ## Guardando el valor del costo para graficarlo, este codigo no hay que cambiarlo ##\n",
    "        cost_vect.append(cost)\n",
    "        accuracy_vect.append(acc_score)\n",
    "        \n",
    "        n = 50 ### Ingresa aqui cada cuantas iteraciones quieres que se imprima el valor de las metricas ###\n",
    "        \n",
    "        ## Este codigo no hay que modificarlo ##\n",
    "        if(iteration % n == 0):\n",
    "            print('#####################')\n",
    "            print('TRAINING: [Iteracion: ', iteration,' Costo: ', cost, \\\n",
    "                  ' Accuracy:', acc_score,' F1 Score:',f1_training, \\\n",
    "                  'Precision training:', precision_training, 'Recall training:', recall_training,']')\n",
    "            print('TEST: [Iteracion: ', iteration,'Accuracy:', acc_test, \\\n",
    "                  ' F1 Score:', f1_score_test, 'Precision Test:', precision_test,'Recall Test:', recall_test,']')\n",
    "        \n",
    "    ## Log book, este codigo no hay que cambiarlo, sirve para guardar en la bitacora los resultados del experimento ##\n",
    "    nombre_modelo = nombre_modelo + '_'+datetime.datetime.now().strftime(\"%d%H%M%f\")\n",
    "    numero_features = X.shape[1] - 1\n",
    "    experiment = np.array([nombre_modelo, numero_features, m, alpha, iterations, accuracy_vect[-1], \\\n",
    "                           accuracy_vect_test[-1], f1_score_test, precision_test, \\\n",
    "                           recall_test,theta_vector], dtype=object)\n",
    "    log_book = np.vstack([log_book, experiment])\n",
    "        \n",
    "    return theta_vector, cost_vect, accuracy_vect,accuracy_vect_test\n"
   ]
  },
  {
   "cell_type": "markdown",
   "metadata": {},
   "source": [
    "## Dividimos la data en training y test set"
   ]
  },
  {
   "cell_type": "markdown",
   "metadata": {},
   "source": [
    "Tal como visto en la clase 23, nos sirve para evaluar objetivamente el rendimiento de nuestros modelos en datos que nunca ha visto durante su entrenamiento"
   ]
  },
  {
   "cell_type": "code",
   "execution_count": 51,
   "metadata": {
    "collapsed": true
   },
   "outputs": [],
   "source": [
    "X_train, X_test, y_train, y_test = train_test_split(data.data, data.target, stratify=data.target, random_state=42)"
   ]
  },
  {
   "cell_type": "code",
   "execution_count": 52,
   "metadata": {},
   "outputs": [
    {
     "data": {
      "text/plain": [
       "(426, 30)"
      ]
     },
     "execution_count": 52,
     "metadata": {},
     "output_type": "execute_result"
    }
   ],
   "source": [
    "X_train.shape"
   ]
  },
  {
   "cell_type": "markdown",
   "metadata": {},
   "source": [
    "# Entrenamiento\n",
    "\n",
    "## Features a utilizar\n",
    "A continuación, vamos a entrenar varios modelos, vamos a utilizar las funciones que creamos previamente.\n",
    "Es importante experimentar con diferentes features,diverso tamaño del training set, y diversos hyper-parametros(learning rate e iteraciones)\n",
    "\n",
    "En este proyecto como máximo vamos a utilizar 5 features(pero en algunos experimentos usaremos menos) de manera obligatoria, pero de forma opcional se recomienda experimentar con más y diversas combinaciones ,esto para practicar y obtener experiencia con ML. \n",
    "\n",
    "También vamos a utilizar diferente número de ejemplos en el set de datos, diferente número de iteraciones y diferente learning rate . Todas estas distintas configuraciones serán almacenadas en el log-book(bitácora) automáticamente .\n",
    "\n",
    "En este proyecto solo vamos a utilizar las primeras 5 features  en este orden:\n",
    "\n",
    "`['mean radius', 'mean texture', 'mean perimeter', 'mean area','mean smoothness']`\n",
    "\n",
    "La razón por las que usaremos estas 5 features específicamente(y en este orden) en el modelo final(el que será exportado) es que estas features son las que serán utilizadas en la aplicación móvil en la cual integraremos el modelo(y tendremos en la interfaz de usuario de la aplicación componentes para ingresar valores para estas features),ero como se mencionó se recomienda experimentar y evaluar resultados con distintas features y distinto número  de ellas .\n",
    "\n",
    "## Descripcion del entrenamiento\n",
    "El entrenamiento de cada modelo se compone básicamente de tres pasos, sampleo bootstrap, escoger las features y ejecutar el entrenamiento llamando a la función de gradient descent que ya creamos.\n",
    "\n",
    "En el primer paso vamos a utilizar la función resample para hacer un sampleo del set de datos de entrenamiento, debemos definir el numero de samples que queremos utilizar.\n",
    "\n",
    "En el segundo paso, en un arreglo vamos a definir el nombre de las features que queremos utilizar para entrenar el modelo.\n",
    "En el tercer paso ejecutamos la función gradient descent.\n",
    "\n",
    "Por ultimo vamos a obtener el accuracy del modelo y vamos a imprimir la matriz de confusión, imprimiremos el precisión y el recall del modelo para entender mejor los resultados y tener una mejor idea de que tan bien clasifica nuestro modelo."
   ]
  },
  {
   "cell_type": "markdown",
   "metadata": {},
   "source": [
    "## Entrenamiento modelo 1"
   ]
  },
  {
   "cell_type": "markdown",
   "metadata": {},
   "source": [
    "#### Sampleo bootstrap"
   ]
  },
  {
   "cell_type": "code",
   "execution_count": 266,
   "metadata": {
    "collapsed": true
   },
   "outputs": [],
   "source": [
    "X_train_m1, Y_train_m1 = resample(X_train, y_train, n_samples = 150)"
   ]
  },
  {
   "cell_type": "markdown",
   "metadata": {},
   "source": [
    "### Filtrar Features\n",
    "Solo seleccionar los features"
   ]
  },
  {
   "cell_type": "code",
   "execution_count": 267,
   "metadata": {
    "collapsed": true
   },
   "outputs": [],
   "source": [
    "'''\n",
    "Ingresa en la lista el nombre de las fatrues que quieres utlizar en este modelo (~1 linea)\n",
    "'''\n",
    "features_filtro = ['mean radius', 'mean texture']"
   ]
  },
  {
   "cell_type": "code",
   "execution_count": 268,
   "metadata": {},
   "outputs": [],
   "source": [
    "X_train_m1 = helper.fitrar_nombre(X_train_m1,data.feature_names,features_filtro)\n",
    "X_test_features = helper.fitrar_nombre(X_test,data.feature_names,features_filtro)"
   ]
  },
  {
   "cell_type": "code",
   "execution_count": 269,
   "metadata": {},
   "outputs": [
    {
     "data": {
      "text/plain": [
       "(150, 2)"
      ]
     },
     "execution_count": 269,
     "metadata": {},
     "output_type": "execute_result"
    }
   ],
   "source": [
    "X_train_m1.shape"
   ]
  },
  {
   "cell_type": "code",
   "execution_count": 270,
   "metadata": {},
   "outputs": [
    {
     "data": {
      "text/plain": [
       "(143, 2)"
      ]
     },
     "execution_count": 270,
     "metadata": {},
     "output_type": "execute_result"
    }
   ],
   "source": [
    "X_test_features.shape"
   ]
  },
  {
   "cell_type": "code",
   "execution_count": 271,
   "metadata": {},
   "outputs": [],
   "source": [
    "## Numero de iteracions ##\n",
    "iterations = 500  # Define el numero de iteraciones #\n",
    "\n",
    "## Alpha ##\n",
    "alpha = 0.1 # Define el valor de alpha #\n",
    "\n",
    "#### No hay que cambiar el codigo despues de esta linea #####\n",
    "## Numero de feautres ##\n",
    "numero_features = X_train_m1.shape[1] + 1\n",
    "\n",
    "## Creamos un vector donde se almacenan los valores de Theta,\n",
    "## lo inicializamos con numeros aleatorios\n",
    "theta_vector = np.random.rand(numero_features)\n",
    "\n",
    "## Normaliza las features de X_train_features (~1 linea) ##\n",
    "X_train_m1 = normalizar(X_train_m1)\n",
    "\n",
    "# Creando la Matriz X de features, \n",
    "# utilizamos np.ones para agregar el valor constante '1' que es el bias o feature 0\n",
    "X_train_features = np.ones((X_train_m1.shape[0], numero_features))\n",
    "X_train_features[:,:-1] = X_train_m1"
   ]
  },
  {
   "cell_type": "code",
   "execution_count": 272,
   "metadata": {},
   "outputs": [
    {
     "name": "stderr",
     "output_type": "stream",
     "text": [
      "C:\\Users\\Isa Miranda\\Documents\\UFM\\7mo SEMESTRE\\Machine_Learning\\lib\\site-packages\\sklearn\\metrics\\classification.py:1135: UndefinedMetricWarning: F-score is ill-defined and being set to 0.0 due to no predicted samples.\n",
      "  'precision', 'predicted', average, warn_for)\n",
      "C:\\Users\\Isa Miranda\\Documents\\UFM\\7mo SEMESTRE\\Machine_Learning\\lib\\site-packages\\sklearn\\metrics\\classification.py:1135: UndefinedMetricWarning: Precision is ill-defined and being set to 0.0 due to no predicted samples.\n",
      "  'precision', 'predicted', average, warn_for)\n",
      "C:\\Users\\Isa Miranda\\Documents\\UFM\\7mo SEMESTRE\\Machine_Learning\\lib\\site-packages\\sklearn\\metrics\\classification.py:1137: UndefinedMetricWarning: F-score is ill-defined and being set to 0.0 due to no true samples.\n",
      "  'recall', 'true', average, warn_for)\n"
     ]
    },
    {
     "name": "stdout",
     "output_type": "stream",
     "text": [
      "#####################\n",
      "TRAINING: [Iteracion:  0  Costo:  1.30248850243  Accuracy: 0.38  F1 Score: 0.0 Precision training: 0.0 Recall training: <function recall at 0x0000022C044946A8> ]\n",
      "TEST: [Iteracion:  0 Accuracy: 0.370629370629  F1 Score: 0.0 Precision Test: 0.0 Recall Test: 0.0 ]\n",
      "#####################\n",
      "TRAINING: [Iteracion:  50  Costo:  0.664064126564  Accuracy: 0.62  F1 Score: 0.765432098765 Precision training: 0.62 Recall training: <function recall at 0x0000022C044946A8> ]\n",
      "TEST: [Iteracion:  50 Accuracy: 0.629370629371  F1 Score: 0.772532188841 Precision Test: 0.629370629371 Recall Test: 1.0 ]\n",
      "#####################\n",
      "TRAINING: [Iteracion:  100  Costo:  0.664064126564  Accuracy: 0.62  F1 Score: 0.765432098765 Precision training: 0.62 Recall training: <function recall at 0x0000022C044946A8> ]\n",
      "TEST: [Iteracion:  100 Accuracy: 0.629370629371  F1 Score: 0.772532188841 Precision Test: 0.629370629371 Recall Test: 1.0 ]\n",
      "#####################\n",
      "TRAINING: [Iteracion:  150  Costo:  0.664064126564  Accuracy: 0.62  F1 Score: 0.765432098765 Precision training: 0.62 Recall training: <function recall at 0x0000022C044946A8> ]\n",
      "TEST: [Iteracion:  150 Accuracy: 0.629370629371  F1 Score: 0.772532188841 Precision Test: 0.629370629371 Recall Test: 1.0 ]\n",
      "#####################\n",
      "TRAINING: [Iteracion:  200  Costo:  0.664064126564  Accuracy: 0.62  F1 Score: 0.765432098765 Precision training: 0.62 Recall training: <function recall at 0x0000022C044946A8> ]\n",
      "TEST: [Iteracion:  200 Accuracy: 0.629370629371  F1 Score: 0.772532188841 Precision Test: 0.629370629371 Recall Test: 1.0 ]\n",
      "#####################\n",
      "TRAINING: [Iteracion:  250  Costo:  0.664064126564  Accuracy: 0.62  F1 Score: 0.765432098765 Precision training: 0.62 Recall training: <function recall at 0x0000022C044946A8> ]\n",
      "TEST: [Iteracion:  250 Accuracy: 0.629370629371  F1 Score: 0.772532188841 Precision Test: 0.629370629371 Recall Test: 1.0 ]\n",
      "#####################\n",
      "TRAINING: [Iteracion:  300  Costo:  0.664064126564  Accuracy: 0.62  F1 Score: 0.765432098765 Precision training: 0.62 Recall training: <function recall at 0x0000022C044946A8> ]\n",
      "TEST: [Iteracion:  300 Accuracy: 0.629370629371  F1 Score: 0.772532188841 Precision Test: 0.629370629371 Recall Test: 1.0 ]\n",
      "#####################\n",
      "TRAINING: [Iteracion:  350  Costo:  0.664064126564  Accuracy: 0.62  F1 Score: 0.765432098765 Precision training: 0.62 Recall training: <function recall at 0x0000022C044946A8> ]\n",
      "TEST: [Iteracion:  350 Accuracy: 0.629370629371  F1 Score: 0.772532188841 Precision Test: 0.629370629371 Recall Test: 1.0 ]\n",
      "#####################\n",
      "TRAINING: [Iteracion:  400  Costo:  0.664064126564  Accuracy: 0.62  F1 Score: 0.765432098765 Precision training: 0.62 Recall training: <function recall at 0x0000022C044946A8> ]\n",
      "TEST: [Iteracion:  400 Accuracy: 0.629370629371  F1 Score: 0.772532188841 Precision Test: 0.629370629371 Recall Test: 1.0 ]\n",
      "#####################\n",
      "TRAINING: [Iteracion:  450  Costo:  0.664064126564  Accuracy: 0.62  F1 Score: 0.765432098765 Precision training: 0.62 Recall training: <function recall at 0x0000022C044946A8> ]\n",
      "TEST: [Iteracion:  450 Accuracy: 0.629370629371  F1 Score: 0.772532188841 Precision Test: 0.629370629371 Recall Test: 1.0 ]\n"
     ]
    }
   ],
   "source": [
    "modelo_1_theta_values, cost_vect, acc_vect, acc_vect_test = \\\n",
    "gradient_descent(X_train_features, Y_train_m1, theta_vector, alpha, iterations, X_test_features, y_test, 'modelo_1')"
   ]
  },
  {
   "cell_type": "code",
   "execution_count": 273,
   "metadata": {},
   "outputs": [
    {
     "data": {
      "image/png": "[encoded data removed]",
      "text/plain": [
       "<matplotlib.figure.Figure at 0x22c04d06f98>"
      ]
     },
     "metadata": {},
     "output_type": "display_data"
    }
   ],
   "source": [
    "## Funcion para graficar el costo y  accuracy durante cada iteracion ##\n",
    "helper.training_graph(cost_vect, acc_vect, acc_vect_test)"
   ]
  },
  {
   "cell_type": "markdown",
   "metadata": {},
   "source": [
    "### Accuracy y Matriz de confusion Training Set\n",
    "\n",
    "![alt text](https://rasbt.github.io/mlxtend/user_guide/evaluate/confusion_matrix_files/confusion_matrix_1.png)"
   ]
  },
  {
   "cell_type": "code",
   "execution_count": 274,
   "metadata": {},
   "outputs": [
    {
     "name": "stdout",
     "output_type": "stream",
     "text": [
      "Accuracy: 62.0 %\n",
      "\n",
      "Matriz de confusion\n"
     ]
    },
    {
     "data": {
      "text/plain": [
       "array([[ 0, 57],\n",
       "       [ 0, 93]], dtype=int64)"
      ]
     },
     "execution_count": 274,
     "metadata": {},
     "output_type": "execute_result"
    }
   ],
   "source": [
    "y_hat = get_hipotesis(X_train_features, modelo_1_theta_values)\n",
    "y_predict = np.array([1 if (y > 0.5) else 0 for y in y_hat])\n",
    "\n",
    "print('Accuracy:', accuracy_score(Y_train_m1,y_predict) * 100 ,'%')\n",
    "print()\n",
    "print('Matriz de confusion')\n",
    "confusion_matrix(Y_train_m1, y_predict )"
   ]
  },
  {
   "cell_type": "markdown",
   "metadata": {},
   "source": [
    "#### Accuracy con el Test set"
   ]
  },
  {
   "cell_type": "code",
   "execution_count": 275,
   "metadata": {
    "collapsed": true
   },
   "outputs": [],
   "source": [
    "y_predict = prediccion(X_test_features, modelo_1_theta_values, True)"
   ]
  },
  {
   "cell_type": "code",
   "execution_count": 276,
   "metadata": {},
   "outputs": [
    {
     "name": "stdout",
     "output_type": "stream",
     "text": [
      "Accuracy: 62.9370629371 %\n"
     ]
    }
   ],
   "source": [
    "print('Accuracy:',accuracy_score(y_test, y_predict)* 100 ,'%')"
   ]
  },
  {
   "cell_type": "markdown",
   "metadata": {},
   "source": [
    "#### Matriz de confusion Test Set"
   ]
  },
  {
   "cell_type": "code",
   "execution_count": 277,
   "metadata": {},
   "outputs": [
    {
     "data": {
      "text/plain": [
       "array([[ 0, 53],\n",
       "       [ 0, 90]], dtype=int64)"
      ]
     },
     "execution_count": 277,
     "metadata": {},
     "output_type": "execute_result"
    }
   ],
   "source": [
    "confusion_matrix(y_test, y_predict)"
   ]
  },
  {
   "cell_type": "code",
   "execution_count": 278,
   "metadata": {},
   "outputs": [
    {
     "name": "stdout",
     "output_type": "stream",
     "text": [
      "precision:  0.629370629371\n",
      "recall:  1.0\n"
     ]
    }
   ],
   "source": [
    "print('precision: ',precision_score(y_test, y_predict))\n",
    "\n",
    "print('recall: ', recall_score(y_test, y_predict))"
   ]
  },
  {
   "cell_type": "markdown",
   "metadata": {},
   "source": [
    "## Entrenamiento modelo 2"
   ]
  },
  {
   "cell_type": "markdown",
   "metadata": {},
   "source": [
    "#### Sampleo bootstrap"
   ]
  },
  {
   "cell_type": "code",
   "execution_count": 279,
   "metadata": {
    "collapsed": true
   },
   "outputs": [],
   "source": [
    "'''\n",
    "Ingresa en la lista el nombre de las fatrues que quieres utlizar en este modelo (~1 linea)\n",
    "'''\n",
    "X_train_m2, Y_train_m2 = resample(X_train, y_train, n_samples = 400)"
   ]
  },
  {
   "cell_type": "markdown",
   "metadata": {},
   "source": [
    "### Filtrar Features\n",
    "Solo seleccionar los features"
   ]
  },
  {
   "cell_type": "code",
   "execution_count": 280,
   "metadata": {
    "collapsed": true
   },
   "outputs": [],
   "source": [
    "features_filtro = ['mean perimeter', 'mean area','mean smoothness']"
   ]
  },
  {
   "cell_type": "code",
   "execution_count": 281,
   "metadata": {
    "collapsed": true
   },
   "outputs": [],
   "source": [
    "X_train_m2 = helper.fitrar_nombre(X_train_m2,data.feature_names,features_filtro)\n",
    "X_test_features = helper.fitrar_nombre(X_test,data.feature_names,features_filtro)"
   ]
  },
  {
   "cell_type": "code",
   "execution_count": 282,
   "metadata": {
    "collapsed": true
   },
   "outputs": [],
   "source": [
    "## Numero de iteracions ##\n",
    "iterations = 1000  # Define el numero de iteraciones #\n",
    "\n",
    "## Alpha ##\n",
    "alpha = 0.05 # Define el valor de alpha #\n",
    "\n",
    "#### No hay que cambiar el codigo despues de esta linea #####\n",
    "## Numero de feautres ##\n",
    "numero_features = X_train_m2.shape[1] + 1\n",
    "\n",
    "## Creamos un vector donde se almacenan los valores de Theta,\n",
    "## lo inicializamos con numeros aleatorios\n",
    "theta_vector = np.random.rand(numero_features)\n",
    "\n",
    "## Normaliza las features de X_train_features (~1 linea) ##\n",
    "X_train_m2 = normalizar(X_train_m2)\n",
    "\n",
    "# Creando la Matriz X de features, \n",
    "# utilizamos np.ones para agregar el valor constante '1' que es el bias o feature 0\n",
    "X_train_features = np.ones((X_train_m2.shape[0], numero_features))\n",
    "X_train_features[:,:-1] = X_train_m2"
   ]
  },
  {
   "cell_type": "code",
   "execution_count": 283,
   "metadata": {},
   "outputs": [
    {
     "name": "stdout",
     "output_type": "stream",
     "text": [
      "#####################\n",
      "TRAINING: [Iteracion:  0  Costo:  0.678932094359  Accuracy: 0.585  F1 Score: 0.738170347003 Precision training: 0.585 Recall training: <function recall at 0x0000022C044946A8> ]\n",
      "TEST: [Iteracion:  0 Accuracy: 0.629370629371  F1 Score: 0.772532188841 Precision Test: 0.629370629371 Recall Test: 1.0 ]\n"
     ]
    },
    {
     "name": "stderr",
     "output_type": "stream",
     "text": [
      "C:\\Users\\Isa Miranda\\Documents\\UFM\\7mo SEMESTRE\\Machine_Learning\\lib\\site-packages\\sklearn\\metrics\\classification.py:1137: UndefinedMetricWarning: F-score is ill-defined and being set to 0.0 due to no true samples.\n",
      "  'recall', 'true', average, warn_for)\n",
      "C:\\Users\\Isa Miranda\\Documents\\UFM\\7mo SEMESTRE\\Machine_Learning\\lib\\site-packages\\sklearn\\metrics\\classification.py:1135: UndefinedMetricWarning: Precision is ill-defined and being set to 0.0 due to no predicted samples.\n",
      "  'precision', 'predicted', average, warn_for)\n"
     ]
    },
    {
     "name": "stdout",
     "output_type": "stream",
     "text": [
      "#####################\n",
      "TRAINING: [Iteracion:  50  Costo:  0.678626762456  Accuracy: 0.585  F1 Score: 0.738170347003 Precision training: 0.585 Recall training: <function recall at 0x0000022C044946A8> ]\n",
      "TEST: [Iteracion:  50 Accuracy: 0.629370629371  F1 Score: 0.772532188841 Precision Test: 0.629370629371 Recall Test: 1.0 ]\n",
      "#####################\n",
      "TRAINING: [Iteracion:  100  Costo:  0.678626762456  Accuracy: 0.585  F1 Score: 0.738170347003 Precision training: 0.585 Recall training: <function recall at 0x0000022C044946A8> ]\n",
      "TEST: [Iteracion:  100 Accuracy: 0.629370629371  F1 Score: 0.772532188841 Precision Test: 0.629370629371 Recall Test: 1.0 ]\n",
      "#####################\n",
      "TRAINING: [Iteracion:  150  Costo:  0.678626762456  Accuracy: 0.585  F1 Score: 0.738170347003 Precision training: 0.585 Recall training: <function recall at 0x0000022C044946A8> ]\n",
      "TEST: [Iteracion:  150 Accuracy: 0.629370629371  F1 Score: 0.772532188841 Precision Test: 0.629370629371 Recall Test: 1.0 ]\n",
      "#####################\n",
      "TRAINING: [Iteracion:  200  Costo:  0.678626762456  Accuracy: 0.585  F1 Score: 0.738170347003 Precision training: 0.585 Recall training: <function recall at 0x0000022C044946A8> ]\n",
      "TEST: [Iteracion:  200 Accuracy: 0.629370629371  F1 Score: 0.772532188841 Precision Test: 0.629370629371 Recall Test: 1.0 ]\n",
      "#####################\n",
      "TRAINING: [Iteracion:  250  Costo:  0.678626762456  Accuracy: 0.585  F1 Score: 0.738170347003 Precision training: 0.585 Recall training: <function recall at 0x0000022C044946A8> ]\n",
      "TEST: [Iteracion:  250 Accuracy: 0.629370629371  F1 Score: 0.772532188841 Precision Test: 0.629370629371 Recall Test: 1.0 ]\n",
      "#####################\n",
      "TRAINING: [Iteracion:  300  Costo:  0.678626762456  Accuracy: 0.585  F1 Score: 0.738170347003 Precision training: 0.585 Recall training: <function recall at 0x0000022C044946A8> ]\n",
      "TEST: [Iteracion:  300 Accuracy: 0.629370629371  F1 Score: 0.772532188841 Precision Test: 0.629370629371 Recall Test: 1.0 ]\n",
      "#####################\n",
      "TRAINING: [Iteracion:  350  Costo:  0.678626762456  Accuracy: 0.585  F1 Score: 0.738170347003 Precision training: 0.585 Recall training: <function recall at 0x0000022C044946A8> ]\n",
      "TEST: [Iteracion:  350 Accuracy: 0.629370629371  F1 Score: 0.772532188841 Precision Test: 0.629370629371 Recall Test: 1.0 ]\n",
      "#####################\n",
      "TRAINING: [Iteracion:  400  Costo:  0.678626762456  Accuracy: 0.585  F1 Score: 0.738170347003 Precision training: 0.585 Recall training: <function recall at 0x0000022C044946A8> ]\n",
      "TEST: [Iteracion:  400 Accuracy: 0.629370629371  F1 Score: 0.772532188841 Precision Test: 0.629370629371 Recall Test: 1.0 ]\n",
      "#####################\n",
      "TRAINING: [Iteracion:  450  Costo:  0.678626762456  Accuracy: 0.585  F1 Score: 0.738170347003 Precision training: 0.585 Recall training: <function recall at 0x0000022C044946A8> ]\n",
      "TEST: [Iteracion:  450 Accuracy: 0.629370629371  F1 Score: 0.772532188841 Precision Test: 0.629370629371 Recall Test: 1.0 ]\n",
      "#####################\n",
      "TRAINING: [Iteracion:  500  Costo:  0.678626762456  Accuracy: 0.585  F1 Score: 0.738170347003 Precision training: 0.585 Recall training: <function recall at 0x0000022C044946A8> ]\n",
      "TEST: [Iteracion:  500 Accuracy: 0.629370629371  F1 Score: 0.772532188841 Precision Test: 0.629370629371 Recall Test: 1.0 ]\n",
      "#####################\n",
      "TRAINING: [Iteracion:  550  Costo:  0.678626762456  Accuracy: 0.585  F1 Score: 0.738170347003 Precision training: 0.585 Recall training: <function recall at 0x0000022C044946A8> ]\n",
      "TEST: [Iteracion:  550 Accuracy: 0.629370629371  F1 Score: 0.772532188841 Precision Test: 0.629370629371 Recall Test: 1.0 ]\n",
      "#####################\n",
      "TRAINING: [Iteracion:  600  Costo:  0.678626762456  Accuracy: 0.585  F1 Score: 0.738170347003 Precision training: 0.585 Recall training: <function recall at 0x0000022C044946A8> ]\n",
      "TEST: [Iteracion:  600 Accuracy: 0.629370629371  F1 Score: 0.772532188841 Precision Test: 0.629370629371 Recall Test: 1.0 ]\n",
      "#####################\n",
      "TRAINING: [Iteracion:  650  Costo:  0.678626762456  Accuracy: 0.585  F1 Score: 0.738170347003 Precision training: 0.585 Recall training: <function recall at 0x0000022C044946A8> ]\n",
      "TEST: [Iteracion:  650 Accuracy: 0.629370629371  F1 Score: 0.772532188841 Precision Test: 0.629370629371 Recall Test: 1.0 ]\n",
      "#####################\n",
      "TRAINING: [Iteracion:  700  Costo:  0.678626762456  Accuracy: 0.585  F1 Score: 0.738170347003 Precision training: 0.585 Recall training: <function recall at 0x0000022C044946A8> ]\n",
      "TEST: [Iteracion:  700 Accuracy: 0.629370629371  F1 Score: 0.772532188841 Precision Test: 0.629370629371 Recall Test: 1.0 ]\n",
      "#####################\n",
      "TRAINING: [Iteracion:  750  Costo:  0.678626762456  Accuracy: 0.585  F1 Score: 0.738170347003 Precision training: 0.585 Recall training: <function recall at 0x0000022C044946A8> ]\n",
      "TEST: [Iteracion:  750 Accuracy: 0.629370629371  F1 Score: 0.772532188841 Precision Test: 0.629370629371 Recall Test: 1.0 ]\n",
      "#####################\n",
      "TRAINING: [Iteracion:  800  Costo:  0.678626762456  Accuracy: 0.585  F1 Score: 0.738170347003 Precision training: 0.585 Recall training: <function recall at 0x0000022C044946A8> ]\n",
      "TEST: [Iteracion:  800 Accuracy: 0.629370629371  F1 Score: 0.772532188841 Precision Test: 0.629370629371 Recall Test: 1.0 ]\n",
      "#####################\n",
      "TRAINING: [Iteracion:  850  Costo:  0.678626762456  Accuracy: 0.585  F1 Score: 0.738170347003 Precision training: 0.585 Recall training: <function recall at 0x0000022C044946A8> ]\n",
      "TEST: [Iteracion:  850 Accuracy: 0.629370629371  F1 Score: 0.772532188841 Precision Test: 0.629370629371 Recall Test: 1.0 ]\n",
      "#####################\n",
      "TRAINING: [Iteracion:  900  Costo:  0.678626762456  Accuracy: 0.585  F1 Score: 0.738170347003 Precision training: 0.585 Recall training: <function recall at 0x0000022C044946A8> ]\n",
      "TEST: [Iteracion:  900 Accuracy: 0.629370629371  F1 Score: 0.772532188841 Precision Test: 0.629370629371 Recall Test: 1.0 ]\n",
      "#####################\n",
      "TRAINING: [Iteracion:  950  Costo:  0.678626762456  Accuracy: 0.585  F1 Score: 0.738170347003 Precision training: 0.585 Recall training: <function recall at 0x0000022C044946A8> ]\n",
      "TEST: [Iteracion:  950 Accuracy: 0.629370629371  F1 Score: 0.772532188841 Precision Test: 0.629370629371 Recall Test: 1.0 ]\n"
     ]
    }
   ],
   "source": [
    "## Llama a la funcion de gradient descent, recurda definir un nombre diferente para el modelo (~1 linea) ##\n",
    "modelo_2_theta_values, cost_vect, acc_vect, acc_vect_test = \\\n",
    "gradient_descent(X_train_features, Y_train_m2, theta_vector, alpha, iterations, X_test_features, y_test, 'modelo_2')\n",
    "### FIN ##"
   ]
  },
  {
   "cell_type": "code",
   "execution_count": 284,
   "metadata": {},
   "outputs": [
    {
     "data": {
      "image/png": "[encoded data removed]",
      "text/plain": [
       "<matplotlib.figure.Figure at 0x22c0506a4e0>"
      ]
     },
     "metadata": {},
     "output_type": "display_data"
    }
   ],
   "source": [
    "## Funcion para graficar el costo y  accuracy durante cada iteracion ##\n",
    "helper.training_graph(cost_vect, acc_vect, acc_vect_test)"
   ]
  },
  {
   "cell_type": "markdown",
   "metadata": {},
   "source": [
    "#### Accuracy con el Test set [Modelo 2]"
   ]
  },
  {
   "cell_type": "code",
   "execution_count": 285,
   "metadata": {
    "collapsed": true
   },
   "outputs": [],
   "source": [
    "y_predict = prediccion(X_test_features, modelo_2_theta_values, True)"
   ]
  },
  {
   "cell_type": "code",
   "execution_count": 286,
   "metadata": {},
   "outputs": [
    {
     "name": "stdout",
     "output_type": "stream",
     "text": [
      "Accuracy: 62.9370629371 %\n"
     ]
    }
   ],
   "source": [
    "print('Accuracy:',accuracy_score(y_test, y_predict)* 100 ,'%')"
   ]
  },
  {
   "cell_type": "markdown",
   "metadata": {},
   "source": [
    "#### Matriz de confusion Test Set [Modelo 2]"
   ]
  },
  {
   "cell_type": "code",
   "execution_count": 287,
   "metadata": {},
   "outputs": [
    {
     "data": {
      "text/plain": [
       "array([[ 0, 53],\n",
       "       [ 0, 90]], dtype=int64)"
      ]
     },
     "execution_count": 287,
     "metadata": {},
     "output_type": "execute_result"
    }
   ],
   "source": [
    "confusion_matrix(y_test, y_predict)"
   ]
  },
  {
   "cell_type": "code",
   "execution_count": 288,
   "metadata": {},
   "outputs": [
    {
     "name": "stdout",
     "output_type": "stream",
     "text": [
      "precision:  0.629370629371\n",
      "recall:  1.0\n"
     ]
    }
   ],
   "source": [
    "print('precision: ',precision_score(y_test, y_predict))\n",
    "\n",
    "print('recall: ', recall_score(y_test, y_predict))"
   ]
  },
  {
   "cell_type": "markdown",
   "metadata": {},
   "source": [
    "## Entrenamiento modelo 3"
   ]
  },
  {
   "cell_type": "markdown",
   "metadata": {},
   "source": [
    "#### Sampleo bootstrap"
   ]
  },
  {
   "cell_type": "code",
   "execution_count": 289,
   "metadata": {
    "collapsed": true
   },
   "outputs": [],
   "source": [
    "X_train_m3, Y_train_m3 = resample(X_train, y_train, n_samples = 460)"
   ]
  },
  {
   "cell_type": "markdown",
   "metadata": {},
   "source": [
    "### Filtrar Features\n",
    "Solo seleccionar los features"
   ]
  },
  {
   "cell_type": "code",
   "execution_count": 290,
   "metadata": {
    "collapsed": true
   },
   "outputs": [],
   "source": [
    "'''\n",
    "Ingresa en la lista el nombre de las fatrues que quieres utlizar en este modelo (~1 linea)\n",
    "'''\n",
    "features_filtro = ['mean radius', 'mean texture', 'mean perimeter', 'mean area']"
   ]
  },
  {
   "cell_type": "code",
   "execution_count": 291,
   "metadata": {
    "collapsed": true
   },
   "outputs": [],
   "source": [
    "X_train_m3 = helper.fitrar_nombre(X_train_m3,data.feature_names,features_filtro)\n",
    "X_test_features = helper.fitrar_nombre(X_test,data.feature_names,features_filtro)"
   ]
  },
  {
   "cell_type": "code",
   "execution_count": 292,
   "metadata": {
    "collapsed": true
   },
   "outputs": [],
   "source": [
    "## Numero de iteracions ##\n",
    "iterations = 1500  # Define el numero de iteraciones #\n",
    "\n",
    "## Alpha ##\n",
    "alpha = 0.02 # Define el valor de alpha #\n",
    "\n",
    "#### No hay que cambiar el codigo despues de esta linea #####\n",
    "## Numero de feautres ##\n",
    "numero_features = X_train_m3.shape[1] + 1\n",
    "\n",
    "## Creamos un vector donde se almacenan los valores de Theta,\n",
    "## lo inicializamos con numeros aleatorios\n",
    "theta_vector = np.random.rand(numero_features)\n",
    "\n",
    "## Normaliza las features de X_train_features (~1 linea) ##\n",
    "X_train_m3 = normalizar(X_train_m3)\n",
    "\n",
    "# Creando la Matriz X de features, \n",
    "# utilizamos np.ones para agregar el valor constante '1' que es el bias o feature 0\n",
    "X_train_features = np.ones((X_train_m3.shape[0], numero_features))\n",
    "X_train_features[:,:-1] = X_train_m3"
   ]
  },
  {
   "cell_type": "code",
   "execution_count": 293,
   "metadata": {},
   "outputs": [
    {
     "name": "stderr",
     "output_type": "stream",
     "text": [
      "C:\\Users\\Isa Miranda\\Documents\\UFM\\7mo SEMESTRE\\Machine_Learning\\lib\\site-packages\\sklearn\\metrics\\classification.py:1135: UndefinedMetricWarning: F-score is ill-defined and being set to 0.0 due to no predicted samples.\n",
      "  'precision', 'predicted', average, warn_for)\n",
      "C:\\Users\\Isa Miranda\\Documents\\UFM\\7mo SEMESTRE\\Machine_Learning\\lib\\site-packages\\sklearn\\metrics\\classification.py:1135: UndefinedMetricWarning: Precision is ill-defined and being set to 0.0 due to no predicted samples.\n",
      "  'precision', 'predicted', average, warn_for)\n",
      "C:\\Users\\Isa Miranda\\Documents\\UFM\\7mo SEMESTRE\\Machine_Learning\\lib\\site-packages\\sklearn\\metrics\\classification.py:1137: UndefinedMetricWarning: F-score is ill-defined and being set to 0.0 due to no true samples.\n",
      "  'recall', 'true', average, warn_for)\n"
     ]
    },
    {
     "name": "stdout",
     "output_type": "stream",
     "text": [
      "#####################\n",
      "TRAINING: [Iteracion:  0  Costo:  0.764786976812  Accuracy: 0.360869565217  F1 Score: 0.0 Precision training: 0.0 Recall training: <function recall at 0x0000022C044946A8> ]\n",
      "TEST: [Iteracion:  0 Accuracy: 0.370629370629  F1 Score: 0.0 Precision Test: 0.0 Recall Test: 0.0 ]\n",
      "#####################\n",
      "TRAINING: [Iteracion:  50  Costo:  0.68913997019  Accuracy: 0.639130434783  F1 Score: 0.779840848806 Precision training: 0.639130434783 Recall training: <function recall at 0x0000022C044946A8> ]\n",
      "TEST: [Iteracion:  50 Accuracy: 0.629370629371  F1 Score: 0.772532188841 Precision Test: 0.629370629371 Recall Test: 1.0 ]\n",
      "#####################\n",
      "TRAINING: [Iteracion:  100  Costo:  0.665281357695  Accuracy: 0.639130434783  F1 Score: 0.779840848806 Precision training: 0.639130434783 Recall training: <function recall at 0x0000022C044946A8> ]\n",
      "TEST: [Iteracion:  100 Accuracy: 0.629370629371  F1 Score: 0.772532188841 Precision Test: 0.629370629371 Recall Test: 1.0 ]\n",
      "#####################\n",
      "TRAINING: [Iteracion:  150  Costo:  0.657662050168  Accuracy: 0.639130434783  F1 Score: 0.779840848806 Precision training: 0.639130434783 Recall training: <function recall at 0x0000022C044946A8> ]\n",
      "TEST: [Iteracion:  150 Accuracy: 0.629370629371  F1 Score: 0.772532188841 Precision Test: 0.629370629371 Recall Test: 1.0 ]\n",
      "#####################\n",
      "TRAINING: [Iteracion:  200  Costo:  0.655170658888  Accuracy: 0.639130434783  F1 Score: 0.779840848806 Precision training: 0.639130434783 Recall training: <function recall at 0x0000022C044946A8> ]\n",
      "TEST: [Iteracion:  200 Accuracy: 0.629370629371  F1 Score: 0.772532188841 Precision Test: 0.629370629371 Recall Test: 1.0 ]\n",
      "#####################\n",
      "TRAINING: [Iteracion:  250  Costo:  0.654340885605  Accuracy: 0.639130434783  F1 Score: 0.779840848806 Precision training: 0.639130434783 Recall training: <function recall at 0x0000022C044946A8> ]\n",
      "TEST: [Iteracion:  250 Accuracy: 0.629370629371  F1 Score: 0.772532188841 Precision Test: 0.629370629371 Recall Test: 1.0 ]\n",
      "#####################\n",
      "TRAINING: [Iteracion:  300  Costo:  0.654061162019  Accuracy: 0.639130434783  F1 Score: 0.779840848806 Precision training: 0.639130434783 Recall training: <function recall at 0x0000022C044946A8> ]\n",
      "TEST: [Iteracion:  300 Accuracy: 0.629370629371  F1 Score: 0.772532188841 Precision Test: 0.629370629371 Recall Test: 1.0 ]\n",
      "#####################\n",
      "TRAINING: [Iteracion:  350  Costo:  0.653966156464  Accuracy: 0.639130434783  F1 Score: 0.779840848806 Precision training: 0.639130434783 Recall training: <function recall at 0x0000022C044946A8> ]\n",
      "TEST: [Iteracion:  350 Accuracy: 0.629370629371  F1 Score: 0.772532188841 Precision Test: 0.629370629371 Recall Test: 1.0 ]\n",
      "#####################\n",
      "TRAINING: [Iteracion:  400  Costo:  0.653933742794  Accuracy: 0.639130434783  F1 Score: 0.779840848806 Precision training: 0.639130434783 Recall training: <function recall at 0x0000022C044946A8> ]\n",
      "TEST: [Iteracion:  400 Accuracy: 0.629370629371  F1 Score: 0.772532188841 Precision Test: 0.629370629371 Recall Test: 1.0 ]\n",
      "#####################\n",
      "TRAINING: [Iteracion:  450  Costo:  0.653922654278  Accuracy: 0.639130434783  F1 Score: 0.779840848806 Precision training: 0.639130434783 Recall training: <function recall at 0x0000022C044946A8> ]\n",
      "TEST: [Iteracion:  450 Accuracy: 0.629370629371  F1 Score: 0.772532188841 Precision Test: 0.629370629371 Recall Test: 1.0 ]\n",
      "#####################\n",
      "TRAINING: [Iteracion:  500  Costo:  0.653918854941  Accuracy: 0.639130434783  F1 Score: 0.779840848806 Precision training: 0.639130434783 Recall training: <function recall at 0x0000022C044946A8> ]\n",
      "TEST: [Iteracion:  500 Accuracy: 0.629370629371  F1 Score: 0.772532188841 Precision Test: 0.629370629371 Recall Test: 1.0 ]\n",
      "#####################\n",
      "TRAINING: [Iteracion:  550  Costo:  0.653917551929  Accuracy: 0.639130434783  F1 Score: 0.779840848806 Precision training: 0.639130434783 Recall training: <function recall at 0x0000022C044946A8> ]\n",
      "TEST: [Iteracion:  550 Accuracy: 0.629370629371  F1 Score: 0.772532188841 Precision Test: 0.629370629371 Recall Test: 1.0 ]\n",
      "#####################\n",
      "TRAINING: [Iteracion:  600  Costo:  0.653917104806  Accuracy: 0.639130434783  F1 Score: 0.779840848806 Precision training: 0.639130434783 Recall training: <function recall at 0x0000022C044946A8> ]\n",
      "TEST: [Iteracion:  600 Accuracy: 0.629370629371  F1 Score: 0.772532188841 Precision Test: 0.629370629371 Recall Test: 1.0 ]\n",
      "#####################\n",
      "TRAINING: [Iteracion:  650  Costo:  0.653916951328  Accuracy: 0.639130434783  F1 Score: 0.779840848806 Precision training: 0.639130434783 Recall training: <function recall at 0x0000022C044946A8> ]\n",
      "TEST: [Iteracion:  650 Accuracy: 0.629370629371  F1 Score: 0.772532188841 Precision Test: 0.629370629371 Recall Test: 1.0 ]\n",
      "#####################\n",
      "TRAINING: [Iteracion:  700  Costo:  0.653916898636  Accuracy: 0.639130434783  F1 Score: 0.779840848806 Precision training: 0.639130434783 Recall training: <function recall at 0x0000022C044946A8> ]\n",
      "TEST: [Iteracion:  700 Accuracy: 0.629370629371  F1 Score: 0.772532188841 Precision Test: 0.629370629371 Recall Test: 1.0 ]\n",
      "#####################\n",
      "TRAINING: [Iteracion:  750  Costo:  0.653916880543  Accuracy: 0.639130434783  F1 Score: 0.779840848806 Precision training: 0.639130434783 Recall training: <function recall at 0x0000022C044946A8> ]\n",
      "TEST: [Iteracion:  750 Accuracy: 0.629370629371  F1 Score: 0.772532188841 Precision Test: 0.629370629371 Recall Test: 1.0 ]\n",
      "#####################\n",
      "TRAINING: [Iteracion:  800  Costo:  0.653916874331  Accuracy: 0.639130434783  F1 Score: 0.779840848806 Precision training: 0.639130434783 Recall training: <function recall at 0x0000022C044946A8> ]\n",
      "TEST: [Iteracion:  800 Accuracy: 0.629370629371  F1 Score: 0.772532188841 Precision Test: 0.629370629371 Recall Test: 1.0 ]\n",
      "#####################\n",
      "TRAINING: [Iteracion:  850  Costo:  0.653916872197  Accuracy: 0.639130434783  F1 Score: 0.779840848806 Precision training: 0.639130434783 Recall training: <function recall at 0x0000022C044946A8> ]\n",
      "TEST: [Iteracion:  850 Accuracy: 0.629370629371  F1 Score: 0.772532188841 Precision Test: 0.629370629371 Recall Test: 1.0 ]\n",
      "#####################\n",
      "TRAINING: [Iteracion:  900  Costo:  0.653916871465  Accuracy: 0.639130434783  F1 Score: 0.779840848806 Precision training: 0.639130434783 Recall training: <function recall at 0x0000022C044946A8> ]\n",
      "TEST: [Iteracion:  900 Accuracy: 0.629370629371  F1 Score: 0.772532188841 Precision Test: 0.629370629371 Recall Test: 1.0 ]\n",
      "#####################\n",
      "TRAINING: [Iteracion:  950  Costo:  0.653916871213  Accuracy: 0.639130434783  F1 Score: 0.779840848806 Precision training: 0.639130434783 Recall training: <function recall at 0x0000022C044946A8> ]\n",
      "TEST: [Iteracion:  950 Accuracy: 0.629370629371  F1 Score: 0.772532188841 Precision Test: 0.629370629371 Recall Test: 1.0 ]\n",
      "#####################\n",
      "TRAINING: [Iteracion:  1000  Costo:  0.653916871127  Accuracy: 0.639130434783  F1 Score: 0.779840848806 Precision training: 0.639130434783 Recall training: <function recall at 0x0000022C044946A8> ]\n",
      "TEST: [Iteracion:  1000 Accuracy: 0.629370629371  F1 Score: 0.772532188841 Precision Test: 0.629370629371 Recall Test: 1.0 ]\n",
      "#####################\n",
      "TRAINING: [Iteracion:  1050  Costo:  0.653916871097  Accuracy: 0.639130434783  F1 Score: 0.779840848806 Precision training: 0.639130434783 Recall training: <function recall at 0x0000022C044946A8> ]\n",
      "TEST: [Iteracion:  1050 Accuracy: 0.629370629371  F1 Score: 0.772532188841 Precision Test: 0.629370629371 Recall Test: 1.0 ]\n",
      "#####################\n",
      "TRAINING: [Iteracion:  1100  Costo:  0.653916871087  Accuracy: 0.639130434783  F1 Score: 0.779840848806 Precision training: 0.639130434783 Recall training: <function recall at 0x0000022C044946A8> ]\n",
      "TEST: [Iteracion:  1100 Accuracy: 0.629370629371  F1 Score: 0.772532188841 Precision Test: 0.629370629371 Recall Test: 1.0 ]\n",
      "#####################\n",
      "TRAINING: [Iteracion:  1150  Costo:  0.653916871083  Accuracy: 0.639130434783  F1 Score: 0.779840848806 Precision training: 0.639130434783 Recall training: <function recall at 0x0000022C044946A8> ]\n",
      "TEST: [Iteracion:  1150 Accuracy: 0.629370629371  F1 Score: 0.772532188841 Precision Test: 0.629370629371 Recall Test: 1.0 ]\n",
      "#####################\n",
      "TRAINING: [Iteracion:  1200  Costo:  0.653916871082  Accuracy: 0.639130434783  F1 Score: 0.779840848806 Precision training: 0.639130434783 Recall training: <function recall at 0x0000022C044946A8> ]\n",
      "TEST: [Iteracion:  1200 Accuracy: 0.629370629371  F1 Score: 0.772532188841 Precision Test: 0.629370629371 Recall Test: 1.0 ]\n"
     ]
    },
    {
     "name": "stdout",
     "output_type": "stream",
     "text": [
      "#####################\n",
      "TRAINING: [Iteracion:  1250  Costo:  0.653916871082  Accuracy: 0.639130434783  F1 Score: 0.779840848806 Precision training: 0.639130434783 Recall training: <function recall at 0x0000022C044946A8> ]\n",
      "TEST: [Iteracion:  1250 Accuracy: 0.629370629371  F1 Score: 0.772532188841 Precision Test: 0.629370629371 Recall Test: 1.0 ]\n",
      "#####################\n",
      "TRAINING: [Iteracion:  1300  Costo:  0.653916871082  Accuracy: 0.639130434783  F1 Score: 0.779840848806 Precision training: 0.639130434783 Recall training: <function recall at 0x0000022C044946A8> ]\n",
      "TEST: [Iteracion:  1300 Accuracy: 0.629370629371  F1 Score: 0.772532188841 Precision Test: 0.629370629371 Recall Test: 1.0 ]\n",
      "#####################\n",
      "TRAINING: [Iteracion:  1350  Costo:  0.653916871082  Accuracy: 0.639130434783  F1 Score: 0.779840848806 Precision training: 0.639130434783 Recall training: <function recall at 0x0000022C044946A8> ]\n",
      "TEST: [Iteracion:  1350 Accuracy: 0.629370629371  F1 Score: 0.772532188841 Precision Test: 0.629370629371 Recall Test: 1.0 ]\n",
      "#####################\n",
      "TRAINING: [Iteracion:  1400  Costo:  0.653916871082  Accuracy: 0.639130434783  F1 Score: 0.779840848806 Precision training: 0.639130434783 Recall training: <function recall at 0x0000022C044946A8> ]\n",
      "TEST: [Iteracion:  1400 Accuracy: 0.629370629371  F1 Score: 0.772532188841 Precision Test: 0.629370629371 Recall Test: 1.0 ]\n",
      "#####################\n",
      "TRAINING: [Iteracion:  1450  Costo:  0.653916871081  Accuracy: 0.639130434783  F1 Score: 0.779840848806 Precision training: 0.639130434783 Recall training: <function recall at 0x0000022C044946A8> ]\n",
      "TEST: [Iteracion:  1450 Accuracy: 0.629370629371  F1 Score: 0.772532188841 Precision Test: 0.629370629371 Recall Test: 1.0 ]\n"
     ]
    }
   ],
   "source": [
    "## Llama a la funcion de gradient descent, recurda definir un nombre diferente para el modelo (~1 linea) ##\n",
    "modelo_3_theta_values, cost_vect, acc_vect, acc_vect_test = \\\n",
    "gradient_descent(X_train_features, Y_train_m3, theta_vector, alpha, iterations, X_test_features, y_test, 'modelo_3')\n",
    "### FIN ###"
   ]
  },
  {
   "cell_type": "code",
   "execution_count": 294,
   "metadata": {},
   "outputs": [
    {
     "data": {
      "image/png": "[encoded data removed]",
      "text/plain": [
       "<matplotlib.figure.Figure at 0x22c04ddb2e8>"
      ]
     },
     "metadata": {},
     "output_type": "display_data"
    }
   ],
   "source": [
    "## Funcion para graficar el costo y  accuracy durante cada iteracion\n",
    "helper.training_graph(cost_vect, acc_vect, acc_vect_test)"
   ]
  },
  {
   "cell_type": "markdown",
   "metadata": {},
   "source": [
    "#### Accuracy con el Test set [Modelo 3]"
   ]
  },
  {
   "cell_type": "code",
   "execution_count": 295,
   "metadata": {
    "collapsed": true
   },
   "outputs": [],
   "source": [
    "y_predict = prediccion(X_test_features, modelo_3_theta_values, True)"
   ]
  },
  {
   "cell_type": "code",
   "execution_count": 296,
   "metadata": {},
   "outputs": [
    {
     "name": "stdout",
     "output_type": "stream",
     "text": [
      "Accuracy: 62.9370629371 %\n"
     ]
    }
   ],
   "source": [
    "print('Accuracy:',accuracy_score(y_test, y_predict)* 100 ,'%')"
   ]
  },
  {
   "cell_type": "markdown",
   "metadata": {},
   "source": [
    "#### Matriz de confusion Test Set [Modelo 3]"
   ]
  },
  {
   "cell_type": "code",
   "execution_count": 297,
   "metadata": {
    "scrolled": true
   },
   "outputs": [
    {
     "data": {
      "text/plain": [
       "array([[ 0, 53],\n",
       "       [ 0, 90]], dtype=int64)"
      ]
     },
     "execution_count": 297,
     "metadata": {},
     "output_type": "execute_result"
    }
   ],
   "source": [
    "confusion_matrix(y_test, y_predict)"
   ]
  },
  {
   "cell_type": "code",
   "execution_count": 298,
   "metadata": {},
   "outputs": [
    {
     "name": "stdout",
     "output_type": "stream",
     "text": [
      "precision:  0.629370629371\n",
      "recall:  1.0\n"
     ]
    }
   ],
   "source": [
    "print('precision: ',precision_score(y_test, y_predict))\n",
    "\n",
    "print('recall: ', recall_score(y_test, y_predict))"
   ]
  },
  {
   "cell_type": "markdown",
   "metadata": {},
   "source": [
    "## Entrenamiento modelo 4"
   ]
  },
  {
   "cell_type": "markdown",
   "metadata": {},
   "source": [
    "#### Sampleo bootstrap"
   ]
  },
  {
   "cell_type": "code",
   "execution_count": 299,
   "metadata": {
    "collapsed": true
   },
   "outputs": [],
   "source": [
    "X_train_m4, Y_train_m4 = resample(X_train, y_train, n_samples = 460)"
   ]
  },
  {
   "cell_type": "markdown",
   "metadata": {},
   "source": [
    "### Filtrar Features\n",
    "Solo seleccionar los features"
   ]
  },
  {
   "cell_type": "code",
   "execution_count": 300,
   "metadata": {
    "collapsed": true
   },
   "outputs": [],
   "source": [
    "'''\n",
    "Ingresa en la lista el nombre de las fatrues que quieres utlizar en este modelo (~1 linea)\n",
    "'''\n",
    "features_filtro = ['mean radius', 'mean texture', 'mean perimeter', 'mean area','mean smoothness']"
   ]
  },
  {
   "cell_type": "code",
   "execution_count": 301,
   "metadata": {
    "collapsed": true
   },
   "outputs": [],
   "source": [
    "X_train_m4 = helper.fitrar_nombre(X_train_m4,data.feature_names,features_filtro)\n",
    "X_test_features = helper.fitrar_nombre(X_test,data.feature_names,features_filtro)"
   ]
  },
  {
   "cell_type": "code",
   "execution_count": 302,
   "metadata": {
    "collapsed": true
   },
   "outputs": [],
   "source": [
    "## Numero de iteracions ##\n",
    "iterations = 1000 # Define el numero de iteraciones #\n",
    "\n",
    "## Alpha ##\n",
    "alpha = 0.03 # Define el valor de alpha #\n",
    "\n",
    "#### No hay que cambiar el codigo despues de esta linea #####\n",
    "## Numero de feautres ##\n",
    "numero_features = X_train_m4.shape[1] + 1\n",
    "\n",
    "## Creamos un vector donde se almacenan los valores de Theta,\n",
    "## lo inicializamos con numeros aleatorios\n",
    "theta_vector = np.random.rand(numero_features)\n",
    "\n",
    "## Normaliza las features de X_train_features (~1 linea) ##\n",
    "X_train_m4 = normalizar(X_train_m4)\n",
    "\n",
    "# Creando la Matriz X de features\n",
    "X_train_features = np.ones((X_train_m4.shape[0], numero_features))\n",
    "X_train_features[:,:-1] = X_train_m4"
   ]
  },
  {
   "cell_type": "code",
   "execution_count": 303,
   "metadata": {
    "scrolled": true
   },
   "outputs": [
    {
     "name": "stdout",
     "output_type": "stream",
     "text": [
      "#####################\n",
      "TRAINING: [Iteracion:  0  Costo:  3.74676321188  Accuracy: 0.610869565217  F1 Score: 0.758434547908 Precision training: 0.610869565217 Recall training: <function recall at 0x0000022C044946A8> ]\n",
      "TEST: [Iteracion:  0 Accuracy: 0.629370629371  F1 Score: 0.772532188841 Precision Test: 0.629370629371 Recall Test: 1.0 ]\n"
     ]
    },
    {
     "name": "stderr",
     "output_type": "stream",
     "text": [
      "C:\\Users\\Isa Miranda\\Documents\\UFM\\7mo SEMESTRE\\Machine_Learning\\lib\\site-packages\\sklearn\\metrics\\classification.py:1137: UndefinedMetricWarning: F-score is ill-defined and being set to 0.0 due to no true samples.\n",
      "  'recall', 'true', average, warn_for)\n",
      "C:\\Users\\Isa Miranda\\Documents\\UFM\\7mo SEMESTRE\\Machine_Learning\\lib\\site-packages\\sklearn\\metrics\\classification.py:1135: UndefinedMetricWarning: Precision is ill-defined and being set to 0.0 due to no predicted samples.\n",
      "  'precision', 'predicted', average, warn_for)\n",
      "C:\\Users\\Isa Miranda\\Documents\\UFM\\7mo SEMESTRE\\Machine_Learning\\lib\\site-packages\\sklearn\\metrics\\classification.py:1135: UndefinedMetricWarning: F-score is ill-defined and being set to 0.0 due to no predicted samples.\n",
      "  'precision', 'predicted', average, warn_for)\n"
     ]
    },
    {
     "name": "stdout",
     "output_type": "stream",
     "text": [
      "#####################\n",
      "TRAINING: [Iteracion:  50  Costo:  1.05410725009  Accuracy: 0.610869565217  F1 Score: 0.758434547908 Precision training: 0.610869565217 Recall training: <function recall at 0x0000022C044946A8> ]\n",
      "TEST: [Iteracion:  50 Accuracy: 0.629370629371  F1 Score: 0.772532188841 Precision Test: 0.629370629371 Recall Test: 1.0 ]\n",
      "#####################\n",
      "TRAINING: [Iteracion:  100  Costo:  1.05410725009  Accuracy: 0.610869565217  F1 Score: 0.758434547908 Precision training: 0.610869565217 Recall training: <function recall at 0x0000022C044946A8> ]\n",
      "TEST: [Iteracion:  100 Accuracy: 0.629370629371  F1 Score: 0.772532188841 Precision Test: 0.629370629371 Recall Test: 1.0 ]\n",
      "#####################\n",
      "TRAINING: [Iteracion:  150  Costo:  1.05410725009  Accuracy: 0.610869565217  F1 Score: 0.758434547908 Precision training: 0.610869565217 Recall training: <function recall at 0x0000022C044946A8> ]\n",
      "TEST: [Iteracion:  150 Accuracy: 0.629370629371  F1 Score: 0.772532188841 Precision Test: 0.629370629371 Recall Test: 1.0 ]\n",
      "#####################\n",
      "TRAINING: [Iteracion:  200  Costo:  1.05410725009  Accuracy: 0.610869565217  F1 Score: 0.758434547908 Precision training: 0.610869565217 Recall training: <function recall at 0x0000022C044946A8> ]\n",
      "TEST: [Iteracion:  200 Accuracy: 0.629370629371  F1 Score: 0.772532188841 Precision Test: 0.629370629371 Recall Test: 1.0 ]\n",
      "#####################\n",
      "TRAINING: [Iteracion:  250  Costo:  1.05410725009  Accuracy: 0.610869565217  F1 Score: 0.758434547908 Precision training: 0.610869565217 Recall training: <function recall at 0x0000022C044946A8> ]\n",
      "TEST: [Iteracion:  250 Accuracy: 0.629370629371  F1 Score: 0.772532188841 Precision Test: 0.629370629371 Recall Test: 1.0 ]\n",
      "#####################\n",
      "TRAINING: [Iteracion:  300  Costo:  1.05410725009  Accuracy: 0.610869565217  F1 Score: 0.758434547908 Precision training: 0.610869565217 Recall training: <function recall at 0x0000022C044946A8> ]\n",
      "TEST: [Iteracion:  300 Accuracy: 0.629370629371  F1 Score: 0.772532188841 Precision Test: 0.629370629371 Recall Test: 1.0 ]\n",
      "#####################\n",
      "TRAINING: [Iteracion:  350  Costo:  1.05410725009  Accuracy: 0.610869565217  F1 Score: 0.758434547908 Precision training: 0.610869565217 Recall training: <function recall at 0x0000022C044946A8> ]\n",
      "TEST: [Iteracion:  350 Accuracy: 0.629370629371  F1 Score: 0.772532188841 Precision Test: 0.629370629371 Recall Test: 1.0 ]\n",
      "#####################\n",
      "TRAINING: [Iteracion:  400  Costo:  1.05410725009  Accuracy: 0.610869565217  F1 Score: 0.758434547908 Precision training: 0.610869565217 Recall training: <function recall at 0x0000022C044946A8> ]\n",
      "TEST: [Iteracion:  400 Accuracy: 0.629370629371  F1 Score: 0.772532188841 Precision Test: 0.629370629371 Recall Test: 1.0 ]\n",
      "#####################\n",
      "TRAINING: [Iteracion:  450  Costo:  1.05410725009  Accuracy: 0.610869565217  F1 Score: 0.758434547908 Precision training: 0.610869565217 Recall training: <function recall at 0x0000022C044946A8> ]\n",
      "TEST: [Iteracion:  450 Accuracy: 0.629370629371  F1 Score: 0.772532188841 Precision Test: 0.629370629371 Recall Test: 1.0 ]\n",
      "#####################\n",
      "TRAINING: [Iteracion:  500  Costo:  1.05410725009  Accuracy: 0.610869565217  F1 Score: 0.758434547908 Precision training: 0.610869565217 Recall training: <function recall at 0x0000022C044946A8> ]\n",
      "TEST: [Iteracion:  500 Accuracy: 0.629370629371  F1 Score: 0.772532188841 Precision Test: 0.629370629371 Recall Test: 1.0 ]\n",
      "#####################\n",
      "TRAINING: [Iteracion:  550  Costo:  1.05410725009  Accuracy: 0.610869565217  F1 Score: 0.758434547908 Precision training: 0.610869565217 Recall training: <function recall at 0x0000022C044946A8> ]\n",
      "TEST: [Iteracion:  550 Accuracy: 0.629370629371  F1 Score: 0.772532188841 Precision Test: 0.629370629371 Recall Test: 1.0 ]\n",
      "#####################\n",
      "TRAINING: [Iteracion:  600  Costo:  1.05410725009  Accuracy: 0.610869565217  F1 Score: 0.758434547908 Precision training: 0.610869565217 Recall training: <function recall at 0x0000022C044946A8> ]\n",
      "TEST: [Iteracion:  600 Accuracy: 0.629370629371  F1 Score: 0.772532188841 Precision Test: 0.629370629371 Recall Test: 1.0 ]\n",
      "#####################\n",
      "TRAINING: [Iteracion:  650  Costo:  1.05410725009  Accuracy: 0.610869565217  F1 Score: 0.758434547908 Precision training: 0.610869565217 Recall training: <function recall at 0x0000022C044946A8> ]\n",
      "TEST: [Iteracion:  650 Accuracy: 0.629370629371  F1 Score: 0.772532188841 Precision Test: 0.629370629371 Recall Test: 1.0 ]\n",
      "#####################\n",
      "TRAINING: [Iteracion:  700  Costo:  1.05410725009  Accuracy: 0.610869565217  F1 Score: 0.758434547908 Precision training: 0.610869565217 Recall training: <function recall at 0x0000022C044946A8> ]\n",
      "TEST: [Iteracion:  700 Accuracy: 0.629370629371  F1 Score: 0.772532188841 Precision Test: 0.629370629371 Recall Test: 1.0 ]\n",
      "#####################\n",
      "TRAINING: [Iteracion:  750  Costo:  1.05410725009  Accuracy: 0.610869565217  F1 Score: 0.758434547908 Precision training: 0.610869565217 Recall training: <function recall at 0x0000022C044946A8> ]\n",
      "TEST: [Iteracion:  750 Accuracy: 0.629370629371  F1 Score: 0.772532188841 Precision Test: 0.629370629371 Recall Test: 1.0 ]\n",
      "#####################\n",
      "TRAINING: [Iteracion:  800  Costo:  1.05410725009  Accuracy: 0.610869565217  F1 Score: 0.758434547908 Precision training: 0.610869565217 Recall training: <function recall at 0x0000022C044946A8> ]\n",
      "TEST: [Iteracion:  800 Accuracy: 0.629370629371  F1 Score: 0.772532188841 Precision Test: 0.629370629371 Recall Test: 1.0 ]\n",
      "#####################\n",
      "TRAINING: [Iteracion:  850  Costo:  1.05410725009  Accuracy: 0.610869565217  F1 Score: 0.758434547908 Precision training: 0.610869565217 Recall training: <function recall at 0x0000022C044946A8> ]\n",
      "TEST: [Iteracion:  850 Accuracy: 0.629370629371  F1 Score: 0.772532188841 Precision Test: 0.629370629371 Recall Test: 1.0 ]\n",
      "#####################\n",
      "TRAINING: [Iteracion:  900  Costo:  1.05410725009  Accuracy: 0.610869565217  F1 Score: 0.758434547908 Precision training: 0.610869565217 Recall training: <function recall at 0x0000022C044946A8> ]\n",
      "TEST: [Iteracion:  900 Accuracy: 0.629370629371  F1 Score: 0.772532188841 Precision Test: 0.629370629371 Recall Test: 1.0 ]\n",
      "#####################\n",
      "TRAINING: [Iteracion:  950  Costo:  1.05410725009  Accuracy: 0.610869565217  F1 Score: 0.758434547908 Precision training: 0.610869565217 Recall training: <function recall at 0x0000022C044946A8> ]\n",
      "TEST: [Iteracion:  950 Accuracy: 0.629370629371  F1 Score: 0.772532188841 Precision Test: 0.629370629371 Recall Test: 1.0 ]\n"
     ]
    }
   ],
   "source": [
    "## Llama a la funcion de gradient descent, recurda definir un nombre diferente para el modelo (~1 linea) ##\n",
    "modelo_4_theta_values, cost_vect, acc_vect, acc_vect_test = \\\n",
    "gradient_descent(X_train_features, Y_train_m4, theta_vector, alpha, iterations, X_test_features, y_test, 'modelo_4')\n",
    "### FIN ##"
   ]
  },
  {
   "cell_type": "code",
   "execution_count": 304,
   "metadata": {},
   "outputs": [
    {
     "data": {
      "image/png": "[encoded data removed]",
      "text/plain": [
       "<matplotlib.figure.Figure at 0x22c04e24240>"
      ]
     },
     "metadata": {},
     "output_type": "display_data"
    }
   ],
   "source": [
    "## Funcion para graficar el costo y  accuracy durante cada iteracion ##\n",
    "helper.training_graph(cost_vect, acc_vect, acc_vect_test)"
   ]
  },
  {
   "cell_type": "markdown",
   "metadata": {},
   "source": [
    "#### Accuracy con el Test set [Modelo 4]"
   ]
  },
  {
   "cell_type": "code",
   "execution_count": 305,
   "metadata": {
    "collapsed": true
   },
   "outputs": [],
   "source": [
    "y_predict = prediccion(X_test_features, modelo_4_theta_values, True)"
   ]
  },
  {
   "cell_type": "code",
   "execution_count": 306,
   "metadata": {
    "scrolled": false
   },
   "outputs": [
    {
     "name": "stdout",
     "output_type": "stream",
     "text": [
      "Accuracy: 62.9370629371 %\n"
     ]
    }
   ],
   "source": [
    "print('Accuracy:',accuracy_score(y_test, y_predict)* 100 ,'%')"
   ]
  },
  {
   "cell_type": "markdown",
   "metadata": {},
   "source": [
    "#### Matriz de confusion Test Set [Modelo 4]"
   ]
  },
  {
   "cell_type": "code",
   "execution_count": 307,
   "metadata": {
    "scrolled": true
   },
   "outputs": [
    {
     "data": {
      "text/plain": [
       "array([[ 0, 53],\n",
       "       [ 0, 90]], dtype=int64)"
      ]
     },
     "execution_count": 307,
     "metadata": {},
     "output_type": "execute_result"
    }
   ],
   "source": [
    "confusion_matrix(y_test, y_predict)"
   ]
  },
  {
   "cell_type": "code",
   "execution_count": 308,
   "metadata": {},
   "outputs": [
    {
     "name": "stdout",
     "output_type": "stream",
     "text": [
      "precision:  0.629370629371\n",
      "recall:  1.0\n"
     ]
    }
   ],
   "source": [
    "print('precision: ',precision_score(y_test, y_predict))\n",
    "\n",
    "print('recall: ', recall_score(y_test, y_predict))"
   ]
  },
  {
   "cell_type": "markdown",
   "metadata": {},
   "source": [
    "## Entrenamiento modelo 5"
   ]
  },
  {
   "cell_type": "markdown",
   "metadata": {},
   "source": [
    "#### Sampleo bootstrap"
   ]
  },
  {
   "cell_type": "code",
   "execution_count": 309,
   "metadata": {
    "collapsed": true
   },
   "outputs": [],
   "source": [
    "X_train_m5, Y_train_m5 = resample(X_train, y_train, n_samples = 460)"
   ]
  },
  {
   "cell_type": "markdown",
   "metadata": {},
   "source": [
    "### Filtrar Features\n",
    "Solo seleccionar los features"
   ]
  },
  {
   "cell_type": "code",
   "execution_count": 310,
   "metadata": {
    "collapsed": true
   },
   "outputs": [],
   "source": [
    "'''\n",
    "Ingresa en la lista el nombre de las fatrues que quieres utlizar en este modelo (~1 linea)\n",
    "'''\n",
    "features_filtro = ['mean radius', 'mean texture', 'mean perimeter', 'mean area','mean smoothness']"
   ]
  },
  {
   "cell_type": "code",
   "execution_count": 311,
   "metadata": {
    "collapsed": true
   },
   "outputs": [],
   "source": [
    "X_train_m5 = helper.fitrar_nombre(X_train_m5,data.feature_names,features_filtro)\n",
    "X_test_features = helper.fitrar_nombre(X_test,data.feature_names,features_filtro)"
   ]
  },
  {
   "cell_type": "code",
   "execution_count": 312,
   "metadata": {
    "collapsed": true
   },
   "outputs": [],
   "source": [
    "## Numero de iteracions ##\n",
    "iterations = 2000 # Define el numero de iteraciones #\n",
    "\n",
    "## Alpha ##\n",
    "alpha = 0.01 # Define el valor de alpha #\n",
    "\n",
    "#### No hay que cambiar el codigo despues de esta linea #####\n",
    "## Numero de feautres ##\n",
    "numero_features = X_train_m5.shape[1] + 1\n",
    "\n",
    "## Creamos un vector donde se almacenan los valores de Theta,\n",
    "## lo inicializamos con numeros aleatorios\n",
    "theta_vector = np.random.rand(numero_features)\n",
    "\n",
    "## Normaliza las features de X_train_features (~1 linea) ##\n",
    "X_train_m5 = normalizar(X_train_m5)\n",
    "\n",
    "# Creando la Matriz X de features\n",
    "X_train_features = np.ones((X_train_m5.shape[0], numero_features))\n",
    "X_train_features[:,:-1] = X_train_m5"
   ]
  },
  {
   "cell_type": "code",
   "execution_count": 313,
   "metadata": {
    "scrolled": true
   },
   "outputs": [
    {
     "name": "stdout",
     "output_type": "stream",
     "text": [
      "#####################\n",
      "TRAINING: [Iteracion:  0  Costo:  2.32656297438  Accuracy: 0.645652173913  F1 Score: 0.784676354029 Precision training: 0.645652173913 Recall training: <function recall at 0x0000022C044946A8> ]\n",
      "TEST: [Iteracion:  0 Accuracy: 0.629370629371  F1 Score: 0.772532188841 Precision Test: 0.629370629371 Recall Test: 1.0 ]\n"
     ]
    },
    {
     "name": "stderr",
     "output_type": "stream",
     "text": [
      "C:\\Users\\Isa Miranda\\Documents\\UFM\\7mo SEMESTRE\\Machine_Learning\\lib\\site-packages\\sklearn\\metrics\\classification.py:1137: UndefinedMetricWarning: F-score is ill-defined and being set to 0.0 due to no true samples.\n",
      "  'recall', 'true', average, warn_for)\n",
      "C:\\Users\\Isa Miranda\\Documents\\UFM\\7mo SEMESTRE\\Machine_Learning\\lib\\site-packages\\sklearn\\metrics\\classification.py:1135: UndefinedMetricWarning: Precision is ill-defined and being set to 0.0 due to no predicted samples.\n",
      "  'precision', 'predicted', average, warn_for)\n"
     ]
    },
    {
     "name": "stdout",
     "output_type": "stream",
     "text": [
      "#####################\n",
      "TRAINING: [Iteracion:  50  Costo:  0.650096646101  Accuracy: 0.645652173913  F1 Score: 0.784676354029 Precision training: 0.645652173913 Recall training: <function recall at 0x0000022C044946A8> ]\n",
      "TEST: [Iteracion:  50 Accuracy: 0.629370629371  F1 Score: 0.772532188841 Precision Test: 0.629370629371 Recall Test: 1.0 ]\n",
      "#####################\n",
      "TRAINING: [Iteracion:  100  Costo:  0.650096646101  Accuracy: 0.645652173913  F1 Score: 0.784676354029 Precision training: 0.645652173913 Recall training: <function recall at 0x0000022C044946A8> ]\n",
      "TEST: [Iteracion:  100 Accuracy: 0.629370629371  F1 Score: 0.772532188841 Precision Test: 0.629370629371 Recall Test: 1.0 ]\n",
      "#####################\n",
      "TRAINING: [Iteracion:  150  Costo:  0.650096646101  Accuracy: 0.645652173913  F1 Score: 0.784676354029 Precision training: 0.645652173913 Recall training: <function recall at 0x0000022C044946A8> ]\n",
      "TEST: [Iteracion:  150 Accuracy: 0.629370629371  F1 Score: 0.772532188841 Precision Test: 0.629370629371 Recall Test: 1.0 ]\n",
      "#####################\n",
      "TRAINING: [Iteracion:  200  Costo:  0.650096646101  Accuracy: 0.645652173913  F1 Score: 0.784676354029 Precision training: 0.645652173913 Recall training: <function recall at 0x0000022C044946A8> ]\n",
      "TEST: [Iteracion:  200 Accuracy: 0.629370629371  F1 Score: 0.772532188841 Precision Test: 0.629370629371 Recall Test: 1.0 ]\n",
      "#####################\n",
      "TRAINING: [Iteracion:  250  Costo:  0.650096646101  Accuracy: 0.645652173913  F1 Score: 0.784676354029 Precision training: 0.645652173913 Recall training: <function recall at 0x0000022C044946A8> ]\n",
      "TEST: [Iteracion:  250 Accuracy: 0.629370629371  F1 Score: 0.772532188841 Precision Test: 0.629370629371 Recall Test: 1.0 ]\n",
      "#####################\n",
      "TRAINING: [Iteracion:  300  Costo:  0.650096646101  Accuracy: 0.645652173913  F1 Score: 0.784676354029 Precision training: 0.645652173913 Recall training: <function recall at 0x0000022C044946A8> ]\n",
      "TEST: [Iteracion:  300 Accuracy: 0.629370629371  F1 Score: 0.772532188841 Precision Test: 0.629370629371 Recall Test: 1.0 ]\n",
      "#####################\n",
      "TRAINING: [Iteracion:  350  Costo:  0.650096646101  Accuracy: 0.645652173913  F1 Score: 0.784676354029 Precision training: 0.645652173913 Recall training: <function recall at 0x0000022C044946A8> ]\n",
      "TEST: [Iteracion:  350 Accuracy: 0.629370629371  F1 Score: 0.772532188841 Precision Test: 0.629370629371 Recall Test: 1.0 ]\n",
      "#####################\n",
      "TRAINING: [Iteracion:  400  Costo:  0.650096646101  Accuracy: 0.645652173913  F1 Score: 0.784676354029 Precision training: 0.645652173913 Recall training: <function recall at 0x0000022C044946A8> ]\n",
      "TEST: [Iteracion:  400 Accuracy: 0.629370629371  F1 Score: 0.772532188841 Precision Test: 0.629370629371 Recall Test: 1.0 ]\n",
      "#####################\n",
      "TRAINING: [Iteracion:  450  Costo:  0.650096646101  Accuracy: 0.645652173913  F1 Score: 0.784676354029 Precision training: 0.645652173913 Recall training: <function recall at 0x0000022C044946A8> ]\n",
      "TEST: [Iteracion:  450 Accuracy: 0.629370629371  F1 Score: 0.772532188841 Precision Test: 0.629370629371 Recall Test: 1.0 ]\n",
      "#####################\n",
      "TRAINING: [Iteracion:  500  Costo:  0.650096646101  Accuracy: 0.645652173913  F1 Score: 0.784676354029 Precision training: 0.645652173913 Recall training: <function recall at 0x0000022C044946A8> ]\n",
      "TEST: [Iteracion:  500 Accuracy: 0.629370629371  F1 Score: 0.772532188841 Precision Test: 0.629370629371 Recall Test: 1.0 ]\n",
      "#####################\n",
      "TRAINING: [Iteracion:  550  Costo:  0.650096646101  Accuracy: 0.645652173913  F1 Score: 0.784676354029 Precision training: 0.645652173913 Recall training: <function recall at 0x0000022C044946A8> ]\n",
      "TEST: [Iteracion:  550 Accuracy: 0.629370629371  F1 Score: 0.772532188841 Precision Test: 0.629370629371 Recall Test: 1.0 ]\n",
      "#####################\n",
      "TRAINING: [Iteracion:  600  Costo:  0.650096646101  Accuracy: 0.645652173913  F1 Score: 0.784676354029 Precision training: 0.645652173913 Recall training: <function recall at 0x0000022C044946A8> ]\n",
      "TEST: [Iteracion:  600 Accuracy: 0.629370629371  F1 Score: 0.772532188841 Precision Test: 0.629370629371 Recall Test: 1.0 ]\n",
      "#####################\n",
      "TRAINING: [Iteracion:  650  Costo:  0.650096646101  Accuracy: 0.645652173913  F1 Score: 0.784676354029 Precision training: 0.645652173913 Recall training: <function recall at 0x0000022C044946A8> ]\n",
      "TEST: [Iteracion:  650 Accuracy: 0.629370629371  F1 Score: 0.772532188841 Precision Test: 0.629370629371 Recall Test: 1.0 ]\n",
      "#####################\n",
      "TRAINING: [Iteracion:  700  Costo:  0.650096646101  Accuracy: 0.645652173913  F1 Score: 0.784676354029 Precision training: 0.645652173913 Recall training: <function recall at 0x0000022C044946A8> ]\n",
      "TEST: [Iteracion:  700 Accuracy: 0.629370629371  F1 Score: 0.772532188841 Precision Test: 0.629370629371 Recall Test: 1.0 ]\n",
      "#####################\n",
      "TRAINING: [Iteracion:  750  Costo:  0.650096646101  Accuracy: 0.645652173913  F1 Score: 0.784676354029 Precision training: 0.645652173913 Recall training: <function recall at 0x0000022C044946A8> ]\n",
      "TEST: [Iteracion:  750 Accuracy: 0.629370629371  F1 Score: 0.772532188841 Precision Test: 0.629370629371 Recall Test: 1.0 ]\n",
      "#####################\n",
      "TRAINING: [Iteracion:  800  Costo:  0.650096646101  Accuracy: 0.645652173913  F1 Score: 0.784676354029 Precision training: 0.645652173913 Recall training: <function recall at 0x0000022C044946A8> ]\n",
      "TEST: [Iteracion:  800 Accuracy: 0.629370629371  F1 Score: 0.772532188841 Precision Test: 0.629370629371 Recall Test: 1.0 ]\n",
      "#####################\n",
      "TRAINING: [Iteracion:  850  Costo:  0.650096646101  Accuracy: 0.645652173913  F1 Score: 0.784676354029 Precision training: 0.645652173913 Recall training: <function recall at 0x0000022C044946A8> ]\n",
      "TEST: [Iteracion:  850 Accuracy: 0.629370629371  F1 Score: 0.772532188841 Precision Test: 0.629370629371 Recall Test: 1.0 ]\n",
      "#####################\n",
      "TRAINING: [Iteracion:  900  Costo:  0.650096646101  Accuracy: 0.645652173913  F1 Score: 0.784676354029 Precision training: 0.645652173913 Recall training: <function recall at 0x0000022C044946A8> ]\n",
      "TEST: [Iteracion:  900 Accuracy: 0.629370629371  F1 Score: 0.772532188841 Precision Test: 0.629370629371 Recall Test: 1.0 ]\n",
      "#####################\n",
      "TRAINING: [Iteracion:  950  Costo:  0.650096646101  Accuracy: 0.645652173913  F1 Score: 0.784676354029 Precision training: 0.645652173913 Recall training: <function recall at 0x0000022C044946A8> ]\n",
      "TEST: [Iteracion:  950 Accuracy: 0.629370629371  F1 Score: 0.772532188841 Precision Test: 0.629370629371 Recall Test: 1.0 ]\n",
      "#####################\n",
      "TRAINING: [Iteracion:  1000  Costo:  0.650096646101  Accuracy: 0.645652173913  F1 Score: 0.784676354029 Precision training: 0.645652173913 Recall training: <function recall at 0x0000022C044946A8> ]\n",
      "TEST: [Iteracion:  1000 Accuracy: 0.629370629371  F1 Score: 0.772532188841 Precision Test: 0.629370629371 Recall Test: 1.0 ]\n",
      "#####################\n",
      "TRAINING: [Iteracion:  1050  Costo:  0.650096646101  Accuracy: 0.645652173913  F1 Score: 0.784676354029 Precision training: 0.645652173913 Recall training: <function recall at 0x0000022C044946A8> ]\n",
      "TEST: [Iteracion:  1050 Accuracy: 0.629370629371  F1 Score: 0.772532188841 Precision Test: 0.629370629371 Recall Test: 1.0 ]\n",
      "#####################\n",
      "TRAINING: [Iteracion:  1100  Costo:  0.650096646101  Accuracy: 0.645652173913  F1 Score: 0.784676354029 Precision training: 0.645652173913 Recall training: <function recall at 0x0000022C044946A8> ]\n",
      "TEST: [Iteracion:  1100 Accuracy: 0.629370629371  F1 Score: 0.772532188841 Precision Test: 0.629370629371 Recall Test: 1.0 ]\n",
      "#####################\n",
      "TRAINING: [Iteracion:  1150  Costo:  0.650096646101  Accuracy: 0.645652173913  F1 Score: 0.784676354029 Precision training: 0.645652173913 Recall training: <function recall at 0x0000022C044946A8> ]\n",
      "TEST: [Iteracion:  1150 Accuracy: 0.629370629371  F1 Score: 0.772532188841 Precision Test: 0.629370629371 Recall Test: 1.0 ]\n",
      "#####################\n",
      "TRAINING: [Iteracion:  1200  Costo:  0.650096646101  Accuracy: 0.645652173913  F1 Score: 0.784676354029 Precision training: 0.645652173913 Recall training: <function recall at 0x0000022C044946A8> ]\n",
      "TEST: [Iteracion:  1200 Accuracy: 0.629370629371  F1 Score: 0.772532188841 Precision Test: 0.629370629371 Recall Test: 1.0 ]\n"
     ]
    },
    {
     "name": "stdout",
     "output_type": "stream",
     "text": [
      "#####################\n",
      "TRAINING: [Iteracion:  1250  Costo:  0.650096646101  Accuracy: 0.645652173913  F1 Score: 0.784676354029 Precision training: 0.645652173913 Recall training: <function recall at 0x0000022C044946A8> ]\n",
      "TEST: [Iteracion:  1250 Accuracy: 0.629370629371  F1 Score: 0.772532188841 Precision Test: 0.629370629371 Recall Test: 1.0 ]\n",
      "#####################\n",
      "TRAINING: [Iteracion:  1300  Costo:  0.650096646101  Accuracy: 0.645652173913  F1 Score: 0.784676354029 Precision training: 0.645652173913 Recall training: <function recall at 0x0000022C044946A8> ]\n",
      "TEST: [Iteracion:  1300 Accuracy: 0.629370629371  F1 Score: 0.772532188841 Precision Test: 0.629370629371 Recall Test: 1.0 ]\n",
      "#####################\n",
      "TRAINING: [Iteracion:  1350  Costo:  0.650096646101  Accuracy: 0.645652173913  F1 Score: 0.784676354029 Precision training: 0.645652173913 Recall training: <function recall at 0x0000022C044946A8> ]\n",
      "TEST: [Iteracion:  1350 Accuracy: 0.629370629371  F1 Score: 0.772532188841 Precision Test: 0.629370629371 Recall Test: 1.0 ]\n",
      "#####################\n",
      "TRAINING: [Iteracion:  1400  Costo:  0.650096646101  Accuracy: 0.645652173913  F1 Score: 0.784676354029 Precision training: 0.645652173913 Recall training: <function recall at 0x0000022C044946A8> ]\n",
      "TEST: [Iteracion:  1400 Accuracy: 0.629370629371  F1 Score: 0.772532188841 Precision Test: 0.629370629371 Recall Test: 1.0 ]\n",
      "#####################\n",
      "TRAINING: [Iteracion:  1450  Costo:  0.650096646101  Accuracy: 0.645652173913  F1 Score: 0.784676354029 Precision training: 0.645652173913 Recall training: <function recall at 0x0000022C044946A8> ]\n",
      "TEST: [Iteracion:  1450 Accuracy: 0.629370629371  F1 Score: 0.772532188841 Precision Test: 0.629370629371 Recall Test: 1.0 ]\n",
      "#####################\n",
      "TRAINING: [Iteracion:  1500  Costo:  0.650096646101  Accuracy: 0.645652173913  F1 Score: 0.784676354029 Precision training: 0.645652173913 Recall training: <function recall at 0x0000022C044946A8> ]\n",
      "TEST: [Iteracion:  1500 Accuracy: 0.629370629371  F1 Score: 0.772532188841 Precision Test: 0.629370629371 Recall Test: 1.0 ]\n",
      "#####################\n",
      "TRAINING: [Iteracion:  1550  Costo:  0.650096646101  Accuracy: 0.645652173913  F1 Score: 0.784676354029 Precision training: 0.645652173913 Recall training: <function recall at 0x0000022C044946A8> ]\n",
      "TEST: [Iteracion:  1550 Accuracy: 0.629370629371  F1 Score: 0.772532188841 Precision Test: 0.629370629371 Recall Test: 1.0 ]\n",
      "#####################\n",
      "TRAINING: [Iteracion:  1600  Costo:  0.650096646101  Accuracy: 0.645652173913  F1 Score: 0.784676354029 Precision training: 0.645652173913 Recall training: <function recall at 0x0000022C044946A8> ]\n",
      "TEST: [Iteracion:  1600 Accuracy: 0.629370629371  F1 Score: 0.772532188841 Precision Test: 0.629370629371 Recall Test: 1.0 ]\n",
      "#####################\n",
      "TRAINING: [Iteracion:  1650  Costo:  0.650096646101  Accuracy: 0.645652173913  F1 Score: 0.784676354029 Precision training: 0.645652173913 Recall training: <function recall at 0x0000022C044946A8> ]\n",
      "TEST: [Iteracion:  1650 Accuracy: 0.629370629371  F1 Score: 0.772532188841 Precision Test: 0.629370629371 Recall Test: 1.0 ]\n",
      "#####################\n",
      "TRAINING: [Iteracion:  1700  Costo:  0.650096646101  Accuracy: 0.645652173913  F1 Score: 0.784676354029 Precision training: 0.645652173913 Recall training: <function recall at 0x0000022C044946A8> ]\n",
      "TEST: [Iteracion:  1700 Accuracy: 0.629370629371  F1 Score: 0.772532188841 Precision Test: 0.629370629371 Recall Test: 1.0 ]\n",
      "#####################\n",
      "TRAINING: [Iteracion:  1750  Costo:  0.650096646101  Accuracy: 0.645652173913  F1 Score: 0.784676354029 Precision training: 0.645652173913 Recall training: <function recall at 0x0000022C044946A8> ]\n",
      "TEST: [Iteracion:  1750 Accuracy: 0.629370629371  F1 Score: 0.772532188841 Precision Test: 0.629370629371 Recall Test: 1.0 ]\n",
      "#####################\n",
      "TRAINING: [Iteracion:  1800  Costo:  0.650096646101  Accuracy: 0.645652173913  F1 Score: 0.784676354029 Precision training: 0.645652173913 Recall training: <function recall at 0x0000022C044946A8> ]\n",
      "TEST: [Iteracion:  1800 Accuracy: 0.629370629371  F1 Score: 0.772532188841 Precision Test: 0.629370629371 Recall Test: 1.0 ]\n",
      "#####################\n",
      "TRAINING: [Iteracion:  1850  Costo:  0.650096646101  Accuracy: 0.645652173913  F1 Score: 0.784676354029 Precision training: 0.645652173913 Recall training: <function recall at 0x0000022C044946A8> ]\n",
      "TEST: [Iteracion:  1850 Accuracy: 0.629370629371  F1 Score: 0.772532188841 Precision Test: 0.629370629371 Recall Test: 1.0 ]\n",
      "#####################\n",
      "TRAINING: [Iteracion:  1900  Costo:  0.650096646101  Accuracy: 0.645652173913  F1 Score: 0.784676354029 Precision training: 0.645652173913 Recall training: <function recall at 0x0000022C044946A8> ]\n",
      "TEST: [Iteracion:  1900 Accuracy: 0.629370629371  F1 Score: 0.772532188841 Precision Test: 0.629370629371 Recall Test: 1.0 ]\n",
      "#####################\n",
      "TRAINING: [Iteracion:  1950  Costo:  0.650096646101  Accuracy: 0.645652173913  F1 Score: 0.784676354029 Precision training: 0.645652173913 Recall training: <function recall at 0x0000022C044946A8> ]\n",
      "TEST: [Iteracion:  1950 Accuracy: 0.629370629371  F1 Score: 0.772532188841 Precision Test: 0.629370629371 Recall Test: 1.0 ]\n"
     ]
    }
   ],
   "source": [
    "## Llama a la funcion de gradient descent, recurda definir un nombre diferente para el modelo (~1 linea) ##\n",
    "modelo_5_theta_values, cost_vect, acc_vect, acc_vect_test = \\\n",
    "gradient_descent(X_train_features, Y_train_m5, theta_vector, alpha, iterations, X_test_features, y_test, 'modelo_5')\n",
    "### FIN ##"
   ]
  },
  {
   "cell_type": "code",
   "execution_count": 314,
   "metadata": {},
   "outputs": [
    {
     "data": {
      "image/png": "[encoded data removed]",
      "text/plain": [
       "<matplotlib.figure.Figure at 0x22c04d3a208>"
      ]
     },
     "metadata": {},
     "output_type": "display_data"
    }
   ],
   "source": [
    "## Funcion para graficar el costo y  accuracy durante cada iteracion ##\n",
    "helper.training_graph(cost_vect, acc_vect, acc_vect_test)"
   ]
  },
  {
   "cell_type": "markdown",
   "metadata": {},
   "source": [
    "#### Accuracy con el Test set [Modelo 5]"
   ]
  },
  {
   "cell_type": "code",
   "execution_count": 315,
   "metadata": {
    "collapsed": true
   },
   "outputs": [],
   "source": [
    "y_predict = prediccion(X_test_features, modelo_5_theta_values, True)"
   ]
  },
  {
   "cell_type": "code",
   "execution_count": 316,
   "metadata": {
    "scrolled": false
   },
   "outputs": [
    {
     "name": "stdout",
     "output_type": "stream",
     "text": [
      "Accuracy: 62.9370629371 %\n"
     ]
    }
   ],
   "source": [
    "print('Accuracy:',accuracy_score(y_test, y_predict)* 100 ,'%')"
   ]
  },
  {
   "cell_type": "markdown",
   "metadata": {},
   "source": [
    "#### Matriz de confusion Test Set [Modelo 5]"
   ]
  },
  {
   "cell_type": "code",
   "execution_count": 317,
   "metadata": {
    "scrolled": true
   },
   "outputs": [
    {
     "data": {
      "text/plain": [
       "array([[ 0, 53],\n",
       "       [ 0, 90]], dtype=int64)"
      ]
     },
     "execution_count": 317,
     "metadata": {},
     "output_type": "execute_result"
    }
   ],
   "source": [
    "confusion_matrix(y_test, y_predict)"
   ]
  },
  {
   "cell_type": "code",
   "execution_count": 318,
   "metadata": {},
   "outputs": [
    {
     "name": "stdout",
     "output_type": "stream",
     "text": [
      "precision:  0.629370629371\n",
      "recall:  1.0\n"
     ]
    }
   ],
   "source": [
    "print('precision: ',precision_score(y_test, y_predict))\n",
    "\n",
    "print('recall: ', recall_score(y_test, y_predict))"
   ]
  },
  {
   "cell_type": "markdown",
   "metadata": {},
   "source": [
    "# Comparacion de Modelos\n",
    "Es importante llevar un registro de los resultados de nuestros modelos y los hyperparametros que utilizamos, para ir comparando y ajustando los modelos. En nuestra función de gradient descent esta implementado un registro a bitacora, que almacena cada ejecucion de la funcion.\n",
    "\n",
    "Este registro almacena datos que nos van a servir para comprar los modelos y tambien almacena los valores theta del modelo, por lo que podemos guardar los modelos y utlizarlos despues.\n",
    "A continuacion vamos a desplegar en la siguiente celda y nos va ayudar a tomar una decisión de cual es el mejor modelo.\n",
    "\n",
    "Es recomendable que, luego de analizar los resultados del registro ejecutemos de nuevo alguno de los modelos cambiando los hyperparametros o numero de ejemplos y ver con cuales obtenemos mejores resultados.\n",
    "\n",
    "Podemos ejecutar la funcion `helper.guardar_log_book(log_book)` para almacenar en disco los modelos.\n",
    "\n",
    "Para el ultimo paso donde exportamos el modelo debemos utilizar la funcion `helper.filter_log_book(log_book, nombre_modelo)` para obtener el mejor modelo y exportalo."
   ]
  },
  {
   "cell_type": "code",
   "execution_count": 319,
   "metadata": {},
   "outputs": [
    {
     "data": {
      "text/html": [
       "<div>\n",
       "<style>\n",
       "    .dataframe thead tr:only-child th {\n",
       "        text-align: right;\n",
       "    }\n",
       "\n",
       "    .dataframe thead th {\n",
       "        text-align: left;\n",
       "    }\n",
       "\n",
       "    .dataframe tbody tr th {\n",
       "        vertical-align: top;\n",
       "    }\n",
       "</style>\n",
       "<table border=\"1\" class=\"dataframe\">\n",
       "  <thead>\n",
       "    <tr style=\"text-align: right;\">\n",
       "      <th></th>\n",
       "      <th>Nombre Modelo</th>\n",
       "      <th>Numero de features</th>\n",
       "      <th>Numero de ejemplos</th>\n",
       "      <th>Alpha</th>\n",
       "      <th>Numero de Iteraciones</th>\n",
       "      <th>Accuracy Training</th>\n",
       "      <th>Accuracy Test</th>\n",
       "      <th>F1 score Test</th>\n",
       "      <th>Precision Test</th>\n",
       "      <th>Recall Test</th>\n",
       "    </tr>\n",
       "  </thead>\n",
       "  <tbody>\n",
       "    <tr>\n",
       "      <th>0</th>\n",
       "      <td>modelo_1_011042024717</td>\n",
       "      <td>5</td>\n",
       "      <td>150</td>\n",
       "      <td>0.010</td>\n",
       "      <td>500</td>\n",
       "      <td>0.626667</td>\n",
       "      <td>0.629371</td>\n",
       "      <td>0.772532</td>\n",
       "      <td>0.629371</td>\n",
       "      <td>1.0</td>\n",
       "    </tr>\n",
       "    <tr>\n",
       "      <th>1</th>\n",
       "      <td>modelo_1_011046782958</td>\n",
       "      <td>5</td>\n",
       "      <td>150</td>\n",
       "      <td>0.010</td>\n",
       "      <td>500</td>\n",
       "      <td>0.626667</td>\n",
       "      <td>0.629371</td>\n",
       "      <td>0.772532</td>\n",
       "      <td>0.629371</td>\n",
       "      <td>1.0</td>\n",
       "    </tr>\n",
       "    <tr>\n",
       "      <th>2</th>\n",
       "      <td>modelo_1_011047574328</td>\n",
       "      <td>5</td>\n",
       "      <td>150</td>\n",
       "      <td>0.010</td>\n",
       "      <td>500</td>\n",
       "      <td>0.733333</td>\n",
       "      <td>0.629371</td>\n",
       "      <td>0.772532</td>\n",
       "      <td>0.629371</td>\n",
       "      <td>1.0</td>\n",
       "    </tr>\n",
       "    <tr>\n",
       "      <th>3</th>\n",
       "      <td>modelo_1_011050700359</td>\n",
       "      <td>5</td>\n",
       "      <td>150</td>\n",
       "      <td>0.010</td>\n",
       "      <td>500</td>\n",
       "      <td>0.606667</td>\n",
       "      <td>0.629371</td>\n",
       "      <td>0.772532</td>\n",
       "      <td>0.629371</td>\n",
       "      <td>1.0</td>\n",
       "    </tr>\n",
       "    <tr>\n",
       "      <th>4</th>\n",
       "      <td>modelo_1_011052876559</td>\n",
       "      <td>5</td>\n",
       "      <td>150</td>\n",
       "      <td>0.020</td>\n",
       "      <td>500</td>\n",
       "      <td>0.606667</td>\n",
       "      <td>0.629371</td>\n",
       "      <td>0.772532</td>\n",
       "      <td>0.629371</td>\n",
       "      <td>1.0</td>\n",
       "    </tr>\n",
       "    <tr>\n",
       "      <th>5</th>\n",
       "      <td>modelo_1_011053632845</td>\n",
       "      <td>5</td>\n",
       "      <td>150</td>\n",
       "      <td>0.015</td>\n",
       "      <td>500</td>\n",
       "      <td>0.606667</td>\n",
       "      <td>0.370629</td>\n",
       "      <td>0.000000</td>\n",
       "      <td>0.000000</td>\n",
       "      <td>0.0</td>\n",
       "    </tr>\n",
       "    <tr>\n",
       "      <th>6</th>\n",
       "      <td>modelo_1_011053462149</td>\n",
       "      <td>5</td>\n",
       "      <td>150</td>\n",
       "      <td>0.005</td>\n",
       "      <td>500</td>\n",
       "      <td>0.606667</td>\n",
       "      <td>0.629371</td>\n",
       "      <td>0.772532</td>\n",
       "      <td>0.629371</td>\n",
       "      <td>1.0</td>\n",
       "    </tr>\n",
       "    <tr>\n",
       "      <th>7</th>\n",
       "      <td>modelo_1_011054156147</td>\n",
       "      <td>5</td>\n",
       "      <td>150</td>\n",
       "      <td>0.008</td>\n",
       "      <td>500</td>\n",
       "      <td>0.606667</td>\n",
       "      <td>0.629371</td>\n",
       "      <td>0.772532</td>\n",
       "      <td>0.629371</td>\n",
       "      <td>1.0</td>\n",
       "    </tr>\n",
       "    <tr>\n",
       "      <th>8</th>\n",
       "      <td>modelo_2_011102996735</td>\n",
       "      <td>3</td>\n",
       "      <td>400</td>\n",
       "      <td>0.050</td>\n",
       "      <td>1000</td>\n",
       "      <td>0.595000</td>\n",
       "      <td>0.629371</td>\n",
       "      <td>0.772532</td>\n",
       "      <td>0.629371</td>\n",
       "      <td>1.0</td>\n",
       "    </tr>\n",
       "    <tr>\n",
       "      <th>9</th>\n",
       "      <td>modelo_2_011103679824</td>\n",
       "      <td>3</td>\n",
       "      <td>400</td>\n",
       "      <td>0.030</td>\n",
       "      <td>1000</td>\n",
       "      <td>0.595000</td>\n",
       "      <td>0.629371</td>\n",
       "      <td>0.772532</td>\n",
       "      <td>0.629371</td>\n",
       "      <td>1.0</td>\n",
       "    </tr>\n",
       "    <tr>\n",
       "      <th>10</th>\n",
       "      <td>modelo_2_011106007420</td>\n",
       "      <td>3</td>\n",
       "      <td>400</td>\n",
       "      <td>0.050</td>\n",
       "      <td>1000</td>\n",
       "      <td>0.675000</td>\n",
       "      <td>0.629371</td>\n",
       "      <td>0.772532</td>\n",
       "      <td>0.629371</td>\n",
       "      <td>1.0</td>\n",
       "    </tr>\n",
       "    <tr>\n",
       "      <th>11</th>\n",
       "      <td>modelo_3_011108487691</td>\n",
       "      <td>4</td>\n",
       "      <td>460</td>\n",
       "      <td>0.020</td>\n",
       "      <td>1500</td>\n",
       "      <td>0.656522</td>\n",
       "      <td>0.629371</td>\n",
       "      <td>0.772532</td>\n",
       "      <td>0.629371</td>\n",
       "      <td>1.0</td>\n",
       "    </tr>\n",
       "    <tr>\n",
       "      <th>12</th>\n",
       "      <td>modelo_4_011109785028</td>\n",
       "      <td>5</td>\n",
       "      <td>460</td>\n",
       "      <td>0.030</td>\n",
       "      <td>1000</td>\n",
       "      <td>0.621739</td>\n",
       "      <td>0.629371</td>\n",
       "      <td>0.772532</td>\n",
       "      <td>0.629371</td>\n",
       "      <td>1.0</td>\n",
       "    </tr>\n",
       "    <tr>\n",
       "      <th>13</th>\n",
       "      <td>modelo_5_011110934484</td>\n",
       "      <td>5</td>\n",
       "      <td>460</td>\n",
       "      <td>0.005</td>\n",
       "      <td>2000</td>\n",
       "      <td>0.634783</td>\n",
       "      <td>0.629371</td>\n",
       "      <td>0.772532</td>\n",
       "      <td>0.629371</td>\n",
       "      <td>1.0</td>\n",
       "    </tr>\n",
       "    <tr>\n",
       "      <th>14</th>\n",
       "      <td>modelo_1_011114290945</td>\n",
       "      <td>3</td>\n",
       "      <td>150</td>\n",
       "      <td>0.100</td>\n",
       "      <td>500</td>\n",
       "      <td>0.686667</td>\n",
       "      <td>0.629371</td>\n",
       "      <td>0.772532</td>\n",
       "      <td>0.629371</td>\n",
       "      <td>1.0</td>\n",
       "    </tr>\n",
       "    <tr>\n",
       "      <th>15</th>\n",
       "      <td>modelo_1_011116577754</td>\n",
       "      <td>4</td>\n",
       "      <td>150</td>\n",
       "      <td>0.100</td>\n",
       "      <td>500</td>\n",
       "      <td>0.600000</td>\n",
       "      <td>0.629371</td>\n",
       "      <td>0.772532</td>\n",
       "      <td>0.629371</td>\n",
       "      <td>1.0</td>\n",
       "    </tr>\n",
       "    <tr>\n",
       "      <th>16</th>\n",
       "      <td>modelo_1_011117331633</td>\n",
       "      <td>2</td>\n",
       "      <td>150</td>\n",
       "      <td>0.100</td>\n",
       "      <td>500</td>\n",
       "      <td>0.600000</td>\n",
       "      <td>0.629371</td>\n",
       "      <td>0.772532</td>\n",
       "      <td>0.629371</td>\n",
       "      <td>1.0</td>\n",
       "    </tr>\n",
       "    <tr>\n",
       "      <th>17</th>\n",
       "      <td>modelo_1_011118116244</td>\n",
       "      <td>3</td>\n",
       "      <td>150</td>\n",
       "      <td>0.100</td>\n",
       "      <td>500</td>\n",
       "      <td>0.653333</td>\n",
       "      <td>0.629371</td>\n",
       "      <td>0.772532</td>\n",
       "      <td>0.629371</td>\n",
       "      <td>1.0</td>\n",
       "    </tr>\n",
       "    <tr>\n",
       "      <th>18</th>\n",
       "      <td>modelo_1_011119350786</td>\n",
       "      <td>5</td>\n",
       "      <td>150</td>\n",
       "      <td>0.050</td>\n",
       "      <td>500</td>\n",
       "      <td>0.573333</td>\n",
       "      <td>0.629371</td>\n",
       "      <td>0.772532</td>\n",
       "      <td>0.629371</td>\n",
       "      <td>1.0</td>\n",
       "    </tr>\n",
       "    <tr>\n",
       "      <th>19</th>\n",
       "      <td>modelo_1_011119692655</td>\n",
       "      <td>5</td>\n",
       "      <td>150</td>\n",
       "      <td>0.005</td>\n",
       "      <td>500</td>\n",
       "      <td>0.573333</td>\n",
       "      <td>0.370629</td>\n",
       "      <td>0.000000</td>\n",
       "      <td>0.000000</td>\n",
       "      <td>0.0</td>\n",
       "    </tr>\n",
       "    <tr>\n",
       "      <th>20</th>\n",
       "      <td>modelo_1_011120352544</td>\n",
       "      <td>5</td>\n",
       "      <td>150</td>\n",
       "      <td>0.050</td>\n",
       "      <td>500</td>\n",
       "      <td>0.573333</td>\n",
       "      <td>0.629371</td>\n",
       "      <td>0.772532</td>\n",
       "      <td>0.629371</td>\n",
       "      <td>1.0</td>\n",
       "    </tr>\n",
       "    <tr>\n",
       "      <th>21</th>\n",
       "      <td>modelo_2_011121930499</td>\n",
       "      <td>3</td>\n",
       "      <td>400</td>\n",
       "      <td>0.005</td>\n",
       "      <td>1000</td>\n",
       "      <td>0.662500</td>\n",
       "      <td>0.629371</td>\n",
       "      <td>0.772532</td>\n",
       "      <td>0.629371</td>\n",
       "      <td>1.0</td>\n",
       "    </tr>\n",
       "    <tr>\n",
       "      <th>22</th>\n",
       "      <td>modelo_2_011121623945</td>\n",
       "      <td>3</td>\n",
       "      <td>400</td>\n",
       "      <td>0.008</td>\n",
       "      <td>1000</td>\n",
       "      <td>0.662500</td>\n",
       "      <td>0.629371</td>\n",
       "      <td>0.772532</td>\n",
       "      <td>0.629371</td>\n",
       "      <td>1.0</td>\n",
       "    </tr>\n",
       "    <tr>\n",
       "      <th>23</th>\n",
       "      <td>modelo_2_011122819286</td>\n",
       "      <td>3</td>\n",
       "      <td>400</td>\n",
       "      <td>0.005</td>\n",
       "      <td>1000</td>\n",
       "      <td>0.662500</td>\n",
       "      <td>0.629371</td>\n",
       "      <td>0.772532</td>\n",
       "      <td>0.629371</td>\n",
       "      <td>1.0</td>\n",
       "    </tr>\n",
       "    <tr>\n",
       "      <th>24</th>\n",
       "      <td>modelo_5_011126781571</td>\n",
       "      <td>5</td>\n",
       "      <td>460</td>\n",
       "      <td>0.010</td>\n",
       "      <td>2000</td>\n",
       "      <td>0.632609</td>\n",
       "      <td>0.629371</td>\n",
       "      <td>0.772532</td>\n",
       "      <td>0.629371</td>\n",
       "      <td>1.0</td>\n",
       "    </tr>\n",
       "    <tr>\n",
       "      <th>25</th>\n",
       "      <td>modelo_1_011130490569</td>\n",
       "      <td>2</td>\n",
       "      <td>150</td>\n",
       "      <td>0.100</td>\n",
       "      <td>500</td>\n",
       "      <td>0.620000</td>\n",
       "      <td>0.629371</td>\n",
       "      <td>0.772532</td>\n",
       "      <td>0.629371</td>\n",
       "      <td>1.0</td>\n",
       "    </tr>\n",
       "    <tr>\n",
       "      <th>26</th>\n",
       "      <td>modelo_2_011131925770</td>\n",
       "      <td>3</td>\n",
       "      <td>400</td>\n",
       "      <td>0.050</td>\n",
       "      <td>1000</td>\n",
       "      <td>0.585000</td>\n",
       "      <td>0.370629</td>\n",
       "      <td>0.000000</td>\n",
       "      <td>0.000000</td>\n",
       "      <td>0.0</td>\n",
       "    </tr>\n",
       "    <tr>\n",
       "      <th>27</th>\n",
       "      <td>modelo_3_011131636304</td>\n",
       "      <td>4</td>\n",
       "      <td>460</td>\n",
       "      <td>0.020</td>\n",
       "      <td>1500</td>\n",
       "      <td>0.639130</td>\n",
       "      <td>0.629371</td>\n",
       "      <td>0.772532</td>\n",
       "      <td>0.629371</td>\n",
       "      <td>1.0</td>\n",
       "    </tr>\n",
       "    <tr>\n",
       "      <th>28</th>\n",
       "      <td>modelo_4_011132112945</td>\n",
       "      <td>5</td>\n",
       "      <td>460</td>\n",
       "      <td>0.030</td>\n",
       "      <td>1000</td>\n",
       "      <td>0.389130</td>\n",
       "      <td>0.629371</td>\n",
       "      <td>0.772532</td>\n",
       "      <td>0.629371</td>\n",
       "      <td>1.0</td>\n",
       "    </tr>\n",
       "    <tr>\n",
       "      <th>29</th>\n",
       "      <td>modelo_5_011132201623</td>\n",
       "      <td>5</td>\n",
       "      <td>460</td>\n",
       "      <td>0.010</td>\n",
       "      <td>2000</td>\n",
       "      <td>0.645652</td>\n",
       "      <td>0.629371</td>\n",
       "      <td>0.772532</td>\n",
       "      <td>0.629371</td>\n",
       "      <td>1.0</td>\n",
       "    </tr>\n",
       "  </tbody>\n",
       "</table>\n",
       "</div>"
      ],
      "text/plain": [
       "            Nombre Modelo Numero de features Numero de ejemplos  Alpha  \\\n",
       "0   modelo_1_011042024717                  5                150  0.010   \n",
       "1   modelo_1_011046782958                  5                150  0.010   \n",
       "2   modelo_1_011047574328                  5                150  0.010   \n",
       "3   modelo_1_011050700359                  5                150  0.010   \n",
       "4   modelo_1_011052876559                  5                150  0.020   \n",
       "5   modelo_1_011053632845                  5                150  0.015   \n",
       "6   modelo_1_011053462149                  5                150  0.005   \n",
       "7   modelo_1_011054156147                  5                150  0.008   \n",
       "8   modelo_2_011102996735                  3                400  0.050   \n",
       "9   modelo_2_011103679824                  3                400  0.030   \n",
       "10  modelo_2_011106007420                  3                400  0.050   \n",
       "11  modelo_3_011108487691                  4                460  0.020   \n",
       "12  modelo_4_011109785028                  5                460  0.030   \n",
       "13  modelo_5_011110934484                  5                460  0.005   \n",
       "14  modelo_1_011114290945                  3                150  0.100   \n",
       "15  modelo_1_011116577754                  4                150  0.100   \n",
       "16  modelo_1_011117331633                  2                150  0.100   \n",
       "17  modelo_1_011118116244                  3                150  0.100   \n",
       "18  modelo_1_011119350786                  5                150  0.050   \n",
       "19  modelo_1_011119692655                  5                150  0.005   \n",
       "20  modelo_1_011120352544                  5                150  0.050   \n",
       "21  modelo_2_011121930499                  3                400  0.005   \n",
       "22  modelo_2_011121623945                  3                400  0.008   \n",
       "23  modelo_2_011122819286                  3                400  0.005   \n",
       "24  modelo_5_011126781571                  5                460  0.010   \n",
       "25  modelo_1_011130490569                  2                150  0.100   \n",
       "26  modelo_2_011131925770                  3                400  0.050   \n",
       "27  modelo_3_011131636304                  4                460  0.020   \n",
       "28  modelo_4_011132112945                  5                460  0.030   \n",
       "29  modelo_5_011132201623                  5                460  0.010   \n",
       "\n",
       "   Numero de Iteraciones  Accuracy Training  Accuracy Test  F1 score Test  \\\n",
       "0                    500           0.626667       0.629371       0.772532   \n",
       "1                    500           0.626667       0.629371       0.772532   \n",
       "2                    500           0.733333       0.629371       0.772532   \n",
       "3                    500           0.606667       0.629371       0.772532   \n",
       "4                    500           0.606667       0.629371       0.772532   \n",
       "5                    500           0.606667       0.370629       0.000000   \n",
       "6                    500           0.606667       0.629371       0.772532   \n",
       "7                    500           0.606667       0.629371       0.772532   \n",
       "8                   1000           0.595000       0.629371       0.772532   \n",
       "9                   1000           0.595000       0.629371       0.772532   \n",
       "10                  1000           0.675000       0.629371       0.772532   \n",
       "11                  1500           0.656522       0.629371       0.772532   \n",
       "12                  1000           0.621739       0.629371       0.772532   \n",
       "13                  2000           0.634783       0.629371       0.772532   \n",
       "14                   500           0.686667       0.629371       0.772532   \n",
       "15                   500           0.600000       0.629371       0.772532   \n",
       "16                   500           0.600000       0.629371       0.772532   \n",
       "17                   500           0.653333       0.629371       0.772532   \n",
       "18                   500           0.573333       0.629371       0.772532   \n",
       "19                   500           0.573333       0.370629       0.000000   \n",
       "20                   500           0.573333       0.629371       0.772532   \n",
       "21                  1000           0.662500       0.629371       0.772532   \n",
       "22                  1000           0.662500       0.629371       0.772532   \n",
       "23                  1000           0.662500       0.629371       0.772532   \n",
       "24                  2000           0.632609       0.629371       0.772532   \n",
       "25                   500           0.620000       0.629371       0.772532   \n",
       "26                  1000           0.585000       0.370629       0.000000   \n",
       "27                  1500           0.639130       0.629371       0.772532   \n",
       "28                  1000           0.389130       0.629371       0.772532   \n",
       "29                  2000           0.645652       0.629371       0.772532   \n",
       "\n",
       "    Precision Test  Recall Test  \n",
       "0         0.629371          1.0  \n",
       "1         0.629371          1.0  \n",
       "2         0.629371          1.0  \n",
       "3         0.629371          1.0  \n",
       "4         0.629371          1.0  \n",
       "5         0.000000          0.0  \n",
       "6         0.629371          1.0  \n",
       "7         0.629371          1.0  \n",
       "8         0.629371          1.0  \n",
       "9         0.629371          1.0  \n",
       "10        0.629371          1.0  \n",
       "11        0.629371          1.0  \n",
       "12        0.629371          1.0  \n",
       "13        0.629371          1.0  \n",
       "14        0.629371          1.0  \n",
       "15        0.629371          1.0  \n",
       "16        0.629371          1.0  \n",
       "17        0.629371          1.0  \n",
       "18        0.629371          1.0  \n",
       "19        0.000000          0.0  \n",
       "20        0.629371          1.0  \n",
       "21        0.629371          1.0  \n",
       "22        0.629371          1.0  \n",
       "23        0.629371          1.0  \n",
       "24        0.629371          1.0  \n",
       "25        0.629371          1.0  \n",
       "26        0.000000          0.0  \n",
       "27        0.629371          1.0  \n",
       "28        0.629371          1.0  \n",
       "29        0.629371          1.0  "
      ]
     },
     "execution_count": 319,
     "metadata": {},
     "output_type": "execute_result"
    }
   ],
   "source": [
    "helper.print_log_book(log_book)"
   ]
  },
  {
   "cell_type": "markdown",
   "metadata": {},
   "source": [
    "### Guardando la bitacora"
   ]
  },
  {
   "cell_type": "code",
   "execution_count": null,
   "metadata": {
    "collapsed": true
   },
   "outputs": [],
   "source": [
    "helper.guardar_log_book(log_book)"
   ]
  },
  {
   "cell_type": "markdown",
   "metadata": {},
   "source": [
    "## Exportar el modelo\n",
    "\n",
    "Vamos a exportar el modelo para poder hacer deploy, ** el modelo exportado debe tener las cinco primeras feautures **. Por lo cual de todos tus experimentos, selecciona el mejor modelo que cumpla con usar las 5 features ya mencionadas.\n",
    "\n",
    "Selecciona tu mejor modelo:"
   ]
  },
  {
   "cell_type": "markdown",
   "metadata": {},
   "source": [
    "### Seleccionamos el mejor modelo\n",
    "\n",
    "Para seleccionar un modelo utilizamos la funcion `helper.filter_log_book()`.\n",
    "\n",
    "Esta funcion recibe de parametros la bitacora y el nombre del modelo que elegiste como el mejor\n",
    "\n",
    "`helper.filter_log_book(log_book, <nombre de nuestro mejor modelo>)`"
   ]
  },
  {
   "cell_type": "code",
   "execution_count": null,
   "metadata": {
    "collapsed": true
   },
   "outputs": [],
   "source": [
    "### INICIO: TU CODIGO AQUI:  (~1 linea)###\n",
    "modelo = \n",
    "\n",
    "print(modelo)"
   ]
  },
  {
   "cell_type": "markdown",
   "metadata": {},
   "source": [
    "Se va a utilizar el siguiente codigo para guardar el modelo elegido en un archivo.\n",
    "\n",
    "Esto genera 2 archivos, en un archivo _model.csv se tienen los parametros de el modelo elegido.\n",
    "\n",
    "El segundo archivo llamado _momentos.csv guarda la media y desviacion estandar de cada features, esto sera utilizado\n",
    "en la aplicacion hecha por el profesor para aplicar normalizacion al realizar predicciones.\n",
    "\n",
    "No hay que cambiar nada de codigo, solo hay que ejecutar la celda para exportar nuestro modelo y luego enviar los archivos .csv al profesor"
   ]
  },
  {
   "cell_type": "code",
   "execution_count": null,
   "metadata": {
    "collapsed": true
   },
   "outputs": [],
   "source": [
    "import csv\n",
    "\n",
    "def exportar_modelo(model,carnet):\n",
    "    norm_std, norm_media = helper.get_normalizacion_vales(X_train[:,0:5])\n",
    "    with open(carnet + '_model.csv', 'w') as csvfile:\n",
    "        filewriter = csv.writer(csvfile, delimiter=',',quotechar='|', quoting=csv.QUOTE_MINIMAL)\n",
    "        filewriter.writerow(model)\n",
    "        \n",
    "    with open(carnet + '_momentos.csv', 'w') as csvfile:\n",
    "        filewriter = csv.writer(csvfile, delimiter=',',quotechar='|', quoting=csv.QUOTE_MINIMAL)\n",
    "        filewriter.writerow(norm_std)\n",
    "        filewriter.writerow(norm_media)\n",
    "        \n",
    "    print('El modelo ha sido exportado [',csvfile.name,']')\n",
    "    \n",
    "exportar_modelo(modelo,carnet)"
   ]
  },
  {
   "cell_type": "markdown",
   "metadata": {},
   "source": [
    "<img src=\"images/ai_cancer.png\" width=\"700\">"
   ]
  },
  {
   "cell_type": "markdown",
   "metadata": {},
   "source": [
    "# Una vez elegido y exportado tu modelo , debes enviar los archivos .csv resultantes al profesor por correo"
   ]
  },
  {
   "cell_type": "code",
   "execution_count": null,
   "metadata": {
    "collapsed": true
   },
   "outputs": [],
   "source": []
  }
 ],
 "metadata": {
  "kernelspec": {
   "display_name": "Python 3",
   "language": "python",
   "name": "python3"
  },
  "language_info": {
   "codemirror_mode": {
    "name": "ipython",
    "version": 3
   },
   "file_extension": ".py",
   "mimetype": "text/x-python",
   "name": "python",
   "nbconvert_exporter": "python",
   "pygments_lexer": "ipython3",
   "version": "3.6.3"
  }
 },
 "nbformat": 4,
 "nbformat_minor": 2
}
